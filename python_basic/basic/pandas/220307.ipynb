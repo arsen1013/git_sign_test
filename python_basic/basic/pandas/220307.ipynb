{
 "cells": [
  {
   "cell_type": "markdown",
   "metadata": {},
   "source": [
    "클래스 생성하기 "
   ]
  },
  {
   "cell_type": "code",
   "execution_count": 32,
   "metadata": {},
   "outputs": [],
   "source": [
    "class class_1():\n",
    "    def func_1(self):\n",
    "        print(\"Hello World\") "
   ]
  },
  {
   "cell_type": "code",
   "execution_count": 33,
   "metadata": {},
   "outputs": [
    {
     "name": "stdout",
     "output_type": "stream",
     "text": [
      "Hello World\n"
     ]
    }
   ],
   "source": [
    "# 클래스를 생성하는(불러오는) 과정이다. \n",
    "a = class_1() \n",
    "a.func_1() \n",
    "#판다스, 넘파이, 멧플롭 립 같은 경우 위에서 별칭적고, 별칭.함수 로 불러왔다. \n",
    "# 그것과 똑같은 방식으로 불러온다. \n",
    "#모든 라이브러리는 클래스 안의 함수로 되어있는 모듈이다. \n",
    "\n"
   ]
  },
  {
   "cell_type": "code",
   "execution_count": 34,
   "metadata": {},
   "outputs": [
    {
     "data": {
      "text/plain": [
       "<bound method class_2.func_2 of <__main__.class_2 object at 0x0000017D22EF6D70>>"
      ]
     },
     "execution_count": 34,
     "metadata": {},
     "output_type": "execute_result"
    }
   ],
   "source": [
    "class class_2():\n",
    "    def func_2():\n",
    "        print(\"Hello World\")\n",
    "\n",
    "\n",
    "b = class_2() #b 라는 애한테 calss_2 생성 \n",
    "b.func_2"
   ]
  },
  {
   "cell_type": "markdown",
   "metadata": {},
   "source": [
    "여기서 b라는 것이 self 에 들어간다. \n",
    "클래스를 호출하는 객체 b라는 것이 자연스럽게 인자값으로 들어간다. 매개변수가 없다. 그래서 func_2()안에 self를 넣어줘야 한다. 이렇게 까지 보면 함수랑 큰 차이가 없는데, self는 매개변수다. \n",
    "\n",
    "self는 매개변수 를 딱히 입력할 필요 없이 자동으로 들어간다. "
   ]
  },
  {
   "cell_type": "markdown",
   "metadata": {},
   "source": [
    "클래스 변수 \n",
    "\n",
    "\n",
    "같은 클래스에서 생성된 객체들은 서로 독립적인데, 객체들끼리 서로의 정보를 공유하는 방법으로 클래스 변수가 있다. "
   ]
  },
  {
   "cell_type": "code",
   "execution_count": 35,
   "metadata": {},
   "outputs": [
    {
     "name": "stdout",
     "output_type": "stream",
     "text": [
      "Hello World\n"
     ]
    }
   ],
   "source": [
    "class class_2():\n",
    "    def func_2(self):\n",
    "        print(\"Hello World\")\n",
    "\n",
    "b = class_2() #b 라는 애한테 calss_2 생성 \n",
    "b.func_2()"
   ]
  },
  {
   "cell_type": "code",
   "execution_count": 36,
   "metadata": {},
   "outputs": [],
   "source": [
    "class class_3():\n",
    "    def __init__(self, input_a, input_b):\n",
    "        self.a = input_a\n",
    "        self.b = input_b\n",
    "c = class_3(\"test\", \"test2\")\n",
    "# c에 인자값을 test,test2 로 줌  \n",
    "#매개변수 인자값을 안 줘도 값이 알아서 자동적으로 들어갈 수 있다. "
   ]
  },
  {
   "cell_type": "markdown",
   "metadata": {},
   "source": [
    "__init__ 함수 내부가 비었으면 그냥 지우는 것이 낫다. 빈 함수는 가지고 있을 이유가 없고, "
   ]
  },
  {
   "cell_type": "markdown",
   "metadata": {},
   "source": [
    "init 라는 함수는 클래스를 실행할때, init이라는 함수가 같이 돈다. \n",
    "위에 function 하나를 불러왔다.  \n",
    "생성 하고나서 function 하나를 불러왔다. \n",
    "\n",
    "그런데 init라는 함수는 클래스를 생성할때 바로 실행한다.(불러온다.) \n",
    "\n",
    "init를 실행하는데, 매개변수가 없으면 실행되지 않는다. self는 자기자신이라는 매개변수다. \n",
    "\n",
    "변수에 입력받은 값들을 지정해서 가져오는데, 리턴을 아무것도 하지 않으면 a라고 하는 변수를 불러오는 방법은? "
   ]
  },
  {
   "cell_type": "code",
   "execution_count": 37,
   "metadata": {},
   "outputs": [
    {
     "data": {
      "text/plain": [
       "'test'"
      ]
     },
     "execution_count": 37,
     "metadata": {},
     "output_type": "execute_result"
    }
   ],
   "source": [
    "c.a"
   ]
  },
  {
   "cell_type": "code",
   "execution_count": 38,
   "metadata": {},
   "outputs": [
    {
     "data": {
      "text/plain": [
       "'test2'"
      ]
     },
     "execution_count": 38,
     "metadata": {},
     "output_type": "execute_result"
    }
   ],
   "source": [
    "c.b "
   ]
  },
  {
   "cell_type": "markdown",
   "metadata": {},
   "source": [
    "클래스를 사용하는 이유 "
   ]
  },
  {
   "cell_type": "code",
   "execution_count": 39,
   "metadata": {},
   "outputs": [],
   "source": [
    "d = class_3(\"test3\", \"test4\")"
   ]
  },
  {
   "cell_type": "code",
   "execution_count": 40,
   "metadata": {},
   "outputs": [
    {
     "data": {
      "text/plain": [
       "'test3'"
      ]
     },
     "execution_count": 40,
     "metadata": {},
     "output_type": "execute_result"
    }
   ],
   "source": [
    "d.a"
   ]
  },
  {
   "cell_type": "code",
   "execution_count": 41,
   "metadata": {},
   "outputs": [
    {
     "data": {
      "text/plain": [
       "'test'"
      ]
     },
     "execution_count": 41,
     "metadata": {},
     "output_type": "execute_result"
    }
   ],
   "source": [
    "c.a"
   ]
  },
  {
   "cell_type": "markdown",
   "metadata": {},
   "source": [
    "c에는 test 1,2rk 저장되었고 \n",
    "d 에 는 c에 저장한것과 무관하게 test 3,4 가 저장됐다 "
   ]
  },
  {
   "cell_type": "markdown",
   "metadata": {},
   "source": [
    "클래스는 독립공간인데, 독립공간에서 함수를 교환? 한다? \n"
   ]
  },
  {
   "cell_type": "code",
   "execution_count": 42,
   "metadata": {},
   "outputs": [
    {
     "data": {
      "text/plain": [
       "1636990823152"
      ]
     },
     "execution_count": 42,
     "metadata": {},
     "output_type": "execute_result"
    }
   ],
   "source": [
    "id(c.b)"
   ]
  },
  {
   "cell_type": "code",
   "execution_count": 43,
   "metadata": {},
   "outputs": [
    {
     "ename": "SyntaxError",
     "evalue": "invalid syntax (3140080434.py, line 11)",
     "output_type": "error",
     "traceback": [
      "\u001b[1;36m  Input \u001b[1;32mIn [43]\u001b[1;36m\u001b[0m\n\u001b[1;33m    def__init__(self, input_C):\u001b[0m\n\u001b[1;37m                              ^\u001b[0m\n\u001b[1;31mSyntaxError\u001b[0m\u001b[1;31m:\u001b[0m invalid syntax\n"
     ]
    }
   ],
   "source": [
    "class class_4():\n",
    "\n",
    "    name = \"test\"\n",
    "    #왜 여기에 self를 붙이지 않을까? \n",
    "    #self는 자기 자신을 뜻하므로 내가 어떤 클래스 값을 가져올지를 뜻한다. \n",
    "    \n",
    "    #여기서는 모든 클래스에 저장되있는 값이므로 다 똑같은 값이 들어있음 \n",
    "    #self를 붙이면 내가 저장되어있는 값이기 때문에 A라는 클래스를 선언하면 클래스 생성하면 \n",
    "    #A라는 공간에 변수값과 함수값이 지정된다. self를 적지 않으면 class4를 선언한 공간에 name 라는 변수값이 지정되어있다. \n",
    "\n",
    "    def__init__(self, input_C):\n",
    "        self.c = input_C\n"
   ]
  },
  {
   "cell_type": "code",
   "execution_count": null,
   "metadata": {},
   "outputs": [],
   "source": [
    "class class_4(): \n",
    "    #이 하위 모드 클래스가 공유하는 공간을 생성\n",
    "\n",
    "    name = \"test\" #name 은 클래스 변수  : 클래스4 내에서 공유하는 변수 .\n",
    "    #init 클래스 생성되기 전에 여기에 클래스 기본 변수를 만들어준다. \n",
    "    # (이 하위 )변수들이 공우하게 하기 위함 \n",
    "    #self가 붙게 되면 a인지 b인지 c인지 확인하게 됨. \n",
    "\n",
    "    def __init__(self, input_C):\n",
    "        self.c = input_C\n",
    "        \n",
    "\n",
    "\n",
    "a = class_4(\"123\")\n",
    "b = class_4(\"456\")\n",
    "c = class_4(\"789\")"
   ]
  },
  {
   "cell_type": "code",
   "execution_count": null,
   "metadata": {},
   "outputs": [
    {
     "name": "stdout",
     "output_type": "stream",
     "text": [
      "test test test\n",
      "123 456 789\n",
      "1636908633456\n",
      "1636908633456\n",
      "1636908633456\n",
      "1636950868720\n",
      "1636990724976\n",
      "1636955076464\n"
     ]
    }
   ],
   "source": [
    "print(a.name, b.name, c.name)\n",
    "print(a.c, b.c, c.c)\n",
    "print(id(a.name)) #id  : 어디에 있는 메모리에 할당되었는지 주소를가져오는 것 \n",
    "print(id(b.name))\n",
    "print(id(c.name))\n",
    "print(id(a.c))\n",
    "print(id(b.c))\n",
    "print(id(c.c))"
   ]
  },
  {
   "cell_type": "code",
   "execution_count": null,
   "metadata": {},
   "outputs": [
    {
     "name": "stdout",
     "output_type": "stream",
     "text": [
      "['01012345678', '01098765432'] ['01012345678', '01098765432']\n"
     ]
    }
   ],
   "source": [
    "#이렇게 자면 안되는 대표적인 코드의 예시\n",
    "\n",
    "\n",
    "class class_5():\n",
    "    _list = []\n",
    "\n",
    "    def __init__(self, input_name):\n",
    "        self.name = input_name\n",
    "\n",
    "    def add_list(self, input_phone):\n",
    "        self._list.append(input_phone)\n",
    "\n",
    "d = class_5(\"test\")\n",
    "e = class_5(\"test2\")\n",
    "d.add_list(\"01012345678\")\n",
    "e.add_list(\"01098765432\")\n",
    "print(d._list, e._list)"
   ]
  },
  {
   "cell_type": "markdown",
   "metadata": {},
   "source": [
    "원래 독립적인 애들인데, 둘이 리스트를 append를 공유했다.d와 e라는 서로 다른 독립공간의 함수가 실행되었다. 두개의 리스트가 서로 공유할 수 있게 되었다. 그러면 여기에서 \n",
    "\n",
    "이 둘을 서로 독립적으로 리스트를 만드려면 어떻게 해야할까? "
   ]
  },
  {
   "cell_type": "code",
   "execution_count": null,
   "metadata": {},
   "outputs": [
    {
     "name": "stdout",
     "output_type": "stream",
     "text": [
      "['01012345678'] ['01098765432']\n"
     ]
    }
   ],
   "source": [
    "class class_5():\n",
    "    \n",
    "\n",
    "    def __init__(self, input_name):\n",
    "        self.name = input_name #샘플코드에서 가져온거라... 그냥 무의미함. \n",
    "        self._list = [] #_list는 빈 리스트로 선언 한 것, \n",
    "\n",
    "    def add_list(self, input_phone):\n",
    "        #self._list = [] 만약 여기다 호출하면 리스트 반환할때마다 빈 리스트가 반환된다. 초기화 되어서. \n",
    "        self._list.append(input_phone) #_list에 넣은 값을 append 해주는 것 \n",
    "\n",
    "\n",
    "\n",
    "d = class_5(\"test\") #5라는 변수를 생성하겠다고 했고 초기화를 하고 나서 들어갈 거고 \n",
    "e = class_5(\"test2\") \n",
    "d.add_list(\"01012345678\") #_list에 넣은 값을 append 해준 것. \n",
    "e.add_list(\"01098765432\") \n",
    "print(d._list, e._list) "
   ]
  },
  {
   "cell_type": "code",
   "execution_count": null,
   "metadata": {},
   "outputs": [
    {
     "name": "stdout",
     "output_type": "stream",
     "text": [
      "['01012345678', '01098765432', '23456', '719345'] ['01012345678', '01098765432', '23456', '719345']\n"
     ]
    }
   ],
   "source": [
    "d.add_list(\"23456\")\n",
    "e.add_list(\"719345\")\n",
    "print(d._list, e._list)\n",
    "\n",
    "#각각의 리스트에 출력한 값이 나온다. "
   ]
  },
  {
   "cell_type": "code",
   "execution_count": null,
   "metadata": {},
   "outputs": [
    {
     "name": "stdout",
     "output_type": "stream",
     "text": [
      "test test2\n"
     ]
    }
   ],
   "source": [
    "print(d.name, e.name)"
   ]
  },
  {
   "cell_type": "markdown",
   "metadata": {},
   "source": [
    "위 값에 addlist를 또 실행하면 이 뒤에 또 추가 될 것이다. "
   ]
  },
  {
   "cell_type": "markdown",
   "metadata": {},
   "source": [
    "외부에 있는 라이브러리를 사용할때 이것이 왜 사용되는지는 알고 있어야 한다. \n",
    "벨류값을 집어넣으면 된다는 것에 대해 왜 그렇게 되는지 알고 있으면, 나중에 조금 더 복잡한 응용할때 익힐 수 있다. \n",
    "\n",
    "물론 class를 써서 작업하면 수월해 진다. 쓰는 방법을 명확히 알면 된다. \n",
    "2주 내내 class를 하면 알 수 있겠지만 시간이 그렇게 많지 않으므로 기본적인 부분은 같이 하고 \n",
    "플젝 들어가면 누군가 한명쯤 class를 써보려고 할 수도 있다. \n",
    "그때 스스로 해보면서 알것이다. \n",
    "\n",
    "클래스 사용의 이유 1 \n",
    "\n",
    "함수는 행동 \n",
    "변수는 값을 지정\n",
    "\n",
    "이것을 동시에 사용하면서 안에있는 데이터 값을 따로 출력할 수 있음 \n",
    "반복되는 작업을 여러번 할 때, 함수를 쓰듯이 \n",
    "클래스는 거기에 더해 변수까지 같이 쓸 수 있다. \n",
    "\n",
    "그래서 한 번 만들어 놓으면 그 다음에 같은 작업이 반복적으로 이용된다고 하면 함수를 사용하는 것보다 훨씬 더 수월하게 사용할 수 있다. \n",
    "\n"
   ]
  },
  {
   "cell_type": "markdown",
   "metadata": {},
   "source": [
    "클래스가 아닌 함수로 처리했을 때 이 코드를 어떻게 사용할 것인가? "
   ]
  },
  {
   "cell_type": "code",
   "execution_count": null,
   "metadata": {},
   "outputs": [
    {
     "name": "stdout",
     "output_type": "stream",
     "text": [
      "3\n",
      "8\n"
     ]
    }
   ],
   "source": [
    "sum = 0 #뭔가의 합계를 0이라고 합시다. \n",
    "\n",
    "def add(x): \n",
    "    global sum\n",
    "    #글로벌은 전역변수를 뜻한다. 밑에서 전역변수를 쓰겠다는 의미 \n",
    "    sum += x\n",
    "    return sum\n",
    "\n",
    "print(add(3))\n",
    "print(add(5))"
   ]
  },
  {
   "cell_type": "markdown",
   "metadata": {},
   "source": [
    "만약에 이런 sum이 두개다. \n",
    "sum1 이 있고 sum2 가 있다. 이 둘을 함수만을 사용해서 같이 출력하고 싶다면? \n",
    "\n",
    "def sum1 \n",
    "def sum2 "
   ]
  },
  {
   "cell_type": "code",
   "execution_count": null,
   "metadata": {},
   "outputs": [
    {
     "name": "stdout",
     "output_type": "stream",
     "text": [
      "3\n",
      "4\n",
      "13\n",
      "5\n"
     ]
    }
   ],
   "source": [
    "sum_1 = 0 \n",
    "sum_2 =0 \n",
    "\n",
    "def add_1(x):\n",
    "    global sum_1\n",
    "    sum_1 += x\n",
    "    return sum_1\n",
    "\n",
    "def add_2(x):\n",
    "    global sum_2\n",
    "    sum_2 += x\n",
    "    return sum_2\n",
    "\n",
    "print(add_1(3))\n",
    "print(add_2(4))\n",
    "print(add_1(10))\n",
    "print(add_2(1))\n"
   ]
  },
  {
   "cell_type": "markdown",
   "metadata": {},
   "source": [
    "위의 함수를 클래스로 구현한다면 어떻게 해야하는가? "
   ]
  },
  {
   "cell_type": "code",
   "execution_count": null,
   "metadata": {},
   "outputs": [
    {
     "name": "stdout",
     "output_type": "stream",
     "text": [
      "4\n",
      "7\n",
      "14\n",
      "15\n"
     ]
    }
   ],
   "source": [
    "class class_6():\n",
    "    def __init__(self):\n",
    "        #처음에 init라는 생성자 넣고, 왜 self 만 넣을까?\n",
    "        # 매개변수 따로 더 입력받을 것이 없기 때문.  \n",
    "        self.sum1 = 0 #self를 통해 독립변수를 하나 만들어 준다.\n",
    "        #왜 그냥 sum1으로 안하고 앞에 주솟값(self)를 적어주는 것일까? \n",
    "        \n",
    "\n",
    "    def add(self, input_x):\n",
    "        #더할 매개변수를 가져와야 하므로 input_x 도 넣어줌\n",
    "        self.sum1 += input_x\n",
    "\n",
    "        #여기서 여러가지 방법이 등장 \n",
    "        return self.sum1\n",
    "\n",
    "a = class_6()\n",
    "b = class_6()\n",
    "\n",
    "print(a.add(4))\n",
    "print(b.add(7))\n",
    "print(b.add(7))\n",
    "print(b.add(1))"
   ]
  },
  {
   "cell_type": "markdown",
   "metadata": {},
   "source": [
    "같은 코드인데 return 값이 없다면? 어떻게 출력 작업을 바꿔야 할가? "
   ]
  },
  {
   "cell_type": "code",
   "execution_count": null,
   "metadata": {},
   "outputs": [
    {
     "name": "stdout",
     "output_type": "stream",
     "text": [
      "4\n"
     ]
    }
   ],
   "source": [
    "class class_7():\n",
    "    def __init__(self):\n",
    "        #처음에 init라는 클래스만 넣고, 왜 self 만 넣을까?\n",
    "        # 매개변수 따로 더 입력받을 것이 없기 때문.  \n",
    "        self.sum1 = 0 #self를 통해 독립변수를 하나 만들어 준다.\n",
    "        #왜 그냥 sum1으로 안하고 앞에 주솟값(self)를 적어주는 것일까? \n",
    "        \n",
    "    \n",
    "\n",
    "    def add(self, input_x):\n",
    "        #더할 매개변수를 가져와야 하므로 input_x 도 넣어줌\n",
    "        self.sum1 += input_x\n",
    "\n",
    "\n",
    "#여기서 여러가지 방법이 등장 \n",
    "        # return self.sum1\n",
    "\n",
    "a = class_6()\n",
    "b = class_6()\n",
    "\n",
    "a.add(4)\n",
    "print(a.sum1)"
   ]
  },
  {
   "cell_type": "markdown",
   "metadata": {},
   "source": [
    "여기에 init 외에 하위의 함수 하나만 써야 될까? \n",
    "\n",
    "1. class 생성 -> 초기에 인자값 2개를 입력 받아서 변경할 수 있는 변수 a,b 2개  값들을 지정해준다. \n",
    "2. 첫번째 함수 : 변수 2개의 값을 변경하는 함수 <-- 입력받은 변수 a,b를 변경하고 싶을 수 있으니까 그럴때 쓰는 거다. \n",
    "3. 이후의 5개의 함수는 변수 2개의 +-*/% 연산의 함수를 생성 \n",
    "4. 6개의 함수를 다 실행한다.  "
   ]
  },
  {
   "cell_type": "code",
   "execution_count": null,
   "metadata": {},
   "outputs": [
    {
     "name": "stdout",
     "output_type": "stream",
     "text": [
      "10\n",
      "4\n",
      "21\n",
      "2.3333333333333335\n",
      "4\n"
     ]
    }
   ],
   "source": [
    "class class_8():\n",
    "    \n",
    "    #1\n",
    "    def __init__(self,input_a, input_b):\n",
    "        #클래스 생성이 되고 인자 값 2개를 변수 2개에 지정해주는 과정 \n",
    "        self.a = input_a #self.input_a에 입력받은 input_a가 들어간다.(인자값 받아서 a에 저장) \n",
    "        self.b = input_b\n",
    "\n",
    "    #2\n",
    "    def change(self,input_a,input_b):\n",
    "        #위에 있는 input_a는 init이라는 함수 안에 있는 매개변수고, \n",
    "        # 여기에 있는 input_a는 change 함수의 매개변수다. \n",
    "        #하지만 self.a와 self.b는 init와 change함수에서 둘다 동일한 애들이다. \n",
    "        #self.a\n",
    "        #a는 변수, self는 class마다 직접 저장되는 공간이 다르기 때문에 클래스 내의 공간안에 선언해주기 위해서 self를 써줘야 한다. \n",
    "\n",
    "        self.a = input_a\n",
    "        self.b = input_b\n",
    "        \n",
    "        #여기엔 리턴이 필요없으니 쓰지 않는다. \n",
    "\n",
    "    #3.1 (사칙연산 함수들 줄일 수 있으면 줄여도 好, 그런데 어느것이 사용성이 편한지는 선택 -> 모듈과 비슷 )\n",
    "    def sum(self):\n",
    "        #class 내부에 지정된 a와 b의 연산이므로 인자값을 받을 필요 X \n",
    "        self._sum = self.a + self.b\n",
    "        return self._sum\n",
    "        #or 3 \n",
    "        # return self.a + self.b\n",
    "\n",
    "    #3.2\n",
    "    def sub(self):\n",
    "        return self.a - self.b\n",
    "\n",
    "    #3.3\n",
    "    def mul(self):\n",
    "        return self.a * self.b\n",
    "\n",
    "    #3.4\n",
    "    def div(self):\n",
    "        return self.a / self.b\n",
    "\n",
    "    #3.5\n",
    "    def rem(self):\n",
    "        return self.a - self.b\n",
    "\n",
    "\n",
    "\n",
    "#불러오는 법\n",
    "cal = class_8(7,3) \n",
    "print(cal.sum())\n",
    "print(cal.sub())\n",
    "print(cal.mul())\n",
    "print(cal.div())\n",
    "print(cal.rem())"
   ]
  },
  {
   "cell_type": "markdown",
   "metadata": {},
   "source": [
    "만약에 저 안의 값을 변경하고 싶다면? "
   ]
  },
  {
   "cell_type": "code",
   "execution_count": null,
   "metadata": {},
   "outputs": [
    {
     "name": "stdout",
     "output_type": "stream",
     "text": [
      "9\n",
      "-3\n",
      "18\n",
      "0.5\n",
      "-3\n"
     ]
    }
   ],
   "source": [
    "#값을 바꿔주는 함수 => 클래스의 매개변수 값으로 받았던, 변수 a와 b의 값을 바꿔주는 것 \n",
    "\n",
    "#class_8(매개변수)\n",
    "    # self.a <- class 내의 변수 a\n",
    "\n",
    "cal.change(3,6)\n",
    "print(cal.sum())\n",
    "print(cal.sub())\n",
    "print(cal.mul())\n",
    "print(cal.div())\n",
    "print(cal.rem())"
   ]
  },
  {
   "cell_type": "code",
   "execution_count": null,
   "metadata": {},
   "outputs": [
    {
     "name": "stdout",
     "output_type": "stream",
     "text": [
      "2\n",
      "2\n",
      "0\n"
     ]
    },
    {
     "ename": "ZeroDivisionError",
     "evalue": "division by zero",
     "output_type": "error",
     "traceback": [
      "\u001b[1;31m---------------------------------------------------------------------------\u001b[0m",
      "\u001b[1;31mZeroDivisionError\u001b[0m                         Traceback (most recent call last)",
      "\u001b[1;32mc:\\ubion\\pandas\\220307.ipynb Cell 39'\u001b[0m in \u001b[0;36m<module>\u001b[1;34m\u001b[0m\n\u001b[0;32m      <a href='vscode-notebook-cell:/c%3A/ubion/pandas/220307.ipynb#ch0000041?line=2'>3</a>\u001b[0m \u001b[39mprint\u001b[39m(cal\u001b[39m.\u001b[39msub())\n\u001b[0;32m      <a href='vscode-notebook-cell:/c%3A/ubion/pandas/220307.ipynb#ch0000041?line=3'>4</a>\u001b[0m \u001b[39mprint\u001b[39m(cal\u001b[39m.\u001b[39mmul())\n\u001b[1;32m----> <a href='vscode-notebook-cell:/c%3A/ubion/pandas/220307.ipynb#ch0000041?line=4'>5</a>\u001b[0m \u001b[39mprint\u001b[39m(cal\u001b[39m.\u001b[39;49mdiv())\n\u001b[0;32m      <a href='vscode-notebook-cell:/c%3A/ubion/pandas/220307.ipynb#ch0000041?line=5'>6</a>\u001b[0m \u001b[39mprint\u001b[39m(cal\u001b[39m.\u001b[39mrem())\n",
      "\u001b[1;32mc:\\ubion\\pandas\\220307.ipynb Cell 36'\u001b[0m in \u001b[0;36mclass_8.div\u001b[1;34m(self)\u001b[0m\n\u001b[0;32m     <a href='vscode-notebook-cell:/c%3A/ubion/pandas/220307.ipynb#ch0000037?line=38'>39</a>\u001b[0m \u001b[39mdef\u001b[39;00m \u001b[39mdiv\u001b[39m(\u001b[39mself\u001b[39m):\n\u001b[1;32m---> <a href='vscode-notebook-cell:/c%3A/ubion/pandas/220307.ipynb#ch0000037?line=39'>40</a>\u001b[0m     \u001b[39mreturn\u001b[39;00m \u001b[39mself\u001b[39;49m\u001b[39m.\u001b[39;49ma \u001b[39m/\u001b[39;49m \u001b[39mself\u001b[39;49m\u001b[39m.\u001b[39;49mb\n",
      "\u001b[1;31mZeroDivisionError\u001b[0m: division by zero"
     ]
    }
   ],
   "source": [
    "cal.change(2,0)\n",
    "print(cal.sum())\n",
    "print(cal.sub())\n",
    "print(cal.mul())\n",
    "print(cal.div())\n",
    "print(cal.rem())"
   ]
  },
  {
   "cell_type": "markdown",
   "metadata": {},
   "source": [
    "0을 넣어서 에러가 나지 않고 0이 나오려면? "
   ]
  },
  {
   "cell_type": "code",
   "execution_count": null,
   "metadata": {},
   "outputs": [
    {
     "name": "stdout",
     "output_type": "stream",
     "text": [
      "7\n",
      "7\n",
      "0\n",
      "0\n",
      "0\n"
     ]
    }
   ],
   "source": [
    "class class_8():\n",
    "    \n",
    "    #1\n",
    "    def __init__(self,input_a, input_b):\n",
    "        self.a = input_a #self.input_a에 입력받은 input_a가 들어간다.(인자값 받아서 a에 저장) \n",
    "        self.b = input_b\n",
    "\n",
    "    #2\n",
    "    def change(self,input_a,input_b):\n",
    "        self.a = input_a\n",
    "        self.b = input_b\n",
    "        \n",
    "        #여기엔 리턴이 필요없으니 쓰지 않는다. \n",
    "\n",
    "    #3.1\n",
    "    def sum(self):\n",
    "        #class 내부에 지정된 a와 b의 연산이므로 인자값을 받을 필요 X \n",
    "        self._sum = self.a + self.b\n",
    "        return self._sum\n",
    "        #or 3 \n",
    "        # return self.a + self.b\n",
    "\n",
    "    #3.2\n",
    "    def sub(self):\n",
    "        return self.a - self.b\n",
    "\n",
    "    #3.3\n",
    "    def mul(self):\n",
    "        return self.a * self.b\n",
    "\n",
    "    #3.4\n",
    "    def div(self):\n",
    "        if self.b == 0:\n",
    "            return 0\n",
    "        else: \n",
    "            return self.a / self.b\n",
    "\n",
    "\n",
    "    #3.5\n",
    "    def rem(self):\n",
    "        if self.b == 0:\n",
    "            return 0\n",
    "        else:\n",
    "            return self.a - self.b\n",
    "\n",
    "\n",
    "\n",
    "#불러오는 법\n",
    "cal = class_8(7,0) \n",
    "print(cal.sum())\n",
    "print(cal.sub())\n",
    "print(cal.mul())\n",
    "print(cal.div())\n",
    "print(cal.rem())"
   ]
  },
  {
   "cell_type": "markdown",
   "metadata": {},
   "source": [
    "1. class 밑변의 길이, 높이 인자 값으로 넣어주는 클래스를 생성 \n",
    "2. 밑변의 길이와 높이가 삼각형일때, 사각형의 넓이를 구하는 함수 생성 \n",
    "3. 단, 함수는 init을 제외한 단 1개의 함수로 구성이 되는 클래스를 생성\n",
    "4. init이 아닌 함수 인자값에서 삼각형의 넓이인지, 사각형의 넓이인지 지정"
   ]
  },
  {
   "cell_type": "code",
   "execution_count": null,
   "metadata": {},
   "outputs": [
    {
     "name": "stdout",
     "output_type": "stream",
     "text": [
      "30\n"
     ]
    }
   ],
   "source": [
    "class class_9():\n",
    "    def __init__(self, input_a, input_b):\n",
    "        self.base = input_a\n",
    "        self.high = input_b\n",
    "        \n",
    "    def dist(self, tri):\n",
    "        if tri == 1:\n",
    "             return self.base*self.high/2\n",
    "        elif tri == 0: \n",
    "            return self.base*self.high\n",
    "\n",
    "\n",
    "print(class_9(3,10).dist(0))"
   ]
  },
  {
   "cell_type": "markdown",
   "metadata": {},
   "source": [
    "흔히 판다스에서 pd.(vlaue) 넣는데, 바로 출력은 안된다. \n",
    "그런 table을 만든 것이 init 이다. \n",
    "\n",
    "\n",
    "print도 변수명을 부르지 않아도 작동되는 이유는, 파이썬 안에서 자동화 해놨기 때문이다. \n",
    "\n",
    "-------\n",
    "\n",
    "__init__ 아래에 만든 함수 dist는 함수 전체가 하나의 attribute가 되는 걸까? \n",
    "\n",
    "dist 라는 함수를 불러오다가 오타가 났는데, 그러면 함수를 인지 못한거니까 'has no function' 라고 할줄 알았는데 'has no attribute'가 나왔다. \n",
    "\n"
   ]
  },
  {
   "cell_type": "code",
   "execution_count": null,
   "metadata": {},
   "outputs": [
    {
     "name": "stdout",
     "output_type": "stream",
     "text": [
      "15.0\n"
     ]
    }
   ],
   "source": [
    "class class_9():\n",
    "    def __init__(self, input_width, input_height):\n",
    "        self.base = input_width\n",
    "        self.heigh = input_height\n",
    "        \n",
    "    def dist(self, tri):\n",
    "        if tri == 3:\n",
    "             return self.base*self.heigh/2\n",
    "        elif tri == 4: \n",
    "            return self.base*self.heigh\n",
    "        else: \n",
    "            return \"지정된 값이 아니다.\"\n",
    "\n",
    "\n",
    "print(class_9(3,10).dist(3))"
   ]
  },
  {
   "cell_type": "markdown",
   "metadata": {},
   "source": [
    "원의 넓이 구하는 공식 :  파이 r 제곱 "
   ]
  },
  {
   "cell_type": "code",
   "execution_count": null,
   "metadata": {},
   "outputs": [
    {
     "name": "stdout",
     "output_type": "stream",
     "text": [
      "[18.84, 28.26]\n",
      "[31.400000000000002, 78.5]\n"
     ]
    }
   ],
   "source": [
    "class class_10():\n",
    "    pie = 3.14\n",
    "\n",
    "    #init 필요 X, 함수를 부를때 반지름의 값만 받아오면 된다.둘레든, 넓이든 다 구할 수 있다.\n",
    "\n",
    "    def area(self, r):\n",
    "        self.result = [ ]\n",
    "        self.result.append(2*self.pie*r)\n",
    "        self.result.append(self.pie*(r**2))\n",
    "        return self.result\n",
    "\n",
    "\n",
    "x = class_10()\n",
    "print(x.area(3))\n",
    "print(class_10().area(5))\n",
    "\n",
    "#왜 class_10 ()의 ( ) 는 빈칸일까? \n",
    "# init을 안썼기 때문이기도 하고, init 함수가 있다 한들 매개변수가 없다면 ( )안에 안써도 된다. \n",
    "#class를 만들땐, init을 무조건 적지 않아도 된다! \n"
   ]
  },
  {
   "cell_type": "markdown",
   "metadata": {},
   "source": [
    "# 상속하는 법 \n",
    "\n",
    "사전적으로 물려받다 라는 의미\n",
    "\n",
    "\n",
    "class class_11(class_10):\n",
    "\n",
    "괄호 안에 다른 클래스 넣기 \n",
    "클래스 함수도 가져올 수 있을 뿐 아니라, 클래스 변수도 가져올 수 있다. \n",
    "\n",
    "클래스의 구성 2가지: 속성과 매소드 \n",
    "클래스 내에 있는 클래스 내의 독립변수를 지정하거나 함수를 만든다\n",
    "속성은 변수 ; 변수는 일정한 값에 대해 이름을 붙여주는 것.변수는 값이듯 속성도 값이다.  \n",
    "매소드는 함수 ; 뭔가의 행동을 하는 함수다 \n",
    "\n",
    "\n",
    "다중상속 하는 법 \n",
    "\n",
    "class class_mul3(class_mu1, class_mul2):"
   ]
  },
  {
   "cell_type": "code",
   "execution_count": null,
   "metadata": {},
   "outputs": [
    {
     "name": "stdout",
     "output_type": "stream",
     "text": [
      "class_mul1\n"
     ]
    }
   ],
   "source": [
    "#이거는 다중상속 \n",
    "class class_mul1():\n",
    "    def a (self):\n",
    "        print(\"class_mul1\")\n",
    "\n",
    "class class_mul2():\n",
    "    def b(self):\n",
    "        print(\"class_mul2\")\n",
    "\n",
    "class class_mul3(class_mul1, class_mul2):\n",
    "    def c(self):\n",
    "        print(\"class_mul2\")\n",
    "\n",
    "\n",
    "class_mul3().a()"
   ]
  },
  {
   "cell_type": "code",
   "execution_count": null,
   "metadata": {},
   "outputs": [
    {
     "name": "stdout",
     "output_type": "stream",
     "text": [
      "[15.42, 14.13]\n"
     ]
    }
   ],
   "source": [
    "class class_11(class_10):\n",
    "    def __init__(self, input_r):\n",
    "        self.r = input_r\n",
    "\n",
    "    #반원 둘레와 넓이\n",
    "    def half(self):\n",
    "        self.result = []\n",
    "        #class 10서 가져온 pie 등 활용하기 때문에 다른 인자 받을 필요 없음 \n",
    "        self.result.append(self.pie * self.r + 2 * self.r )\n",
    "        self.result.append(self.pie * (self.r**2)/ 2)\n",
    "        return self.result\n",
    "\n",
    "y = class_11(3)\n",
    "print(y.half())\n",
    "print(y.area(3)) # class 10의 area를 가져오려고 할때 r 값을 받아오겠다고 적혀있기 때문에 ( )안에 r 값을 넣어야 한다. "
   ]
  },
  {
   "cell_type": "markdown",
   "metadata": {},
   "source": [
    "class 10에서 넓이랑 원의 둘레를 구하는데, 상속을 받았으면 그 기능을 쓰기 위함이다. \n",
    "상속한 클래스 하위의 함수를 사용할 수 있고, \n",
    "혹은 상속한 하위의 함수의 기능을 가져올 수도 있다. \n",
    "\n",
    "기능을 변경하기 위해선 기존의 함수를 변경하면 된다. \n",
    "변수를 변경할때 변수는 지정한 변수명을 써주고 변경할 값을 넣어주면 된다.\n",
    "\n"
   ]
  },
  {
   "cell_type": "code",
   "execution_count": null,
   "metadata": {},
   "outputs": [
    {
     "name": "stdout",
     "output_type": "stream",
     "text": [
      "[15.42, 14.13]\n",
      "[18.84, 28.26]\n",
      "[18.84, 28.26]\n"
     ]
    }
   ],
   "source": [
    "class class_11(class_10):\n",
    "    def __init__(self, input_r):\n",
    "        self.r = input_r\n",
    "\n",
    "    #반원 둘레와 넓이\n",
    "    def half(self):\n",
    "        self.result = []\n",
    "        #class 10서 가져온 pie 등 활용! \n",
    "        self.result.append(self.pie * self.r + 2 * self.r )\n",
    "        self.result.append(self.pie * (self.r**2)/ 2)\n",
    "        return self.result\n",
    "\n",
    "\n",
    "    #상속받은 함수를 변경하고 싶다면? \n",
    "    #똑같은 함수명, 내용을 복붙 저장, 입맛에 맛게 살짝만 수정 \n",
    "    #이런걸 \"오버라이딩\"이라는 용어라고 부른다.  \n",
    "    def area(self):\n",
    "        self.result = [ ]\n",
    "        self.result.append(2 * self.pie * self.r )\n",
    "        self.result.append(self.pie * (self.r**2))\n",
    "        return self.result\n",
    "\n",
    "y = class_11(3)\n",
    "print(y.half())\n",
    "print(y.area()) # 11에서 가져올때  class 10의 area를 코드를 가져와 수정했다. 11내의 10을 바꿔버렸으므로, \n",
    "# ( )에 받았던 값이 없게 된다. \n",
    "print(x.area(3)) #class 10 원본은 매개변수가 필요한 그대로다. "
   ]
  },
  {
   "cell_type": "code",
   "execution_count": null,
   "metadata": {},
   "outputs": [],
   "source": []
  }
 ],
 "metadata": {
  "interpreter": {
   "hash": "6d9aeff0c4cb62f006bcee5d924029c89375552da6e18543b57335e832e7bb6d"
  },
  "kernelspec": {
   "display_name": "Python 3.10.2 64-bit",
   "language": "python",
   "name": "python3"
  },
  "language_info": {
   "codemirror_mode": {
    "name": "ipython",
    "version": 3
   },
   "file_extension": ".py",
   "mimetype": "text/x-python",
   "name": "python",
   "nbconvert_exporter": "python",
   "pygments_lexer": "ipython3",
   "version": "3.10.2"
  },
  "orig_nbformat": 4
 },
 "nbformat": 4,
 "nbformat_minor": 2
}
