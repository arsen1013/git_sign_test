{
 "cells": [
  {
   "cell_type": "code",
   "execution_count": 2,
   "metadata": {},
   "outputs": [],
   "source": [
    "# 필요한 라이브러리 호출\n",
    "import pandas as pd\n",
    "import matplotlib.pyplot as plt\n",
    "import numpy as np\n",
    "# import seaborn as sns"
   ]
  },
  {
   "cell_type": "code",
   "execution_count": 3,
   "metadata": {},
   "outputs": [
    {
     "name": "stdout",
     "output_type": "stream",
     "text": [
      "[*********************100%***********************]  1 of 1 completed\n"
     ]
    },
    {
     "data": {
      "text/html": [
       "<div>\n",
       "<style scoped>\n",
       "    .dataframe tbody tr th:only-of-type {\n",
       "        vertical-align: middle;\n",
       "    }\n",
       "\n",
       "    .dataframe tbody tr th {\n",
       "        vertical-align: top;\n",
       "    }\n",
       "\n",
       "    .dataframe thead th {\n",
       "        text-align: right;\n",
       "    }\n",
       "</style>\n",
       "<table border=\"1\" class=\"dataframe\">\n",
       "  <thead>\n",
       "    <tr style=\"text-align: right;\">\n",
       "      <th></th>\n",
       "      <th>Open</th>\n",
       "      <th>High</th>\n",
       "      <th>Low</th>\n",
       "      <th>Close</th>\n",
       "      <th>Adj Close</th>\n",
       "      <th>Volume</th>\n",
       "    </tr>\n",
       "    <tr>\n",
       "      <th>Date</th>\n",
       "      <th></th>\n",
       "      <th></th>\n",
       "      <th></th>\n",
       "      <th></th>\n",
       "      <th></th>\n",
       "      <th></th>\n",
       "    </tr>\n",
       "  </thead>\n",
       "  <tbody>\n",
       "    <tr>\n",
       "      <th>2021-01-04</th>\n",
       "      <td>2874.500000</td>\n",
       "      <td>2946.540039</td>\n",
       "      <td>2869.110107</td>\n",
       "      <td>2944.449951</td>\n",
       "      <td>2944.449951</td>\n",
       "      <td>1026500</td>\n",
       "    </tr>\n",
       "    <tr>\n",
       "      <th>2021-01-05</th>\n",
       "      <td>2943.669922</td>\n",
       "      <td>2990.570068</td>\n",
       "      <td>2921.840088</td>\n",
       "      <td>2990.570068</td>\n",
       "      <td>2990.570068</td>\n",
       "      <td>1519900</td>\n",
       "    </tr>\n",
       "    <tr>\n",
       "      <th>2021-01-06</th>\n",
       "      <td>2993.340088</td>\n",
       "      <td>3027.159912</td>\n",
       "      <td>2961.370117</td>\n",
       "      <td>2968.209961</td>\n",
       "      <td>2968.209961</td>\n",
       "      <td>1793400</td>\n",
       "    </tr>\n",
       "    <tr>\n",
       "      <th>2021-01-07</th>\n",
       "      <td>2980.750000</td>\n",
       "      <td>3055.280029</td>\n",
       "      <td>2980.750000</td>\n",
       "      <td>3031.679932</td>\n",
       "      <td>3031.679932</td>\n",
       "      <td>1524700</td>\n",
       "    </tr>\n",
       "    <tr>\n",
       "      <th>2021-01-08</th>\n",
       "      <td>3040.110107</td>\n",
       "      <td>3161.110107</td>\n",
       "      <td>3040.110107</td>\n",
       "      <td>3152.179932</td>\n",
       "      <td>3152.179932</td>\n",
       "      <td>1297900</td>\n",
       "    </tr>\n",
       "    <tr>\n",
       "      <th>...</th>\n",
       "      <td>...</td>\n",
       "      <td>...</td>\n",
       "      <td>...</td>\n",
       "      <td>...</td>\n",
       "      <td>...</td>\n",
       "      <td>...</td>\n",
       "    </tr>\n",
       "    <tr>\n",
       "      <th>2021-12-24</th>\n",
       "      <td>3009.479980</td>\n",
       "      <td>3025.770020</td>\n",
       "      <td>3009.479980</td>\n",
       "      <td>3012.429932</td>\n",
       "      <td>3012.429932</td>\n",
       "      <td>537500</td>\n",
       "    </tr>\n",
       "    <tr>\n",
       "      <th>2021-12-27</th>\n",
       "      <td>3013.939941</td>\n",
       "      <td>3017.310059</td>\n",
       "      <td>2999.300049</td>\n",
       "      <td>2999.550049</td>\n",
       "      <td>2999.550049</td>\n",
       "      <td>475000</td>\n",
       "    </tr>\n",
       "    <tr>\n",
       "      <th>2021-12-28</th>\n",
       "      <td>3006.770020</td>\n",
       "      <td>3020.290039</td>\n",
       "      <td>2991.550049</td>\n",
       "      <td>3020.239990</td>\n",
       "      <td>3020.239990</td>\n",
       "      <td>607000</td>\n",
       "    </tr>\n",
       "    <tr>\n",
       "      <th>2021-12-29</th>\n",
       "      <td>3002.899902</td>\n",
       "      <td>3007.719971</td>\n",
       "      <td>2988.669922</td>\n",
       "      <td>2993.290039</td>\n",
       "      <td>2993.290039</td>\n",
       "      <td>545800</td>\n",
       "    </tr>\n",
       "    <tr>\n",
       "      <th>2021-12-30</th>\n",
       "      <td>2999.750000</td>\n",
       "      <td>3005.360107</td>\n",
       "      <td>2975.739990</td>\n",
       "      <td>2977.649902</td>\n",
       "      <td>2977.649902</td>\n",
       "      <td>460600</td>\n",
       "    </tr>\n",
       "  </tbody>\n",
       "</table>\n",
       "<p>248 rows × 6 columns</p>\n",
       "</div>"
      ],
      "text/plain": [
       "                   Open         High          Low        Close    Adj Close  \\\n",
       "Date                                                                          \n",
       "2021-01-04  2874.500000  2946.540039  2869.110107  2944.449951  2944.449951   \n",
       "2021-01-05  2943.669922  2990.570068  2921.840088  2990.570068  2990.570068   \n",
       "2021-01-06  2993.340088  3027.159912  2961.370117  2968.209961  2968.209961   \n",
       "2021-01-07  2980.750000  3055.280029  2980.750000  3031.679932  3031.679932   \n",
       "2021-01-08  3040.110107  3161.110107  3040.110107  3152.179932  3152.179932   \n",
       "...                 ...          ...          ...          ...          ...   \n",
       "2021-12-24  3009.479980  3025.770020  3009.479980  3012.429932  3012.429932   \n",
       "2021-12-27  3013.939941  3017.310059  2999.300049  2999.550049  2999.550049   \n",
       "2021-12-28  3006.770020  3020.290039  2991.550049  3020.239990  3020.239990   \n",
       "2021-12-29  3002.899902  3007.719971  2988.669922  2993.290039  2993.290039   \n",
       "2021-12-30  2999.750000  3005.360107  2975.739990  2977.649902  2977.649902   \n",
       "\n",
       "             Volume  \n",
       "Date                 \n",
       "2021-01-04  1026500  \n",
       "2021-01-05  1519900  \n",
       "2021-01-06  1793400  \n",
       "2021-01-07  1524700  \n",
       "2021-01-08  1297900  \n",
       "...             ...  \n",
       "2021-12-24   537500  \n",
       "2021-12-27   475000  \n",
       "2021-12-28   607000  \n",
       "2021-12-29   545800  \n",
       "2021-12-30   460600  \n",
       "\n",
       "[248 rows x 6 columns]"
      ]
     },
     "execution_count": 3,
     "metadata": {},
     "output_type": "execute_result"
    }
   ],
   "source": [
    "import yfinance as yf\n",
    "\n",
    "kospi = yf.download('^KS11', '2021-01-01', '2021-12-31')\n",
    "kospi"
   ]
  },
  {
   "cell_type": "code",
   "execution_count": 21,
   "metadata": {},
   "outputs": [
    {
     "data": {
      "text/plain": [
       "Date         0\n",
       "Open         0\n",
       "High         0\n",
       "Low          0\n",
       "Close        0\n",
       "Adj Close    0\n",
       "Volume       0\n",
       "dtype: int64"
      ]
     },
     "execution_count": 21,
     "metadata": {},
     "output_type": "execute_result"
    }
   ],
   "source": [
    "kospi.isna().sum()"
   ]
  },
  {
   "cell_type": "code",
   "execution_count": 22,
   "metadata": {},
   "outputs": [
    {
     "data": {
      "text/html": [
       "<div>\n",
       "<style scoped>\n",
       "    .dataframe tbody tr th:only-of-type {\n",
       "        vertical-align: middle;\n",
       "    }\n",
       "\n",
       "    .dataframe tbody tr th {\n",
       "        vertical-align: top;\n",
       "    }\n",
       "\n",
       "    .dataframe thead th {\n",
       "        text-align: right;\n",
       "    }\n",
       "</style>\n",
       "<table border=\"1\" class=\"dataframe\">\n",
       "  <thead>\n",
       "    <tr style=\"text-align: right;\">\n",
       "      <th></th>\n",
       "      <th>Date</th>\n",
       "      <th>Open</th>\n",
       "      <th>High</th>\n",
       "      <th>Low</th>\n",
       "      <th>Close</th>\n",
       "      <th>Adj Close</th>\n",
       "      <th>Volume</th>\n",
       "      <th>등락폭</th>\n",
       "    </tr>\n",
       "  </thead>\n",
       "  <tbody>\n",
       "    <tr>\n",
       "      <th>0</th>\n",
       "      <td>2021-01-04</td>\n",
       "      <td>2874.500000</td>\n",
       "      <td>2946.540039</td>\n",
       "      <td>2869.110107</td>\n",
       "      <td>2944.449951</td>\n",
       "      <td>2944.449951</td>\n",
       "      <td>1026500</td>\n",
       "      <td>69.949951</td>\n",
       "    </tr>\n",
       "    <tr>\n",
       "      <th>1</th>\n",
       "      <td>2021-01-05</td>\n",
       "      <td>2943.669922</td>\n",
       "      <td>2990.570068</td>\n",
       "      <td>2921.840088</td>\n",
       "      <td>2990.570068</td>\n",
       "      <td>2990.570068</td>\n",
       "      <td>1519900</td>\n",
       "      <td>46.900146</td>\n",
       "    </tr>\n",
       "    <tr>\n",
       "      <th>2</th>\n",
       "      <td>2021-01-06</td>\n",
       "      <td>2993.340088</td>\n",
       "      <td>3027.159912</td>\n",
       "      <td>2961.370117</td>\n",
       "      <td>2968.209961</td>\n",
       "      <td>2968.209961</td>\n",
       "      <td>1793400</td>\n",
       "      <td>-25.130127</td>\n",
       "    </tr>\n",
       "    <tr>\n",
       "      <th>3</th>\n",
       "      <td>2021-01-07</td>\n",
       "      <td>2980.750000</td>\n",
       "      <td>3055.280029</td>\n",
       "      <td>2980.750000</td>\n",
       "      <td>3031.679932</td>\n",
       "      <td>3031.679932</td>\n",
       "      <td>1524700</td>\n",
       "      <td>50.929932</td>\n",
       "    </tr>\n",
       "    <tr>\n",
       "      <th>4</th>\n",
       "      <td>2021-01-08</td>\n",
       "      <td>3040.110107</td>\n",
       "      <td>3161.110107</td>\n",
       "      <td>3040.110107</td>\n",
       "      <td>3152.179932</td>\n",
       "      <td>3152.179932</td>\n",
       "      <td>1297900</td>\n",
       "      <td>112.069824</td>\n",
       "    </tr>\n",
       "    <tr>\n",
       "      <th>...</th>\n",
       "      <td>...</td>\n",
       "      <td>...</td>\n",
       "      <td>...</td>\n",
       "      <td>...</td>\n",
       "      <td>...</td>\n",
       "      <td>...</td>\n",
       "      <td>...</td>\n",
       "      <td>...</td>\n",
       "    </tr>\n",
       "    <tr>\n",
       "      <th>243</th>\n",
       "      <td>2021-12-24</td>\n",
       "      <td>3009.479980</td>\n",
       "      <td>3025.770020</td>\n",
       "      <td>3009.479980</td>\n",
       "      <td>3012.429932</td>\n",
       "      <td>3012.429932</td>\n",
       "      <td>537500</td>\n",
       "      <td>2.949951</td>\n",
       "    </tr>\n",
       "    <tr>\n",
       "      <th>244</th>\n",
       "      <td>2021-12-27</td>\n",
       "      <td>3013.939941</td>\n",
       "      <td>3017.310059</td>\n",
       "      <td>2999.300049</td>\n",
       "      <td>2999.550049</td>\n",
       "      <td>2999.550049</td>\n",
       "      <td>475000</td>\n",
       "      <td>-14.389893</td>\n",
       "    </tr>\n",
       "    <tr>\n",
       "      <th>245</th>\n",
       "      <td>2021-12-28</td>\n",
       "      <td>3006.770020</td>\n",
       "      <td>3020.290039</td>\n",
       "      <td>2991.550049</td>\n",
       "      <td>3020.239990</td>\n",
       "      <td>3020.239990</td>\n",
       "      <td>607000</td>\n",
       "      <td>13.469971</td>\n",
       "    </tr>\n",
       "    <tr>\n",
       "      <th>246</th>\n",
       "      <td>2021-12-29</td>\n",
       "      <td>3002.899902</td>\n",
       "      <td>3007.719971</td>\n",
       "      <td>2988.669922</td>\n",
       "      <td>2993.290039</td>\n",
       "      <td>2993.290039</td>\n",
       "      <td>545800</td>\n",
       "      <td>-9.609863</td>\n",
       "    </tr>\n",
       "    <tr>\n",
       "      <th>247</th>\n",
       "      <td>2021-12-30</td>\n",
       "      <td>2999.750000</td>\n",
       "      <td>3005.360107</td>\n",
       "      <td>2975.739990</td>\n",
       "      <td>2977.649902</td>\n",
       "      <td>2977.649902</td>\n",
       "      <td>460600</td>\n",
       "      <td>-22.100098</td>\n",
       "    </tr>\n",
       "  </tbody>\n",
       "</table>\n",
       "<p>248 rows × 8 columns</p>\n",
       "</div>"
      ],
      "text/plain": [
       "          Date         Open         High          Low        Close  \\\n",
       "0   2021-01-04  2874.500000  2946.540039  2869.110107  2944.449951   \n",
       "1   2021-01-05  2943.669922  2990.570068  2921.840088  2990.570068   \n",
       "2   2021-01-06  2993.340088  3027.159912  2961.370117  2968.209961   \n",
       "3   2021-01-07  2980.750000  3055.280029  2980.750000  3031.679932   \n",
       "4   2021-01-08  3040.110107  3161.110107  3040.110107  3152.179932   \n",
       "..         ...          ...          ...          ...          ...   \n",
       "243 2021-12-24  3009.479980  3025.770020  3009.479980  3012.429932   \n",
       "244 2021-12-27  3013.939941  3017.310059  2999.300049  2999.550049   \n",
       "245 2021-12-28  3006.770020  3020.290039  2991.550049  3020.239990   \n",
       "246 2021-12-29  3002.899902  3007.719971  2988.669922  2993.290039   \n",
       "247 2021-12-30  2999.750000  3005.360107  2975.739990  2977.649902   \n",
       "\n",
       "       Adj Close   Volume         등락폭  \n",
       "0    2944.449951  1026500   69.949951  \n",
       "1    2990.570068  1519900   46.900146  \n",
       "2    2968.209961  1793400  -25.130127  \n",
       "3    3031.679932  1524700   50.929932  \n",
       "4    3152.179932  1297900  112.069824  \n",
       "..           ...      ...         ...  \n",
       "243  3012.429932   537500    2.949951  \n",
       "244  2999.550049   475000  -14.389893  \n",
       "245  3020.239990   607000   13.469971  \n",
       "246  2993.290039   545800   -9.609863  \n",
       "247  2977.649902   460600  -22.100098  \n",
       "\n",
       "[248 rows x 8 columns]"
      ]
     },
     "execution_count": 22,
     "metadata": {},
     "output_type": "execute_result"
    }
   ],
   "source": [
    "kospi[\"등락폭\"] = kospi[\"Close\"] - kospi[\"Open\"]\n",
    "kospi"
   ]
  },
  {
   "cell_type": "code",
   "execution_count": 24,
   "metadata": {},
   "outputs": [],
   "source": [
    "kospi[\"등락율\"] = kospi[\"등락폭\"]/kospi[\"Open\"]*100"
   ]
  },
  {
   "cell_type": "code",
   "execution_count": 35,
   "metadata": {},
   "outputs": [
    {
     "data": {
      "text/plain": [
       "count    248.000000\n",
       "mean      -0.065643\n",
       "std        0.950547\n",
       "min       -3.329945\n",
       "25%       -0.605621\n",
       "50%        0.013827\n",
       "75%        0.460945\n",
       "max        3.686374\n",
       "Name: 등락율, dtype: float64"
      ]
     },
     "execution_count": 35,
     "metadata": {},
     "output_type": "execute_result"
    }
   ],
   "source": [
    "kospi[\"등락율\"].describe()"
   ]
  },
  {
   "cell_type": "code",
   "execution_count": 36,
   "metadata": {},
   "outputs": [
    {
     "data": {
      "text/plain": [
       "count    248.000000\n",
       "mean      -2.171414\n",
       "std       29.114327\n",
       "min     -102.520020\n",
       "25%      -18.915100\n",
       "50%        0.430054\n",
       "75%       14.149963\n",
       "max      112.069824\n",
       "Name: 등락폭, dtype: float64"
      ]
     },
     "execution_count": 36,
     "metadata": {},
     "output_type": "execute_result"
    }
   ],
   "source": [
    "kospi[\"등락폭\"].describe()"
   ]
  },
  {
   "cell_type": "code",
   "execution_count": 29,
   "metadata": {},
   "outputs": [
    {
     "data": {
      "image/png": "[encoded data removed]",
      "text/plain": [
       "<Figure size 432x288 with 1 Axes>"
      ]
     },
     "metadata": {
      "needs_background": "light"
     },
     "output_type": "display_data"
    }
   ],
   "source": [
    "# 코스피 종가 그래프 도출\n",
    "\n",
    "kospi['Close'].plot(kind='line')\n",
    "plt.ylabel('KOSPI Close')\n",
    "plt.title('KOSPI(2021)')\n",
    "plt.show()"
   ]
  },
  {
   "cell_type": "code",
   "execution_count": 32,
   "metadata": {},
   "outputs": [
    {
     "data": {
      "image/png": "[encoded data removed]",
      "text/plain": [
       "<Figure size 432x288 with 1 Axes>"
      ]
     },
     "metadata": {
      "needs_background": "light"
     },
     "output_type": "display_data"
    }
   ],
   "source": [
    "# 코스피 등락폭 그래프 도출\n",
    "\n",
    "kospi['등락율'].plot(kind='line')\n",
    "plt.ylabel('KOSPI Close')\n",
    "plt.title('KOSPI Up&DOWN (2021)')\n",
    "plt.show()"
   ]
  },
  {
   "cell_type": "code",
   "execution_count": null,
   "metadata": {},
   "outputs": [],
   "source": [
    "### 자산별 기대수익률 추정하기 \n",
    "\n",
    "close_df = pd.DataFrame({'kospi_close':kospi_df['close'], \n",
    "'ktb_close': ktb_df['close']}) \n",
    "close_df.head()"
   ]
  },
  {
   "cell_type": "code",
   "execution_count": null,
   "metadata": {},
   "outputs": [],
   "source": []
  }
 ],
 "metadata": {
  "interpreter": {
   "hash": "6d9aeff0c4cb62f006bcee5d924029c89375552da6e18543b57335e832e7bb6d"
  },
  "kernelspec": {
   "display_name": "Python 3.10.2 64-bit",
   "language": "python",
   "name": "python3"
  },
  "language_info": {
   "codemirror_mode": {
    "name": "ipython",
    "version": 3
   },
   "file_extension": ".py",
   "mimetype": "text/x-python",
   "name": "python",
   "nbconvert_exporter": "python",
   "pygments_lexer": "ipython3",
   "version": "3.10.2"
  },
  "orig_nbformat": 4
 },
 "nbformat": 4,
 "nbformat_minor": 2
}
