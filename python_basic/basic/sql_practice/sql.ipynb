{
 "cells": [
  {
   "cell_type": "code",
   "execution_count": 1,
   "metadata": {},
   "outputs": [],
   "source": [
    "import pymysql\n",
    "#mysql에 접근해서 sql 쿼리문에 접근할 수 있게 하는 lib \n",
    "#cmd 에서 pip install pymysql 입력해서 설치해주기 \n",
    "import pandas as pd\n",
    "\n"
   ]
  },
  {
   "cell_type": "code",
   "execution_count": 2,
   "metadata": {},
   "outputs": [],
   "source": [
    "sample_db = pymysql.connect (\n",
    "    user = \"root\",\n",
    "    passwd = \"pw0426!\", #내 sql비번\n",
    "    host = \"localhost\",\n",
    "    db = \"ubion\",\n",
    "    charset = \"utf8\"\n",
    ")"
   ]
  },
  {
   "cell_type": "code",
   "execution_count": 3,
   "metadata": {},
   "outputs": [],
   "source": [
    "cursor = sample_db.cursor(pymysql.cursors.DictCursor)"
   ]
  },
  {
   "cell_type": "code",
   "execution_count": 6,
   "metadata": {},
   "outputs": [
    {
     "name": "stdout",
     "output_type": "stream",
     "text": [
      "      post_id password\n",
      "0       text2     5345\n",
      "1       text5     3333\n",
      "2  textpython     1111\n"
     ]
    }
   ],
   "source": [
    "#기초 설정\n",
    "\n",
    "def show_base1 ():\n",
    "\n",
    "    sql = \"SELECT * FROM base1\"\n",
    "    cursor.execute(sql) #sql 실행\n",
    "    result = cursor.fetchall() #결과값을 받아옴 \n",
    "    pd_resualt = pd.DataFrame(result)\n",
    "    return print(pd_resualt)\n",
    "\n",
    "show_base1()"
   ]
  },
  {
   "cell_type": "code",
   "execution_count": 15,
   "metadata": {},
   "outputs": [
    {
     "name": "stdout",
     "output_type": "stream",
     "text": [
      "[{'no': 1, 'post_id': 'test1', 'phone': '0104959449'}, {'no': 2, 'post_id': 'test2', 'phone': '01045675678'}, {'no': 3, 'post_id': 'test3', 'phone': '0104345345'}, {'no': 4, 'post_id': 'test4', 'phone': '0102323434'}, {'no': 5, 'post_id': 'test5', 'phone': '0103454323'}, {'no': 6, 'post_id': 'test6', 'phone': '0000'}]\n"
     ]
    }
   ],
   "source": [
    "\n",
    "def show_tables2 ():\n",
    "\n",
    "    sql = \"SELECT * FROM tables2\"\n",
    "    cursor.execute(sql) #sql 실행\n",
    "    result = cursor.fetchall() #결과값을 받아옴 \n",
    "    return print(result)\n",
    "\n",
    "show_tables2()"
   ]
  },
  {
   "cell_type": "code",
   "execution_count": 16,
   "metadata": {},
   "outputs": [
    {
     "data": {
      "text/plain": [
       "1"
      ]
     },
     "execution_count": 16,
     "metadata": {},
     "output_type": "execute_result"
    }
   ],
   "source": [
    "#cmd에서 처음에 데이터 테이블 만들 때 프라이머리 키를 주었었기 때문에\n",
    "# 아래 코드에서는 primary 키를 따로 주지 않는다.   \n",
    "\n",
    "Insert_Sql = \"INSERT INTO base1 VALUES ('textpython1', '34536')\"\n",
    "cursor.execute(Insert_Sql)"
   ]
  },
  {
   "cell_type": "code",
   "execution_count": 18,
   "metadata": {},
   "outputs": [
    {
     "name": "stdout",
     "output_type": "stream",
     "text": [
      "[{'post_id': 'text2', 'password': '5345'}, {'post_id': 'text5', 'password': '3333'}, {'post_id': 'textpython', 'password': '1111'}, {'post_id': 'textpython1', 'password': '34536'}]\n"
     ]
    }
   ],
   "source": [
    "show_base1()"
   ]
  },
  {
   "cell_type": "code",
   "execution_count": 24,
   "metadata": {},
   "outputs": [
    {
     "data": {
      "text/plain": [
       "1"
      ]
     },
     "execution_count": 24,
     "metadata": {},
     "output_type": "execute_result"
    }
   ],
   "source": [
    "Update_sql = \"UPDATE base1 SET password ='2222' WHERE password='1111'\"\n",
    "cursor.execute(Update_sql)"
   ]
  },
  {
   "cell_type": "code",
   "execution_count": 25,
   "metadata": {},
   "outputs": [
    {
     "name": "stdout",
     "output_type": "stream",
     "text": [
      "[{'post_id': 'text2', 'password': '5345'}, {'post_id': 'text5', 'password': '3333'}, {'post_id': 'textpython', 'password': '2222'}, {'post_id': 'textpython1', 'password': '34536'}]\n"
     ]
    }
   ],
   "source": [
    "show_base1()"
   ]
  },
  {
   "cell_type": "code",
   "execution_count": 23,
   "metadata": {},
   "outputs": [
    {
     "name": "stdout",
     "output_type": "stream",
     "text": [
      "[{'post_id': 'textpython', 'password': '1111'}]\n"
     ]
    }
   ],
   "source": [
    "cursor.execute(\"SELECT * FROM base1\")\n",
    "print(cursor.fetchall())"
   ]
  },
  {
   "cell_type": "code",
   "execution_count": 26,
   "metadata": {},
   "outputs": [
    {
     "data": {
      "text/plain": [
       "1"
      ]
     },
     "execution_count": 26,
     "metadata": {},
     "output_type": "execute_result"
    }
   ],
   "source": [
    "Del_sql = \"DELETE FROM base1 WHERE post_id = 'text2'\"\n",
    "cursor.execute(Del_sql)"
   ]
  },
  {
   "cell_type": "code",
   "execution_count": 27,
   "metadata": {},
   "outputs": [
    {
     "name": "stdout",
     "output_type": "stream",
     "text": [
      "[{'post_id': 'text5', 'password': '3333'}, {'post_id': 'textpython', 'password': '2222'}, {'post_id': 'textpython1', 'password': '34536'}]\n"
     ]
    }
   ],
   "source": [
    "\n",
    "show_base1()"
   ]
  },
  {
   "cell_type": "code",
   "execution_count": 29,
   "metadata": {},
   "outputs": [
    {
     "name": "stdout",
     "output_type": "stream",
     "text": [
      "[{'no': 1, 'post_id': 'test1', 'phone': '0104959449'}, {'no': 2, 'post_id': 'test2', 'phone': '01045675678'}, {'no': 3, 'post_id': 'test3', 'phone': '0104345345'}, {'no': 4, 'post_id': 'test4', 'phone': '0102323434'}, {'no': 5, 'post_id': 'test5', 'phone': '0103454323'}, {'no': 6, 'post_id': 'test6', 'phone': '0000'}]\n"
     ]
    }
   ],
   "source": [
    "Order_BY_sql= \"SELECT * FROM tables2 ORDER BY post_id\"\n",
    "cursor.execute(Order_BY_sql)\n",
    "show_tables2()"
   ]
  },
  {
   "cell_type": "code",
   "execution_count": 30,
   "metadata": {},
   "outputs": [
    {
     "name": "stdout",
     "output_type": "stream",
     "text": [
      "[{'no': 6, 'post_id': 'test6', 'phone': '0000'}, {'no': 5, 'post_id': 'test5', 'phone': '0103454323'}, {'no': 4, 'post_id': 'test4', 'phone': '0102323434'}, {'no': 3, 'post_id': 'test3', 'phone': '0104345345'}, {'no': 2, 'post_id': 'test2', 'phone': '01045675678'}, {'no': 1, 'post_id': 'test1', 'phone': '0104959449'}]\n"
     ]
    }
   ],
   "source": [
    "select_sql= \"SELECT * FROM tables2 ORDER BY post_id DESC\"\n",
    "\n",
    "cursor.execute(select_sql)\n",
    "result = cursor.fetchall() \n",
    "print(result)"
   ]
  },
  {
   "cell_type": "code",
   "execution_count": 30,
   "metadata": {},
   "outputs": [
    {
     "name": "stdout",
     "output_type": "stream",
     "text": [
      "[{'no': 1, 'post_id': 'test1', 'phone': '0104959449'}, {'no': 2, 'post_id': 'test2', 'phone': '01045675678'}, {'no': 3, 'post_id': 'test3', 'phone': '0104345345'}, {'no': 4, 'post_id': 'test4', 'phone': '0102323434'}, {'no': 5, 'post_id': 'test5', 'phone': '0103454323'}, {'no': 6, 'post_id': 'test6', 'phone': '0000'}]\n"
     ]
    }
   ],
   "source": [
    "select_sql= \"SELECT * FROM tables2\"\n",
    "\n",
    "cursor.execute(select_sql)\n",
    "result = cursor.fetchall() \n",
    "print(result)"
   ]
  },
  {
   "cell_type": "code",
   "execution_count": 35,
   "metadata": {},
   "outputs": [
    {
     "name": "stdout",
     "output_type": "stream",
     "text": [
      "[{'post_id': 'text5', 'password': '3333', 'phone': None}, {'post_id': 'textpython', 'password': '2222', 'phone': None}, {'post_id': 'textpython1', 'password': '34536', 'phone': None}]\n"
     ]
    }
   ],
   "source": [
    "join_sql= '''SELECT base1.post_id, base1.password, tables2.phone\n",
    " FROM base1 LEFT JOIN tables2 ON base1.post_id=tables2.post_id'''\n",
    "\n",
    "#SELECT A.칼럼명, A.칼럼명, B.칼럼명, B.칼럼명2 FROM A LEFT JOIN B ON A.key = B.key\n",
    "#select_sql= '''SELECT base1.post_id, base1.password, tables2.phone as pw FROM base1 LEFT JOIN tables2 ON base1.post_id = tables2.post_id'''\n",
    "\n",
    "\n",
    "cursor.execute(join_sql)\n",
    "result = cursor.fetchall() \n",
    "print(result)\n",
    "\n",
    "#1에는 있는데 2에는 없는 애들이 있다. 이런건 어떻게 해야하나? \n",
    "#phone이 없는 값은 none 이라고 나옴 \n",
    "#겹치는 애인 text5는 password 값도 갖고 오고 phone 값도 같이 가져온다. \n"
   ]
  },
  {
   "cell_type": "code",
   "execution_count": null,
   "metadata": {},
   "outputs": [],
   "source": []
  },
  {
   "cell_type": "code",
   "execution_count": 34,
   "metadata": {},
   "outputs": [
    {
     "name": "stdout",
     "output_type": "stream",
     "text": [
      "[{'post_id': 'text5', 'password': '3333'}, {'post_id': 'textpython', 'password': '2222'}, {'post_id': 'textpython1', 'password': '34536'}]\n"
     ]
    }
   ],
   "source": [
    "select_sql= \"SELECT * FROM base1\"\n",
    "\n",
    "cursor.execute(select_sql)\n",
    "result = cursor.fetchall() \n",
    "print(result)"
   ]
  },
  {
   "cell_type": "code",
   "execution_count": 28,
   "metadata": {},
   "outputs": [
    {
     "name": "stdout",
     "output_type": "stream",
     "text": [
      "()\n"
     ]
    }
   ],
   "source": [
    "#inner\n",
    "select_sql= '''SELECT base1.post_id, base1.password, tables2.phone FROM base1 \n",
    "INNER JOIN tables2 ON base1.post_id = tables2.post_id'''\n",
    "\n",
    "cursor.execute(select_sql)\n",
    "result = cursor.fetchall() \n",
    "print(result)"
   ]
  },
  {
   "cell_type": "code",
   "execution_count": 13,
   "metadata": {},
   "outputs": [
    {
     "name": "stdout",
     "output_type": "stream",
     "text": [
      "[{'password': '5345', 'cnt': 1}, {'password': '3333', 'cnt': 1}, {'password': '1111', 'cnt': 1}]\n"
     ]
    }
   ],
   "source": [
    "#inner\n",
    "select_sql= '''SELECT password, COUNT(password) as cnt FROM base1 \n",
    "GROUP BY password'''\n",
    "#count 컬럼명인 key값을 다 적지 않으려고 cnt라는 별칭을 가져옴 \n",
    "#count 는 개수를 세서 넣어주는 것 \n",
    "\n",
    "cursor.execute(select_sql)\n",
    "result = cursor.fetchall() \n",
    "print(result)"
   ]
  },
  {
   "cell_type": "code",
   "execution_count": null,
   "metadata": {},
   "outputs": [],
   "source": [
    "#sql 워크벤치에 업데이트 하는 것이다. \n",
    "sample_db.commit() #\n",
    "sample_db.close() #mysql 닫음"
   ]
  }
 ],
 "metadata": {
  "interpreter": {
   "hash": "6d9aeff0c4cb62f006bcee5d924029c89375552da6e18543b57335e832e7bb6d"
  },
  "kernelspec": {
   "display_name": "Python 3.10.2 64-bit",
   "language": "python",
   "name": "python3"
  },
  "language_info": {
   "codemirror_mode": {
    "name": "ipython",
    "version": 3
   },
   "file_extension": ".py",
   "mimetype": "text/x-python",
   "name": "python",
   "nbconvert_exporter": "python",
   "pygments_lexer": "ipython3",
   "version": "3.10.2"
  },
  "orig_nbformat": 4
 },
 "nbformat": 4,
 "nbformat_minor": 2
}
