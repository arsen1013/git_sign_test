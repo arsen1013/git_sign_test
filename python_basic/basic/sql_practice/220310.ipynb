{
 "cells": [
  {
   "cell_type": "code",
   "execution_count": 2,
   "metadata": {},
   "outputs": [],
   "source": [
    "import pymysql\n",
    "import pandas as pd "
   ]
  },
  {
   "cell_type": "markdown",
   "metadata": {},
   "source": [
    "어떤 데이터 베이스에 접속할 것인지 클래스를 생성 "
   ]
  },
  {
   "cell_type": "code",
   "execution_count": 3,
   "metadata": {},
   "outputs": [],
   "source": [
    "_db = pymysql.connect(\n",
    "    user = \"root\",\n",
    "    password = \"pw0426!\",\n",
    "    host = \"localhost\",\n",
    "    db = \"ubion\",\n",
    "    charset = \"utf8\"\n",
    ")\n",
    "#뭔가 클래스를 생성 \n"
   ]
  },
  {
   "cell_type": "code",
   "execution_count": 4,
   "metadata": {},
   "outputs": [],
   "source": [
    "#생성된 클래스 모듈 호출, 커서 만들기 \n",
    "cursor = _db.cursor(pymysql.cursors.DictCursor)\n",
    "#pymysql.cursors.Cursor 가 아닌 pymysql.cursors.DictCursor로 받아와야 딕셔너리 형태로서 pd로 만들기 편하다.  "
   ]
  },
  {
   "cell_type": "code",
   "execution_count": 5,
   "metadata": {},
   "outputs": [
    {
     "name": "stdout",
     "output_type": "stream",
     "text": [
      "[{'ID': 'test', 'password': '1234', 'name': '고길동', 'phone': '01099239393', 'ads': '서울시 강북구 쌍문동', 'gender': 1, 'age': 45, 'regit_date': '20220310'}, {'ID': 'test2', 'password': '5678', 'name': '둘리', 'phone': '01098775733', 'ads': '북극 빙하 아래', 'gender': 1, 'age': 10, 'regit_date': '20220310'}, {'ID': 'test3', 'password': '9443', 'name': '마이콜', 'phone': '01023849343', 'ads': '고길동 옆 집', 'gender': 1, 'age': 28, 'regit_date': '20220310'}, {'ID': 'test4', 'password': '4321', 'name': '또치', 'phone': '01012345678', 'ads': '동물원', 'gender': 2, 'age': 4, 'regit_date': '20220310'}, {'ID': 'test5', 'password': '1234', 'name': '행인1', 'phone': '01023455665', 'ads': '서울특별시 어딘가', 'gender': 2, 'age': 20, 'regit_date': '20220310'}, {'ID': 'test8', 'password': '2345', 'name': '희동이', 'phone': '01099999999', 'ads': '', 'gender': 1, 'age': 5, 'regit_date': '2022.03.11'}]\n"
     ]
    },
    {
     "data": {
      "text/html": [
       "<div>\n",
       "<style scoped>\n",
       "    .dataframe tbody tr th:only-of-type {\n",
       "        vertical-align: middle;\n",
       "    }\n",
       "\n",
       "    .dataframe tbody tr th {\n",
       "        vertical-align: top;\n",
       "    }\n",
       "\n",
       "    .dataframe thead th {\n",
       "        text-align: right;\n",
       "    }\n",
       "</style>\n",
       "<table border=\"1\" class=\"dataframe\">\n",
       "  <thead>\n",
       "    <tr style=\"text-align: right;\">\n",
       "      <th></th>\n",
       "      <th>ID</th>\n",
       "      <th>password</th>\n",
       "      <th>name</th>\n",
       "      <th>phone</th>\n",
       "      <th>ads</th>\n",
       "      <th>gender</th>\n",
       "      <th>age</th>\n",
       "      <th>regit_date</th>\n",
       "    </tr>\n",
       "  </thead>\n",
       "  <tbody>\n",
       "    <tr>\n",
       "      <th>0</th>\n",
       "      <td>test</td>\n",
       "      <td>1234</td>\n",
       "      <td>고길동</td>\n",
       "      <td>01099239393</td>\n",
       "      <td>서울시 강북구 쌍문동</td>\n",
       "      <td>1</td>\n",
       "      <td>45</td>\n",
       "      <td>20220310</td>\n",
       "    </tr>\n",
       "    <tr>\n",
       "      <th>1</th>\n",
       "      <td>test2</td>\n",
       "      <td>5678</td>\n",
       "      <td>둘리</td>\n",
       "      <td>01098775733</td>\n",
       "      <td>북극 빙하 아래</td>\n",
       "      <td>1</td>\n",
       "      <td>10</td>\n",
       "      <td>20220310</td>\n",
       "    </tr>\n",
       "    <tr>\n",
       "      <th>2</th>\n",
       "      <td>test3</td>\n",
       "      <td>9443</td>\n",
       "      <td>마이콜</td>\n",
       "      <td>01023849343</td>\n",
       "      <td>고길동 옆 집</td>\n",
       "      <td>1</td>\n",
       "      <td>28</td>\n",
       "      <td>20220310</td>\n",
       "    </tr>\n",
       "    <tr>\n",
       "      <th>3</th>\n",
       "      <td>test4</td>\n",
       "      <td>4321</td>\n",
       "      <td>또치</td>\n",
       "      <td>01012345678</td>\n",
       "      <td>동물원</td>\n",
       "      <td>2</td>\n",
       "      <td>4</td>\n",
       "      <td>20220310</td>\n",
       "    </tr>\n",
       "    <tr>\n",
       "      <th>4</th>\n",
       "      <td>test5</td>\n",
       "      <td>1234</td>\n",
       "      <td>행인1</td>\n",
       "      <td>01023455665</td>\n",
       "      <td>서울특별시 어딘가</td>\n",
       "      <td>2</td>\n",
       "      <td>20</td>\n",
       "      <td>20220310</td>\n",
       "    </tr>\n",
       "    <tr>\n",
       "      <th>5</th>\n",
       "      <td>test8</td>\n",
       "      <td>2345</td>\n",
       "      <td>희동이</td>\n",
       "      <td>01099999999</td>\n",
       "      <td></td>\n",
       "      <td>1</td>\n",
       "      <td>5</td>\n",
       "      <td>2022.03.11</td>\n",
       "    </tr>\n",
       "  </tbody>\n",
       "</table>\n",
       "</div>"
      ],
      "text/plain": [
       "      ID password name        phone          ads  gender  age  regit_date\n",
       "0   test     1234  고길동  01099239393  서울시 강북구 쌍문동       1   45    20220310\n",
       "1  test2     5678   둘리  01098775733     북극 빙하 아래       1   10    20220310\n",
       "2  test3     9443  마이콜  01023849343      고길동 옆 집       1   28    20220310\n",
       "3  test4     4321   또치  01012345678          동물원       2    4    20220310\n",
       "4  test5     1234  행인1  01023455665    서울특별시 어딘가       2   20    20220310\n",
       "5  test8     2345  희동이  01099999999                    1    5  2022.03.11"
      ]
     },
     "execution_count": 5,
     "metadata": {},
     "output_type": "execute_result"
    }
   ],
   "source": [
    "sql_db = \"SELECT * FROM user_info\"\n",
    "\n",
    "cursor.execute(sql_db)\n",
    "result = cursor.fetchall( )\n",
    "print(result)\n",
    "dt = pd.DataFrame(result) #딕셔너리 형태의 데이터 값이기 때문에 pd는 key를 자동적으로 컬럼으로 올려준다. \n",
    "dt"
   ]
  },
  {
   "cell_type": "code",
   "execution_count": 6,
   "metadata": {},
   "outputs": [
    {
     "data": {
      "text/html": [
       "<div>\n",
       "<style scoped>\n",
       "    .dataframe tbody tr th:only-of-type {\n",
       "        vertical-align: middle;\n",
       "    }\n",
       "\n",
       "    .dataframe tbody tr th {\n",
       "        vertical-align: top;\n",
       "    }\n",
       "\n",
       "    .dataframe thead th {\n",
       "        text-align: right;\n",
       "    }\n",
       "</style>\n",
       "<table border=\"1\" class=\"dataframe\">\n",
       "  <thead>\n",
       "    <tr style=\"text-align: right;\">\n",
       "      <th></th>\n",
       "      <th>ID</th>\n",
       "      <th>password</th>\n",
       "      <th>name</th>\n",
       "      <th>phone</th>\n",
       "      <th>ads</th>\n",
       "      <th>gender</th>\n",
       "      <th>age</th>\n",
       "      <th>regit_date</th>\n",
       "    </tr>\n",
       "  </thead>\n",
       "  <tbody>\n",
       "    <tr>\n",
       "      <th>0</th>\n",
       "      <td>test</td>\n",
       "      <td>1234</td>\n",
       "      <td>고길동</td>\n",
       "      <td>01099239393</td>\n",
       "      <td>서울시 강북구 쌍문동</td>\n",
       "      <td>1</td>\n",
       "      <td>45</td>\n",
       "      <td>20220310</td>\n",
       "    </tr>\n",
       "    <tr>\n",
       "      <th>1</th>\n",
       "      <td>test2</td>\n",
       "      <td>5678</td>\n",
       "      <td>둘리</td>\n",
       "      <td>01098775733</td>\n",
       "      <td>북극 빙하 아래</td>\n",
       "      <td>1</td>\n",
       "      <td>10</td>\n",
       "      <td>20220310</td>\n",
       "    </tr>\n",
       "    <tr>\n",
       "      <th>2</th>\n",
       "      <td>test3</td>\n",
       "      <td>9443</td>\n",
       "      <td>마이콜</td>\n",
       "      <td>01023849343</td>\n",
       "      <td>고길동 옆 집</td>\n",
       "      <td>1</td>\n",
       "      <td>28</td>\n",
       "      <td>20220310</td>\n",
       "    </tr>\n",
       "    <tr>\n",
       "      <th>3</th>\n",
       "      <td>test4</td>\n",
       "      <td>4321</td>\n",
       "      <td>또치</td>\n",
       "      <td>01012345678</td>\n",
       "      <td>동물원</td>\n",
       "      <td>2</td>\n",
       "      <td>4</td>\n",
       "      <td>20220310</td>\n",
       "    </tr>\n",
       "    <tr>\n",
       "      <th>4</th>\n",
       "      <td>test5</td>\n",
       "      <td>1234</td>\n",
       "      <td>행인1</td>\n",
       "      <td>01023455665</td>\n",
       "      <td>서울특별시 어딘가</td>\n",
       "      <td>2</td>\n",
       "      <td>20</td>\n",
       "      <td>20220310</td>\n",
       "    </tr>\n",
       "    <tr>\n",
       "      <th>5</th>\n",
       "      <td>test8</td>\n",
       "      <td>2345</td>\n",
       "      <td>희동이</td>\n",
       "      <td>01099999999</td>\n",
       "      <td></td>\n",
       "      <td>1</td>\n",
       "      <td>5</td>\n",
       "      <td>2022.03.11</td>\n",
       "    </tr>\n",
       "  </tbody>\n",
       "</table>\n",
       "</div>"
      ],
      "text/plain": [
       "      ID password name        phone          ads  gender  age  regit_date\n",
       "0   test     1234  고길동  01099239393  서울시 강북구 쌍문동       1   45    20220310\n",
       "1  test2     5678   둘리  01098775733     북극 빙하 아래       1   10    20220310\n",
       "2  test3     9443  마이콜  01023849343      고길동 옆 집       1   28    20220310\n",
       "3  test4     4321   또치  01012345678          동물원       2    4    20220310\n",
       "4  test5     1234  행인1  01023455665    서울특별시 어딘가       2   20    20220310\n",
       "5  test8     2345  희동이  01099999999                    1    5  2022.03.11"
      ]
     },
     "execution_count": 6,
     "metadata": {},
     "output_type": "execute_result"
    }
   ],
   "source": [
    "dt = pd.DataFrame(result) #딕셔너리 형태의 데이터 값이기 때문에 pd는 key를 자동적으로 컬럼으로 올려준다. \n",
    "dt"
   ]
  },
  {
   "cell_type": "code",
   "execution_count": 6,
   "metadata": {},
   "outputs": [
    {
     "data": {
      "text/html": [
       "<div>\n",
       "<style scoped>\n",
       "    .dataframe tbody tr th:only-of-type {\n",
       "        vertical-align: middle;\n",
       "    }\n",
       "\n",
       "    .dataframe tbody tr th {\n",
       "        vertical-align: top;\n",
       "    }\n",
       "\n",
       "    .dataframe thead th {\n",
       "        text-align: right;\n",
       "    }\n",
       "</style>\n",
       "<table border=\"1\" class=\"dataframe\">\n",
       "  <thead>\n",
       "    <tr style=\"text-align: right;\">\n",
       "      <th></th>\n",
       "      <th>ID</th>\n",
       "      <th>password</th>\n",
       "      <th>name</th>\n",
       "      <th>phone</th>\n",
       "      <th>ads</th>\n",
       "      <th>gender</th>\n",
       "      <th>age</th>\n",
       "      <th>regit_date</th>\n",
       "    </tr>\n",
       "  </thead>\n",
       "  <tbody>\n",
       "    <tr>\n",
       "      <th>0</th>\n",
       "      <td>test</td>\n",
       "      <td>1234</td>\n",
       "      <td>고길동</td>\n",
       "      <td>01099239393</td>\n",
       "      <td>서울시 강북구 쌍문동</td>\n",
       "      <td>1</td>\n",
       "      <td>45</td>\n",
       "      <td>20220310</td>\n",
       "    </tr>\n",
       "    <tr>\n",
       "      <th>1</th>\n",
       "      <td>test2</td>\n",
       "      <td>5678</td>\n",
       "      <td>둘리</td>\n",
       "      <td>01098775733</td>\n",
       "      <td>북극 빙하 아래</td>\n",
       "      <td>1</td>\n",
       "      <td>10</td>\n",
       "      <td>20220310</td>\n",
       "    </tr>\n",
       "    <tr>\n",
       "      <th>2</th>\n",
       "      <td>test3</td>\n",
       "      <td>9443</td>\n",
       "      <td>마이콜</td>\n",
       "      <td>01023849343</td>\n",
       "      <td>고길동 옆 집</td>\n",
       "      <td>1</td>\n",
       "      <td>28</td>\n",
       "      <td>20220310</td>\n",
       "    </tr>\n",
       "    <tr>\n",
       "      <th>3</th>\n",
       "      <td>test4</td>\n",
       "      <td>4321</td>\n",
       "      <td>또치</td>\n",
       "      <td>0102939432</td>\n",
       "      <td>동물원</td>\n",
       "      <td>2</td>\n",
       "      <td>4</td>\n",
       "      <td>20220310</td>\n",
       "    </tr>\n",
       "    <tr>\n",
       "      <th>4</th>\n",
       "      <td>test5</td>\n",
       "      <td>1234</td>\n",
       "      <td>행인1</td>\n",
       "      <td>01023455665</td>\n",
       "      <td>서울특별시 어딘가</td>\n",
       "      <td>2</td>\n",
       "      <td>20</td>\n",
       "      <td>20220310</td>\n",
       "    </tr>\n",
       "  </tbody>\n",
       "</table>\n",
       "</div>"
      ],
      "text/plain": [
       "      ID password name        phone          ads  gender  age regit_date\n",
       "0   test     1234  고길동  01099239393  서울시 강북구 쌍문동       1   45   20220310\n",
       "1  test2     5678   둘리  01098775733     북극 빙하 아래       1   10   20220310\n",
       "2  test3     9443  마이콜  01023849343      고길동 옆 집       1   28   20220310\n",
       "3  test4     4321   또치   0102939432          동물원       2    4   20220310\n",
       "4  test5     1234  행인1  01023455665    서울특별시 어딘가       2   20   20220310"
      ]
     },
     "execution_count": 6,
     "metadata": {},
     "output_type": "execute_result"
    }
   ],
   "source": [
    "dt"
   ]
  },
  {
   "cell_type": "code",
   "execution_count": 11,
   "metadata": {},
   "outputs": [],
   "source": [
    "sql = \"insert into user_info values (%s, %s, %s, %s, %s, %s, %s, %s )\" \n",
    "values = [\"tes6\", \"4321\", \"또치\", \"0102939432\", \"동물원\", 2, 4, \"20220310\"]\n",
    "\n",
    "cursor.execute(sql,values)\n",
    "_db.commit()"
   ]
  },
  {
   "cell_type": "code",
   "execution_count": 14,
   "metadata": {},
   "outputs": [
    {
     "data": {
      "text/html": [
       "<div>\n",
       "<style scoped>\n",
       "    .dataframe tbody tr th:only-of-type {\n",
       "        vertical-align: middle;\n",
       "    }\n",
       "\n",
       "    .dataframe tbody tr th {\n",
       "        vertical-align: top;\n",
       "    }\n",
       "\n",
       "    .dataframe thead th {\n",
       "        text-align: right;\n",
       "    }\n",
       "</style>\n",
       "<table border=\"1\" class=\"dataframe\">\n",
       "  <thead>\n",
       "    <tr style=\"text-align: right;\">\n",
       "      <th></th>\n",
       "      <th>ID</th>\n",
       "      <th>password</th>\n",
       "      <th>name</th>\n",
       "      <th>phone</th>\n",
       "      <th>ads</th>\n",
       "      <th>gender</th>\n",
       "      <th>age</th>\n",
       "      <th>regit_date</th>\n",
       "    </tr>\n",
       "  </thead>\n",
       "  <tbody>\n",
       "    <tr>\n",
       "      <th>0</th>\n",
       "      <td>test</td>\n",
       "      <td>1234</td>\n",
       "      <td>고길동</td>\n",
       "      <td>01099239393</td>\n",
       "      <td>서울시 강북구 쌍문동</td>\n",
       "      <td>1</td>\n",
       "      <td>45</td>\n",
       "      <td>20220310</td>\n",
       "    </tr>\n",
       "    <tr>\n",
       "      <th>1</th>\n",
       "      <td>test2</td>\n",
       "      <td>5678</td>\n",
       "      <td>둘리</td>\n",
       "      <td>01098775733</td>\n",
       "      <td>북극 빙하 아래</td>\n",
       "      <td>1</td>\n",
       "      <td>10</td>\n",
       "      <td>20220310</td>\n",
       "    </tr>\n",
       "    <tr>\n",
       "      <th>2</th>\n",
       "      <td>test3</td>\n",
       "      <td>9443</td>\n",
       "      <td>마이콜</td>\n",
       "      <td>01023849343</td>\n",
       "      <td>고길동 옆 집</td>\n",
       "      <td>1</td>\n",
       "      <td>28</td>\n",
       "      <td>20220310</td>\n",
       "    </tr>\n",
       "    <tr>\n",
       "      <th>3</th>\n",
       "      <td>test4</td>\n",
       "      <td>4321</td>\n",
       "      <td>또치</td>\n",
       "      <td>0102939432</td>\n",
       "      <td>동물원</td>\n",
       "      <td>2</td>\n",
       "      <td>4</td>\n",
       "      <td>20220310</td>\n",
       "    </tr>\n",
       "    <tr>\n",
       "      <th>4</th>\n",
       "      <td>test5</td>\n",
       "      <td>1234</td>\n",
       "      <td>행인1</td>\n",
       "      <td>01023455665</td>\n",
       "      <td>서울특별시 어딘가</td>\n",
       "      <td>2</td>\n",
       "      <td>20</td>\n",
       "      <td>20220310</td>\n",
       "    </tr>\n",
       "  </tbody>\n",
       "</table>\n",
       "</div>"
      ],
      "text/plain": [
       "      ID password name        phone          ads  gender  age regit_date\n",
       "0   test     1234  고길동  01099239393  서울시 강북구 쌍문동       1   45   20220310\n",
       "1  test2     5678   둘리  01098775733     북극 빙하 아래       1   10   20220310\n",
       "2  test3     9443  마이콜  01023849343      고길동 옆 집       1   28   20220310\n",
       "3  test4     4321   또치   0102939432          동물원       2    4   20220310\n",
       "4  test5     1234  행인1  01023455665    서울특별시 어딘가       2   20   20220310"
      ]
     },
     "execution_count": 14,
     "metadata": {},
     "output_type": "execute_result"
    }
   ],
   "source": [
    "dt"
   ]
  },
  {
   "cell_type": "code",
   "execution_count": null,
   "metadata": {},
   "outputs": [],
   "source": [
    "#input_ID = input(\"ID 값: \")\n",
    "sql = \"insert into user_info values (%s, %s, %s, %s, %s, %s, %s, %s )\"\n",
    "\n",
    "_ID = input(\"ID: \")\n",
    "pw = input(\"password: \")\n",
    "name = input(\"name: \")\n",
    "phone = input(\"phone : \")\n",
    "ads = input(\"ads: \")\n",
    "gender = input(\"gender : \")\n",
    "age = input(\"age : \")\n",
    "regit_date = input(\"regit_date : \")\n",
    "\n",
    "input_list = [_ID,pw,name,phone,ads,gender,age, regit_date]\n",
    "\n",
    "cursor.execute(sql,input_list)\n",
    "_db.commit()"
   ]
  },
  {
   "cell_type": "code",
   "execution_count": 15,
   "metadata": {},
   "outputs": [
    {
     "data": {
      "text/plain": [
       "str"
      ]
     },
     "execution_count": 15,
     "metadata": {},
     "output_type": "execute_result"
    }
   ],
   "source": [
    "x = input(\"x: \")\n",
    "type(x)"
   ]
  },
  {
   "cell_type": "code",
   "execution_count": 27,
   "metadata": {},
   "outputs": [],
   "source": [
    "del_sql = \"\"\" DELETE FROM user_info WHERE ID = \"tes6\" \"\"\"\n",
    "cursor.execute(del_sql)\n",
    "_db.commit()"
   ]
  },
  {
   "cell_type": "code",
   "execution_count": 8,
   "metadata": {},
   "outputs": [
    {
     "name": "stdout",
     "output_type": "stream",
     "text": [
      " SELECT ID,\n",
      "                 password,\n",
      "                 name,\n",
      "                 ads,\n",
      "                 age,\n",
      "                 FROM user_info \n"
     ]
    }
   ],
   "source": [
    "update_sql = ''' SELECT ID,\n",
    "                 password,\n",
    "                 name,\n",
    "                 ads,\n",
    "                 age,\n",
    "                 FROM user_info '''\n",
    "\n",
    "print(update_sql)"
   ]
  },
  {
   "cell_type": "markdown",
   "metadata": {},
   "source": [
    "또치의 핸드폰 번호를 바꿔주자 "
   ]
  },
  {
   "cell_type": "code",
   "execution_count": 19,
   "metadata": {},
   "outputs": [],
   "source": [
    "update_sql = \"\"\"UPDATE user_info \n",
    "                SET phone = \"01012345678\" \n",
    "                WHERE name = \"또치\" \"\"\"\n",
    "\n",
    "\n",
    "cursor.execute(update_sql)\n",
    "#추가로 입력할 값은 없으니 다른거 안하고 \n",
    "_db.commit()\n"
   ]
  },
  {
   "cell_type": "code",
   "execution_count": 1,
   "metadata": {},
   "outputs": [
    {
     "ename": "NameError",
     "evalue": "name 'cursor' is not defined",
     "output_type": "error",
     "traceback": [
      "\u001b[1;31m---------------------------------------------------------------------------\u001b[0m",
      "\u001b[1;31mNameError\u001b[0m                                 Traceback (most recent call last)",
      "\u001b[1;32mc:\\ubion\\sql_practice\\220310.ipynb Cell 16'\u001b[0m in \u001b[0;36m<module>\u001b[1;34m\u001b[0m\n\u001b[0;32m      <a href='vscode-notebook-cell:/c%3A/ubion/sql_practice/220310.ipynb#ch0000015?line=4'>5</a>\u001b[0m     dt \u001b[39m=\u001b[39m pd\u001b[39m.\u001b[39mDataFrame(result) \u001b[39m#딕셔너리 형태의 데이터 값이기 때문에 pd는 key를 자동적으로 컬럼으로 올려준다. \u001b[39;00m\n\u001b[0;32m      <a href='vscode-notebook-cell:/c%3A/ubion/sql_practice/220310.ipynb#ch0000015?line=6'>7</a>\u001b[0m     \u001b[39mreturn\u001b[39;00m dt\n\u001b[1;32m----> <a href='vscode-notebook-cell:/c%3A/ubion/sql_practice/220310.ipynb#ch0000015?line=7'>8</a>\u001b[0m sql()\n",
      "\u001b[1;32mc:\\ubion\\sql_practice\\220310.ipynb Cell 16'\u001b[0m in \u001b[0;36msql\u001b[1;34m()\u001b[0m\n\u001b[0;32m      <a href='vscode-notebook-cell:/c%3A/ubion/sql_practice/220310.ipynb#ch0000015?line=0'>1</a>\u001b[0m \u001b[39mdef\u001b[39;00m \u001b[39msql\u001b[39m():\n\u001b[0;32m      <a href='vscode-notebook-cell:/c%3A/ubion/sql_practice/220310.ipynb#ch0000015?line=1'>2</a>\u001b[0m     sql_db \u001b[39m=\u001b[39m \u001b[39m\"\u001b[39m\u001b[39mSELECT * FROM user_info\u001b[39m\u001b[39m\"\u001b[39m\n\u001b[1;32m----> <a href='vscode-notebook-cell:/c%3A/ubion/sql_practice/220310.ipynb#ch0000015?line=2'>3</a>\u001b[0m     cursor\u001b[39m.\u001b[39mexecute(sql_db)\n\u001b[0;32m      <a href='vscode-notebook-cell:/c%3A/ubion/sql_practice/220310.ipynb#ch0000015?line=3'>4</a>\u001b[0m     result \u001b[39m=\u001b[39m cursor\u001b[39m.\u001b[39mfetchall( )\n\u001b[0;32m      <a href='vscode-notebook-cell:/c%3A/ubion/sql_practice/220310.ipynb#ch0000015?line=4'>5</a>\u001b[0m     dt \u001b[39m=\u001b[39m pd\u001b[39m.\u001b[39mDataFrame(result) \u001b[39m#딕셔너리 형태의 데이터 값이기 때문에 pd는 key를 자동적으로 컬럼으로 올려준다. \u001b[39;00m\n",
      "\u001b[1;31mNameError\u001b[0m: name 'cursor' is not defined"
     ]
    }
   ],
   "source": [
    "\n",
    "def sql():\n",
    "    sql_db = \"SELECT * FROM user_info\"\n",
    "    cursor.execute(sql_db)\n",
    "    result = cursor.fetchall( )\n",
    "    dt = pd.DataFrame(result) #딕셔너리 형태의 데이터 값이기 때문에 pd는 key를 자동적으로 컬럼으로 올려준다. \n",
    "    \n",
    "    return dt\n",
    "sql()"
   ]
  },
  {
   "cell_type": "code",
   "execution_count": null,
   "metadata": {},
   "outputs": [],
   "source": []
  }
 ],
 "metadata": {
  "interpreter": {
   "hash": "6d9aeff0c4cb62f006bcee5d924029c89375552da6e18543b57335e832e7bb6d"
  },
  "kernelspec": {
   "display_name": "Python 3.10.2 64-bit",
   "language": "python",
   "name": "python3"
  },
  "language_info": {
   "codemirror_mode": {
    "name": "ipython",
    "version": 3
   },
   "file_extension": ".py",
   "mimetype": "text/x-python",
   "name": "python",
   "nbconvert_exporter": "python",
   "pygments_lexer": "ipython3",
   "version": "3.10.2"
  },
  "orig_nbformat": 4
 },
 "nbformat": 4,
 "nbformat_minor": 2
}
