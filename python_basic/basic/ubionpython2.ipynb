{
 "cells": [
  {
   "cell_type": "code",
   "execution_count": 1,
   "metadata": {},
   "outputs": [
    {
     "name": "stdout",
     "output_type": "stream",
     "text": [
      "1\n",
      "2\n",
      "3\n",
      "4\n"
     ]
    }
   ],
   "source": [
    "for i in range (1, 100, 1):\n",
    "    if i == 5:\n",
    "        break\n",
    "    print(i)"
   ]
  },
  {
   "cell_type": "markdown",
   "metadata": {},
   "source": [
    "데이터 분석에서 보여주는 것은 정말 중요합니다. \n",
    "데이터 시각화 예쁘게 한, 오차율이 90인 데이터 분석 결과와 데이터 시각화가 되지 않은 오차율이 95인 경우가 있을때 \n",
    "전자를 많이 선택한다. 실무에서조차. "
   ]
  },
  {
   "cell_type": "code",
   "execution_count": null,
   "metadata": {},
   "outputs": [],
   "source": []
  },
  {
   "cell_type": "code",
   "execution_count": 12,
   "metadata": {},
   "outputs": [
    {
     "name": "stdout",
     "output_type": "stream",
     "text": [
      "{'num': [1, 2, 3, 4], 'num2': [4, 5, 6]}\n",
      "dict_values([[1, 2, 3, 4], [4, 5, 6]])\n",
      "[1, 2, 3, 4]\n",
      "4\n",
      "{'num': [1, 2, 3, 4], 'num4': 'new value'}\n",
      "([1, 23, 4], [34, 6, 7, 8])\n",
      "[34, 6, 7, 8]\n",
      "6\n"
     ]
    }
   ],
   "source": [
    "a = {\"num\": [1,2,3,4], \"num2\": [4,5,6]}\n",
    "print(a)\n",
    "print(a.values())\n",
    "print(a[\"num\"])\n",
    "print(a[\"num\"][3])\n",
    "\n",
    "a[\"num4\"] = \"new value\" #이런 식으로 추가하는 것은 nongoDB의 경우가 그렇습니다. SQL은 새로 추가하려면 번접한 편. \n",
    "del a[\"num2\"] \n",
    "print(a)\n",
    "\n",
    "#딕셔너리 형태 안에 key 값이 딕셔너리인 경우가 있습니다. 특히 웹사이트의 정보를 주고 받는 경우에서 심심찮게 보입니다. \n",
    "\n",
    "b = ([1,23,4],[34,6,7,8]) #튜플도 똑같이 가능\n",
    "print(b)\n",
    "print(b[1])\n",
    "print(b[1][1])"
   ]
  },
  {
   "cell_type": "markdown",
   "metadata": {},
   "source": [
    "함수란? 어떤 입력값을 가지고 작업을 실행하고 결과물을 출력하는 것\n",
    "def 란 키워드를 이용하여 함수를 정의합니다. \n",
    "\n",
    "def 함수명 (매개변수):\n",
    "    실행할 코드1 \n",
    "    ... \n",
    "    return 출력 값 \n",
    "\n",
    "출력할때는 \"함수명(인자)\" 사용합니다. \n",
    "\n",
    "*함수에서 매개변수와 인자를 사용하지 않는 경우도 있습니다. "
   ]
  },
  {
   "cell_type": "code",
   "execution_count": 11,
   "metadata": {},
   "outputs": [
    {
     "name": "stdout",
     "output_type": "stream",
     "text": [
      "7\n",
      "you are study now\n"
     ]
    }
   ],
   "source": [
    "def add (a,b):\n",
    "    c = a + b \n",
    "    return c \n",
    "\n",
    "print(add(3,4))\n",
    "\n",
    "\n",
    "\n",
    "def str():\n",
    "    return \"you are study now\"\n",
    "\n",
    "print(str())"
   ]
  },
  {
   "cell_type": "code",
   "execution_count": 7,
   "metadata": {},
   "outputs": [
    {
     "name": "stdout",
     "output_type": "stream",
     "text": [
      "78\n",
      "5\n",
      "8\n",
      "1\n"
     ]
    }
   ],
   "source": [
    "def func_1(startnum, outnum, plus):\n",
    "    sum = 0\n",
    "    for i in range(startnum, outnum, plus):\n",
    "        sum += i\n",
    "    return sum \n",
    "\n",
    "sum = func_1(1, 13, 1)\n",
    "print(sum)\n",
    "\n",
    "\n",
    "#함수 안에 사용되어 return된 sum과 print할때 사용된 sum은 다른 변수. \n",
    "#함수 안에 쓰여진 변수는 해당 함수 안에서만 쓰이는 변수로서 함수 밖에선 아무런 영향도 미치지 않는 지역변수 \n",
    "#함수 밖에 쓰여진 변수는 전역변수 \n",
    "\n",
    "\n"
   ]
  },
  {
   "cell_type": "code",
   "execution_count": 8,
   "metadata": {},
   "outputs": [
    {
     "name": "stdout",
     "output_type": "stream",
     "text": [
      "5\n",
      "8\n",
      "1\n"
     ]
    }
   ],
   "source": [
    "#전역에서 쓰는 변수를 함수 내에서도 쓸 수 있지만, 지역변수는 함수 밖에서 쓸 수 없음 \n",
    "#지역변수 만들어두고 전역에서 출력해서 불상사 생기는 경우 多\n",
    "\n",
    "b = 1 \n",
    "\n",
    "def sample(a,b):\n",
    "    print(b)\n",
    "    c = a+b \n",
    "    return c\n",
    "\n",
    "\n",
    "print(sample(3,5))\n",
    "print(b)\n"
   ]
  },
  {
   "cell_type": "code",
   "execution_count": 14,
   "metadata": {},
   "outputs": [
    {
     "name": "stdout",
     "output_type": "stream",
     "text": [
      "15\n"
     ]
    }
   ],
   "source": [
    "#매개 변수가 몇개가 들어갈지 모르는 상황일땐 *을 사용\n",
    "#잘 쓸 일은 없다. 대부분 튜닝 이후 for 문을 돌려서 사용할 뿐 \n",
    "#인자를 *로 주면 용량을 너무 많이 차지하기 때문에 용량을 줄여야 하는 경우엔 권할 만한 일은 아님 \n",
    "\n",
    "def howmany(*args):\n",
    "    result = 0\n",
    "    for i in args:\n",
    "        result += i\n",
    "    return result\n",
    "\n",
    "a = howmany(1,2,3,4,5)\n",
    "print(a)"
   ]
  },
  {
   "cell_type": "markdown",
   "metadata": {},
   "source": [
    "주피터도 라이브러리 입니다. \n",
    "\n",
    "\n",
    "\n",
    "vs code 에서 사전에 해야할 것 \n",
    "- CMD 에서 pip install pandas\n",
    "- 설치 경로 cd 는 아무곳에나 해도 상관없다. 깔리는 경로는 이미 지정 되어있기 때문. \n",
    "\n",
    "\n",
    "\n",
    "판다스의 구조 3가지 \n",
    "1. 시리즈 series : **1차원 배열의 값**과 그 값에 대응하는 인덱스 부여 : values와 index 만 존재  \n",
    "2. 데이터 프레임 Dataframe : **2차원 리스트** 값과 동일, data,index,colums 추가  *values 대신 data라는 용어 사용 \n",
    "3. 데이터 프레이미  Dataframe : 데이터형 리스트와 딕셔너리를 이용, 인덱스 값을 주지 않고 "
   ]
  },
  {
   "cell_type": "code",
   "execution_count": 3,
   "metadata": {},
   "outputs": [],
   "source": [
    "import pandas as pd  #cmd 에서 설치 후 불러오기 해야합니다. "
   ]
  },
  {
   "cell_type": "code",
   "execution_count": 4,
   "metadata": {},
   "outputs": [
    {
     "name": "stdout",
     "output_type": "stream",
     "text": [
      "카페라떼        5000\n",
      "카푸치노        6000\n",
      "프라푸치노       6500\n",
      "아메리카노 세트    7000\n",
      "dtype: int64\n",
      "[5000 6000 6500 7000]\n",
      "Index(['카페라떼', '카푸치노', '프라푸치노', '아메리카노 세트'], dtype='object')\n"
     ]
    }
   ],
   "source": [
    "#시리즈 \n",
    "pd_list = pd.Series([5000,6000,6500,7000],index = [\"카페라떼\", \"카푸치노\", \"프라푸치노\", \"아메리카노 세트\"])\n",
    "print(pd_list)\n",
    "\n",
    "#값만 출력 \n",
    "print(pd_list.values)\n",
    "\n",
    "#인덱스만 출력\n",
    "print(pd_list.index)\n"
   ]
  },
  {
   "cell_type": "code",
   "execution_count": 5,
   "metadata": {},
   "outputs": [
    {
     "data": {
      "text/html": [
       "<div>\n",
       "<style scoped>\n",
       "    .dataframe tbody tr th:only-of-type {\n",
       "        vertical-align: middle;\n",
       "    }\n",
       "\n",
       "    .dataframe tbody tr th {\n",
       "        vertical-align: top;\n",
       "    }\n",
       "\n",
       "    .dataframe thead th {\n",
       "        text-align: right;\n",
       "    }\n",
       "</style>\n",
       "<table border=\"1\" class=\"dataframe\">\n",
       "  <thead>\n",
       "    <tr style=\"text-align: right;\">\n",
       "      <th></th>\n",
       "      <th>A</th>\n",
       "      <th>b</th>\n",
       "      <th>c</th>\n",
       "    </tr>\n",
       "  </thead>\n",
       "  <tbody>\n",
       "    <tr>\n",
       "      <th>a</th>\n",
       "      <td>1</td>\n",
       "      <td>2</td>\n",
       "      <td>3</td>\n",
       "    </tr>\n",
       "    <tr>\n",
       "      <th>b</th>\n",
       "      <td>4</td>\n",
       "      <td>5</td>\n",
       "      <td>6</td>\n",
       "    </tr>\n",
       "    <tr>\n",
       "      <th>c</th>\n",
       "      <td>7</td>\n",
       "      <td>8</td>\n",
       "      <td>9</td>\n",
       "    </tr>\n",
       "  </tbody>\n",
       "</table>\n",
       "</div>"
      ],
      "text/plain": [
       "   A  b  c\n",
       "a  1  2  3\n",
       "b  4  5  6\n",
       "c  7  8  9"
      ]
     },
     "execution_count": 5,
     "metadata": {},
     "output_type": "execute_result"
    }
   ],
   "source": [
    "redata = [[1,2,3], [4,5,6],[7,8,9]]\n",
    "reindex = [\"a\",\"b\",\"c\"]\n",
    "recolumns = [\"A\", \"b\", 'c']\n",
    "\n",
    "pd.DataFrame(data = redata, index=reindex, columns=recolumns)\n",
    "#pd.DataFrame(revalues, reindex,recolumns) \n",
    "#인자별 순서가 지정되어 있어서,외부 라이브러리는 함수가 어떻게 되어있는지 알 수가 없다. \n",
    "#그래서 순서와 무관하게 앞에 매개변수 명을 '인자명'= 으로 적어주면 인자 순서를  바꿔도 인자에 맞게 잘 들어갈 수 있다. "
   ]
  },
  {
   "cell_type": "code",
   "execution_count": 6,
   "metadata": {},
   "outputs": [
    {
     "name": "stdout",
     "output_type": "stream",
     "text": [
      "   0  1              2\n",
      "0  A  남  010-1234-5678\n",
      "1  B  여  010-2354-6435\n",
      "2  C  남  010-5544-4345\n"
     ]
    }
   ],
   "source": [
    "list_data = [[\"A\",\"남\",\"010-1234-5678\"],\n",
    "             [\"B\",\"여\",\"010-2354-6435\"],\n",
    "             [\"C\",\"남\",\"010-5544-4345\"]]\n",
    "             #이렇게 관리하는 것이 육안으로 보기 제일 편하고 관리할 수 있어서 많이 한다. \n",
    "pd_dataframe_2 = pd.DataFrame(list_data)\n",
    "\n",
    "print(pd_dataframe_2)"
   ]
  },
  {
   "cell_type": "markdown",
   "metadata": {},
   "source": [
    "데이터 베이스에서 데이터를 가져올때나, API 등을 받아올때 예쁘게 표현하기 위해 판다스를 사용"
   ]
  },
  {
   "cell_type": "code",
   "execution_count": 7,
   "metadata": {},
   "outputs": [
    {
     "name": "stdout",
     "output_type": "stream",
     "text": [
      "  이름 성별             번호\n",
      "0  A  남  010-4848-3919\n",
      "1  B  여  010-1231-4324\n",
      "2  C  남  010-2342-5344\n"
     ]
    }
   ],
   "source": [
    "\n",
    "#딕셔너리형은 너무 불편해서 잘 안쓴다. \n",
    "#딕셔너리 형은 키 값이 컬럼값으로 대체된다. \n",
    "\n",
    "list_data = {\n",
    "    \"이름\" : [\"A\",\"B\",\"C\"],\n",
    "    \"성별\" : [\"남\",\"여\",\"남\"],\n",
    "    \"번호\" : [\"010-4848-3919\",\"010-1231-4324\",\"010-2342-5344\"]}\n",
    "\n",
    "pd_dataframe_2 = pd.DataFrame(list_data)\n",
    "\n",
    "print(pd_dataframe_2)"
   ]
  },
  {
   "cell_type": "code",
   "execution_count": 8,
   "metadata": {},
   "outputs": [
    {
     "data": {
      "text/html": [
       "<div>\n",
       "<style scoped>\n",
       "    .dataframe tbody tr th:only-of-type {\n",
       "        vertical-align: middle;\n",
       "    }\n",
       "\n",
       "    .dataframe tbody tr th {\n",
       "        vertical-align: top;\n",
       "    }\n",
       "\n",
       "    .dataframe thead th {\n",
       "        text-align: right;\n",
       "    }\n",
       "</style>\n",
       "<table border=\"1\" class=\"dataframe\">\n",
       "  <thead>\n",
       "    <tr style=\"text-align: right;\">\n",
       "      <th></th>\n",
       "      <th>이름</th>\n",
       "      <th>성별</th>\n",
       "      <th>번호</th>\n",
       "    </tr>\n",
       "  </thead>\n",
       "  <tbody>\n",
       "    <tr>\n",
       "      <th>0</th>\n",
       "      <td>A</td>\n",
       "      <td>남</td>\n",
       "      <td>010-4848-3919</td>\n",
       "    </tr>\n",
       "  </tbody>\n",
       "</table>\n",
       "</div>"
      ],
      "text/plain": [
       "  이름 성별             번호\n",
       "0  A  남  010-4848-3919"
      ]
     },
     "execution_count": 8,
     "metadata": {},
     "output_type": "execute_result"
    }
   ],
   "source": [
    "pd_dataframe_2.head(1)"
   ]
  },
  {
   "cell_type": "code",
   "execution_count": 9,
   "metadata": {},
   "outputs": [
    {
     "data": {
      "text/plain": [
       "0    남\n",
       "1    여\n",
       "2    남\n",
       "Name: 성별, dtype: object"
      ]
     },
     "execution_count": 9,
     "metadata": {},
     "output_type": "execute_result"
    }
   ],
   "source": [
    "pd_dataframe_2[\"성별\"]"
   ]
  },
  {
   "cell_type": "markdown",
   "metadata": {},
   "source": [
    "jason은 딕셔너리처럼 키와 벨류가 있는 형식.\n",
    "데이터 프레임으로 출력하면 키가 컬럼이 되어있는 식으로 나옴"
   ]
  },
  {
   "cell_type": "code",
   "execution_count": 10,
   "metadata": {},
   "outputs": [
    {
     "name": "stdout",
     "output_type": "stream",
     "text": [
      "  Name  Gender          Phone\n",
      "0    A    male  010-1234-5678\n",
      "1    B  female  010-1234-5679\n",
      "2    C    male  010-1234-5680\n",
      "3    D  female  010-1234-5681\n",
      "4    E    male  010-1234-5682\n",
      "5    F  female  010-1234-5683\n",
      "6    G    male  010-1234-5684\n",
      "7    H  female  010-1234-5685\n",
      "8    I    male  010-1234-5686\n",
      "9    J  female  010-1234-5687\n"
     ]
    }
   ],
   "source": [
    "csv_data = pd.read_csv(\"example.csv\")\n",
    "\n",
    "#C:/ubion/example.csv  : 절대경로 \n",
    "#../example.csv : 상대경로  cmd에서 cd.. 하면 상위폴더로 이동하는 키인데, 이것도 마찬가지. 즉 내가 코딩한 '.py' 바로 상위 폴더에서 example.csv를 찾게 됨 - 아예 다른 파일로 example.csv가 있으면 인지 못함\n",
    "#왜 상대경로 사용? : 내 외장하드면 내 외장하드는 G라고 잡혔다고 해, 그런데 이 파일을 압축해서 다른 사람에게 줄때, 경로가 다르면 그 사람은 읽지 못함 \n",
    "print(csv_data)"
   ]
  },
  {
   "cell_type": "markdown",
   "metadata": {},
   "source": [
    "넘파이는 수치 데이터를 다루는 라이브러리이다. \n",
    "다차원 행렬 자료 구조인 ndarray를 통하여 벡터 및 행렬을 사용하는 선형 대수 계산에서 주로 사용 \n",
    "속도면에서 우수한 라이브러리 \n",
    "\n",
    "array() 1차원 배열이든 2차원 배열이든 상관없이 행렬을 생성 \n",
    "\n",
    "행렬로 왜 바꿔줄까? \n",
    "행렬계산을 위해 행렬을 만들었을텐데.  - 행렬의 사칙연산 등... \n",
    "\n",
    "np.arrary()를 사용하면 배열의 축의 개수(ndim)와 크기 (shape)를 출력할 수 있다. \n",
    "매번 개수를 체크하는 함수가 나온다. \n",
    "왜 개수가 이렇게 중요할까? \n",
    "\n",
    "데이터를 하나하나 체크하기 위해서는 for문을 돌려야 하는데, \n",
    "그것을 위해선 위 데이터가 몇개인지, 가로세로 개수를 상세히 알고 있어야 한다. \n",
    "\n",
    "그래서 어느 형태건 갯수를 출력하는 함수를 꼭 함께 쌍으로 외워줘야 한다. \n",
    "\n",
    "zeros() : 0으로 채운다 \n",
    "ones() : 1로 채운다 \n",
    "full() : 특정 수로 채운다 \n",
    "eye(): 단위 행렬을 생성한다. np.eye()\n",
    "random.random() : 1보다 작은 임의의 값을 생성 \n",
    "arange(n): 0부터 n-1까지 배열 생성 \n",
    "arange(1,20,2) : 1부터 20까지 2씩 증가하는 값의 배열 생성 \n",
    "reshape(): 이미 생성된 배열 내부의 데이터 변경하지 않고 배열의 구조를 바꿈 \n"
   ]
  },
  {
   "cell_type": "code",
   "execution_count": 1,
   "metadata": {},
   "outputs": [],
   "source": [
    "import numpy as np "
   ]
  },
  {
   "cell_type": "code",
   "execution_count": 2,
   "metadata": {},
   "outputs": [
    {
     "data": {
      "text/plain": [
       "array([1, 2, 4, 5])"
      ]
     },
     "execution_count": 2,
     "metadata": {},
     "output_type": "execute_result"
    }
   ],
   "source": [
    "np_array = np.array([1,2,4,5])\n",
    "np_array\n"
   ]
  },
  {
   "cell_type": "code",
   "execution_count": 13,
   "metadata": {},
   "outputs": [
    {
     "data": {
      "text/plain": [
       "array([[1, 2, 3],\n",
       "       [4, 5, 6]])"
      ]
     },
     "execution_count": 13,
     "metadata": {},
     "output_type": "execute_result"
    }
   ],
   "source": [
    "np_array2 = np.array([[1,2,3],[4,5,6]])\n",
    "np_array2"
   ]
  },
  {
   "cell_type": "code",
   "execution_count": 14,
   "metadata": {},
   "outputs": [
    {
     "name": "stdout",
     "output_type": "stream",
     "text": [
      "2\n",
      "(2, 3)\n"
     ]
    }
   ],
   "source": [
    "print(np_array2.ndim) #2 행렬의 개수\n",
    "print(np_array2.shape) #(2,3) "
   ]
  },
  {
   "cell_type": "code",
   "execution_count": 15,
   "metadata": {},
   "outputs": [
    {
     "name": "stdout",
     "output_type": "stream",
     "text": [
      "[[0. 0. 0.]\n",
      " [0. 0. 0.]\n",
      " [0. 0. 0.]]\n"
     ]
    }
   ],
   "source": [
    "zero_array = np.zeros((3,3))\n",
    "print(zero_array)"
   ]
  },
  {
   "cell_type": "code",
   "execution_count": 16,
   "metadata": {},
   "outputs": [
    {
     "name": "stdout",
     "output_type": "stream",
     "text": [
      "[[1. 1. 1.]\n",
      " [1. 1. 1.]\n",
      " [1. 1. 1.]]\n"
     ]
    }
   ],
   "source": [
    "one_array = np.ones((3,3))\n",
    "print(one_array)"
   ]
  },
  {
   "cell_type": "code",
   "execution_count": 17,
   "metadata": {},
   "outputs": [
    {
     "data": {
      "text/plain": [
       "array([[9, 9, 9],\n",
       "       [9, 9, 9]])"
      ]
     },
     "execution_count": 17,
     "metadata": {},
     "output_type": "execute_result"
    }
   ],
   "source": [
    "full_array = np.full((2,3),9)\n",
    "full_array"
   ]
  },
  {
   "cell_type": "code",
   "execution_count": 18,
   "metadata": {},
   "outputs": [
    {
     "data": {
      "text/plain": [
       "array([[1., 0., 0.],\n",
       "       [0., 1., 0.],\n",
       "       [0., 0., 1.]])"
      ]
     },
     "execution_count": 18,
     "metadata": {},
     "output_type": "execute_result"
    }
   ],
   "source": [
    "eye_array = np.eye(3)\n",
    "eye_array"
   ]
  },
  {
   "cell_type": "code",
   "execution_count": 3,
   "metadata": {},
   "outputs": [
    {
     "data": {
      "text/plain": [
       "array([0.18531788, 0.12474175, 0.37606794])"
      ]
     },
     "execution_count": 3,
     "metadata": {},
     "output_type": "execute_result"
    }
   ],
   "source": [
    "random_ = np.random.random(3)\n",
    "random_"
   ]
  },
  {
   "cell_type": "code",
   "execution_count": 38,
   "metadata": {},
   "outputs": [
    {
     "data": {
      "text/plain": [
       "array([[0.47818907, 0.76045131],\n",
       "       [0.02214197, 0.18426014],\n",
       "       [0.95043562, 0.7138556 ],\n",
       "       [0.45632394, 0.86596204],\n",
       "       [0.94625251, 0.76198548],\n",
       "       [0.70936651, 0.11771879],\n",
       "       [0.9886028 , 0.13458713],\n",
       "       [0.18366474, 0.39049439],\n",
       "       [0.44709541, 0.73510708],\n",
       "       [0.22344347, 0.03192346]])"
      ]
     },
     "execution_count": 38,
     "metadata": {},
     "output_type": "execute_result"
    }
   ],
   "source": [
    "n_a =np.random.random((10,2))\n",
    "n_a"
   ]
  },
  {
   "cell_type": "markdown",
   "metadata": {},
   "source": [
    "역기서 0.81112881\n",
    " 0.34240535...  라는 두번째 열을 바꾸고 싶다면 어떻게 해야할까? \n",
    " 0.5보다 크면 1 \n",
    " 작거나 같으면 0 "
   ]
  },
  {
   "cell_type": "code",
   "execution_count": 22,
   "metadata": {},
   "outputs": [
    {
     "data": {
      "text/plain": [
       "0.7790297523386512"
      ]
     },
     "execution_count": 22,
     "metadata": {},
     "output_type": "execute_result"
    }
   ],
   "source": [
    "n_a[4][1] "
   ]
  },
  {
   "cell_type": "code",
   "execution_count": 24,
   "metadata": {},
   "outputs": [
    {
     "data": {
      "text/plain": [
       "10"
      ]
     },
     "execution_count": 24,
     "metadata": {},
     "output_type": "execute_result"
    }
   ],
   "source": [
    "len(n_a)"
   ]
  },
  {
   "cell_type": "code",
   "execution_count": 31,
   "metadata": {},
   "outputs": [
    {
     "ename": "TypeError",
     "evalue": "'int' object is not iterable",
     "output_type": "error",
     "traceback": [
      "\u001b[1;31m---------------------------------------------------------------------------\u001b[0m",
      "\u001b[1;31mTypeError\u001b[0m                                 Traceback (most recent call last)",
      "\u001b[1;32mc:\\ubion\\ubionpython2.ipynb Cell 35'\u001b[0m in \u001b[0;36m<module>\u001b[1;34m\u001b[0m\n\u001b[1;32m----> <a href='vscode-notebook-cell:/c%3A/ubion/ubionpython2.ipynb#ch0000100?line=0'>1</a>\u001b[0m \u001b[39mfor\u001b[39;00m i \u001b[39min\u001b[39;00m \u001b[39mlen\u001b[39m(n_a):\n\u001b[0;32m      <a href='vscode-notebook-cell:/c%3A/ubion/ubionpython2.ipynb#ch0000100?line=1'>2</a>\u001b[0m     \u001b[39mprint\u001b[39m(i)\n",
      "\u001b[1;31mTypeError\u001b[0m: 'int' object is not iterable"
     ]
    }
   ],
   "source": [
    "for i in len(n_a):\n",
    "    print(i)\n",
    "    #이건 왜 안될까? "
   ]
  },
  {
   "cell_type": "code",
   "execution_count": 33,
   "metadata": {},
   "outputs": [
    {
     "name": "stdout",
     "output_type": "stream",
     "text": [
      "0.0\n",
      "1.0\n",
      "1.0\n",
      "1.0\n",
      "1.0\n",
      "1.0\n",
      "1.0\n",
      "1.0\n",
      "1.0\n",
      "1.0\n"
     ]
    },
    {
     "data": {
      "text/plain": [
       "array([[0.83999897, 0.        ],\n",
       "       [0.36135983, 1.        ],\n",
       "       [0.49801056, 1.        ],\n",
       "       [0.33943963, 1.        ],\n",
       "       [0.32834573, 1.        ],\n",
       "       [0.51772714, 1.        ],\n",
       "       [0.69203866, 1.        ],\n",
       "       [0.6499803 , 1.        ],\n",
       "       [0.32457997, 1.        ],\n",
       "       [0.99244791, 1.        ]])"
      ]
     },
     "execution_count": 33,
     "metadata": {},
     "output_type": "execute_result"
    }
   ],
   "source": [
    "for i in range(0,len(n_a),1):\n",
    "    if i > 0.5:\n",
    "        n_a[i][1] = 1\n",
    "    else: \n",
    "        n_a[i][1] = 0\n",
    "         \n",
    "    print(n_a[i][1])\n",
    "n_a"
   ]
  },
  {
   "cell_type": "code",
   "execution_count": 39,
   "metadata": {},
   "outputs": [
    {
     "data": {
      "text/html": [
       "<div>\n",
       "<style scoped>\n",
       "    .dataframe tbody tr th:only-of-type {\n",
       "        vertical-align: middle;\n",
       "    }\n",
       "\n",
       "    .dataframe tbody tr th {\n",
       "        vertical-align: top;\n",
       "    }\n",
       "\n",
       "    .dataframe thead th {\n",
       "        text-align: right;\n",
       "    }\n",
       "</style>\n",
       "<table border=\"1\" class=\"dataframe\">\n",
       "  <thead>\n",
       "    <tr style=\"text-align: right;\">\n",
       "      <th></th>\n",
       "      <th>0</th>\n",
       "      <th>1</th>\n",
       "    </tr>\n",
       "  </thead>\n",
       "  <tbody>\n",
       "    <tr>\n",
       "      <th>0</th>\n",
       "      <td>0.478189</td>\n",
       "      <td>0.760451</td>\n",
       "    </tr>\n",
       "    <tr>\n",
       "      <th>1</th>\n",
       "      <td>0.022142</td>\n",
       "      <td>0.184260</td>\n",
       "    </tr>\n",
       "    <tr>\n",
       "      <th>2</th>\n",
       "      <td>0.950436</td>\n",
       "      <td>0.713856</td>\n",
       "    </tr>\n",
       "    <tr>\n",
       "      <th>3</th>\n",
       "      <td>0.456324</td>\n",
       "      <td>0.865962</td>\n",
       "    </tr>\n",
       "    <tr>\n",
       "      <th>4</th>\n",
       "      <td>0.946253</td>\n",
       "      <td>0.761985</td>\n",
       "    </tr>\n",
       "    <tr>\n",
       "      <th>5</th>\n",
       "      <td>0.709367</td>\n",
       "      <td>0.117719</td>\n",
       "    </tr>\n",
       "    <tr>\n",
       "      <th>6</th>\n",
       "      <td>0.988603</td>\n",
       "      <td>0.134587</td>\n",
       "    </tr>\n",
       "    <tr>\n",
       "      <th>7</th>\n",
       "      <td>0.183665</td>\n",
       "      <td>0.390494</td>\n",
       "    </tr>\n",
       "    <tr>\n",
       "      <th>8</th>\n",
       "      <td>0.447095</td>\n",
       "      <td>0.735107</td>\n",
       "    </tr>\n",
       "    <tr>\n",
       "      <th>9</th>\n",
       "      <td>0.223443</td>\n",
       "      <td>0.031923</td>\n",
       "    </tr>\n",
       "  </tbody>\n",
       "</table>\n",
       "</div>"
      ],
      "text/plain": [
       "          0         1\n",
       "0  0.478189  0.760451\n",
       "1  0.022142  0.184260\n",
       "2  0.950436  0.713856\n",
       "3  0.456324  0.865962\n",
       "4  0.946253  0.761985\n",
       "5  0.709367  0.117719\n",
       "6  0.988603  0.134587\n",
       "7  0.183665  0.390494\n",
       "8  0.447095  0.735107\n",
       "9  0.223443  0.031923"
      ]
     },
     "execution_count": 39,
     "metadata": {},
     "output_type": "execute_result"
    }
   ],
   "source": [
    "#같은 행동 데이터 프레임으로 계산하기 \n",
    "\n",
    "import pandas as pd\n",
    "dt = pd.DataFrame(n_a)\n",
    "\n",
    "dt\n"
   ]
  },
  {
   "cell_type": "code",
   "execution_count": 45,
   "metadata": {},
   "outputs": [
    {
     "data": {
      "text/html": [
       "<div>\n",
       "<style scoped>\n",
       "    .dataframe tbody tr th:only-of-type {\n",
       "        vertical-align: middle;\n",
       "    }\n",
       "\n",
       "    .dataframe tbody tr th {\n",
       "        vertical-align: top;\n",
       "    }\n",
       "\n",
       "    .dataframe thead th {\n",
       "        text-align: right;\n",
       "    }\n",
       "</style>\n",
       "<table border=\"1\" class=\"dataframe\">\n",
       "  <thead>\n",
       "    <tr style=\"text-align: right;\">\n",
       "      <th></th>\n",
       "      <th>0</th>\n",
       "      <th>1</th>\n",
       "    </tr>\n",
       "  </thead>\n",
       "  <tbody>\n",
       "    <tr>\n",
       "      <th>0</th>\n",
       "      <td>0.478189</td>\n",
       "      <td>1</td>\n",
       "    </tr>\n",
       "    <tr>\n",
       "      <th>1</th>\n",
       "      <td>0.022142</td>\n",
       "      <td>0</td>\n",
       "    </tr>\n",
       "    <tr>\n",
       "      <th>2</th>\n",
       "      <td>0.950436</td>\n",
       "      <td>1</td>\n",
       "    </tr>\n",
       "    <tr>\n",
       "      <th>3</th>\n",
       "      <td>0.456324</td>\n",
       "      <td>1</td>\n",
       "    </tr>\n",
       "    <tr>\n",
       "      <th>4</th>\n",
       "      <td>0.946253</td>\n",
       "      <td>1</td>\n",
       "    </tr>\n",
       "    <tr>\n",
       "      <th>5</th>\n",
       "      <td>0.709367</td>\n",
       "      <td>0</td>\n",
       "    </tr>\n",
       "    <tr>\n",
       "      <th>6</th>\n",
       "      <td>0.988603</td>\n",
       "      <td>0</td>\n",
       "    </tr>\n",
       "    <tr>\n",
       "      <th>7</th>\n",
       "      <td>0.183665</td>\n",
       "      <td>0</td>\n",
       "    </tr>\n",
       "    <tr>\n",
       "      <th>8</th>\n",
       "      <td>0.447095</td>\n",
       "      <td>1</td>\n",
       "    </tr>\n",
       "    <tr>\n",
       "      <th>9</th>\n",
       "      <td>0.223443</td>\n",
       "      <td>0</td>\n",
       "    </tr>\n",
       "  </tbody>\n",
       "</table>\n",
       "</div>"
      ],
      "text/plain": [
       "          0  1\n",
       "0  0.478189  1\n",
       "1  0.022142  0\n",
       "2  0.950436  1\n",
       "3  0.456324  1\n",
       "4  0.946253  1\n",
       "5  0.709367  0\n",
       "6  0.988603  0\n",
       "7  0.183665  0\n",
       "8  0.447095  1\n",
       "9  0.223443  0"
      ]
     },
     "execution_count": 45,
     "metadata": {},
     "output_type": "execute_result"
    }
   ],
   "source": [
    "\n",
    "dt[1] = dt[1].apply(lambda x : 1 if (x > 0.5) else 0)\n",
    "dt\n",
    "\n"
   ]
  },
  {
   "cell_type": "code",
   "execution_count": 47,
   "metadata": {},
   "outputs": [
    {
     "data": {
      "text/plain": [
       "0    1\n",
       "1    0\n",
       "2    1\n",
       "3    1\n",
       "4    1\n",
       "5    0\n",
       "6    0\n",
       "7    0\n",
       "8    1\n",
       "9    0\n",
       "Name: 1, dtype: int64"
      ]
     },
     "execution_count": 47,
     "metadata": {},
     "output_type": "execute_result"
    }
   ],
   "source": [
    "def _round(x):\n",
    "    if x > 0.5: \n",
    "        return 1 \n",
    "    else: \n",
    "        return 0 \n",
    "\n",
    "dt[1].apply(_round)"
   ]
  },
  {
   "cell_type": "code",
   "execution_count": null,
   "metadata": {},
   "outputs": [],
   "source": []
  },
  {
   "cell_type": "code",
   "execution_count": 46,
   "metadata": {},
   "outputs": [
    {
     "data": {
      "text/plain": [
       "0    1\n",
       "1    0\n",
       "2    1\n",
       "3    1\n",
       "4    1\n",
       "5    0\n",
       "6    0\n",
       "7    0\n",
       "8    1\n",
       "9    0\n",
       "Name: 1, dtype: int64"
      ]
     },
     "execution_count": 46,
     "metadata": {},
     "output_type": "execute_result"
    }
   ],
   "source": [
    "dt[1].round(0) \n",
    "#0.5라는 조건이라면 그냥 반올림 하면 된다. "
   ]
  },
  {
   "cell_type": "code",
   "execution_count": 43,
   "metadata": {},
   "outputs": [
    {
     "name": "stdout",
     "output_type": "stream",
     "text": [
      "[0 1 2 3]\n",
      "[ 4  5  6  7  8  9 10 11 12]\n",
      "[ 2 10 18 26 34 42 50 58 66 74 82]\n"
     ]
    }
   ],
   "source": [
    "arange_ = np.arange(4)\n",
    "print(arange_)\n",
    "\n",
    "arange_ = np.arange(4,13)\n",
    "print(arange_)\n",
    "\n",
    "aragne_ = np.arange(2,83,8)\n",
    "print(aragne_)\n"
   ]
  },
  {
   "cell_type": "code",
   "execution_count": 21,
   "metadata": {},
   "outputs": [
    {
     "name": "stdout",
     "output_type": "stream",
     "text": [
      "(9,)\n"
     ]
    }
   ],
   "source": [
    "aragne_.ndim\n",
    "print(arange_.shape)"
   ]
  },
  {
   "cell_type": "code",
   "execution_count": 22,
   "metadata": {},
   "outputs": [
    {
     "data": {
      "text/plain": [
       "(4,)"
      ]
     },
     "execution_count": 22,
     "metadata": {},
     "output_type": "execute_result"
    }
   ],
   "source": [
    "pd_list.shape"
   ]
  },
  {
   "cell_type": "markdown",
   "metadata": {},
   "source": [
    "넘파이 연산 \n",
    "\n",
    "a+b 와 np.add() 는 둘다 넘파이다. 원하는 것을 사용하면 된다. \n",
    "\n",
    "행렬곱은 기호로는 @다. \n",
    "연산 행렬곱 np.multiply()는 요소별 곱이다. 넘파이는 요소별 곱만이 아닌 백터와 행렬의 곱 또는 행렬의 곱으로 사용한다. "
   ]
  },
  {
   "cell_type": "code",
   "execution_count": 23,
   "metadata": {},
   "outputs": [
    {
     "name": "stdout",
     "output_type": "stream",
     "text": [
      "[[30 33]\n",
      " [31 35]]\n",
      "[[30 33]\n",
      " [31 35]]\n"
     ]
    }
   ],
   "source": [
    "x = np.array([[6,3],[5,4]])\n",
    "y = np.array([[3,3],[4,5]])\n",
    "\n",
    "z= np.dot(x,y)\n",
    "k = x@y\n",
    "\n",
    "print(z)\n",
    "print(k)\n"
   ]
  },
  {
   "cell_type": "code",
   "execution_count": null,
   "metadata": {},
   "outputs": [],
   "source": []
  },
  {
   "cell_type": "markdown",
   "metadata": {},
   "source": [
    "맷플롯립\n",
    "\n",
    "파이썬에서 데이터를 차트나 플롯으로 그려주는 라이브러리. 흔히 데이터 시각화 패키지로 알려져 있다. "
   ]
  },
  {
   "cell_type": "code",
   "execution_count": 24,
   "metadata": {},
   "outputs": [],
   "source": [
    "import matplotlib.pyplot as plt #맷플롭이 워낙 커서 뒤에 matplotlib이라는 라이브러리는 되어있는데 라이브러리 호출 자체는 안에 파일명에 걸려있을 수도 있고, 혹은 matplotlib 안에 파이썬 외의 라이브러리도 있어서 파이썬에서 쓰려면 구체적으로 할 수도 있고, 혹은 그냥 워낙 방대해서 붙일 수도 있다. "
   ]
  },
  {
   "cell_type": "code",
   "execution_count": 25,
   "metadata": {},
   "outputs": [
    {
     "data": {
      "image/png": "[encoded data removed]",
      "text/plain": [
       "<Figure size 432x288 with 1 Axes>"
      ]
     },
     "metadata": {
      "needs_background": "light"
     },
     "output_type": "display_data"
    }
   ],
   "source": [
    "plt.plot([1,2,3,4]) #리스트 값이 하나일때는 Y축만 지정. X축의 값은 자연스럽게 0부터 갖게 된다. \n",
    "plt.show()"
   ]
  },
  {
   "cell_type": "code",
   "execution_count": 26,
   "metadata": {},
   "outputs": [
    {
     "data": {
      "image/png": "[encoded data removed]",
      "text/plain": [
       "<Figure size 432x288 with 1 Axes>"
      ]
     },
     "metadata": {
      "needs_background": "light"
     },
     "output_type": "display_data"
    }
   ],
   "source": [
    "plt.plot([1,2,3,4], [1,4,2,7,]) #x가 1일때는 y도 1, x가 4일때는 y가 7로 나오도록 그래프가 그려진다. \n",
    "#앞에있는 [1,2,3,4] 리스트는 없어도 되지만.. 내가 x축을 지정하고 싶다면 넣으면 된다. \n",
    "plt.show()"
   ]
  },
  {
   "cell_type": "code",
   "execution_count": 27,
   "metadata": {},
   "outputs": [
    {
     "data": {
      "image/png": "[encoded data removed]",
      "text/plain": [
       "<Figure size 432x288 with 1 Axes>"
      ]
     },
     "metadata": {
      "needs_background": "light"
     },
     "output_type": "display_data"
    }
   ],
   "source": [
    "#그래프 색 다르게 하는 법 \n",
    "\n",
    "#선의 형태 도트 등등 다 변경 가능 \n",
    "plt.plot([1,2,3,4], [1,4,2,7,],'#000FFF') #색상표로 색 두개 \n",
    "plt.show()"
   ]
  },
  {
   "cell_type": "code",
   "execution_count": 28,
   "metadata": {},
   "outputs": [
    {
     "data": {
      "image/png": "[encoded data removed]",
      "text/plain": [
       "<Figure size 432x288 with 1 Axes>"
      ]
     },
     "metadata": {
      "needs_background": "light"
     },
     "output_type": "display_data"
    }
   ],
   "source": [
    "index = [1,2,3,4]\n",
    "plt.plot(index,[3,4,5,6], '--r') #플롯 종류 변경하기 color=\"r\" 추가 가능! \n",
    "plt.plot(index,[4,5,6,7], 'ob')\n",
    "plt.plot(index,[12,14,13,18], \".m\")\n",
    "\n",
    "plt.xlabel(\"x lable\") \n",
    "plt.ylabel(\"y lable\")\n",
    "plt.title(\"title\") #제목 추가 \n",
    "\n",
    "plt.legend([\"red\",\"blue\",\"pupple\"], loc=\"upper right\") #범례 추가 \n",
    "#plt.legend([\"red\",\"blue\",\"pupple\"], loc=2) #범례(loc) 위치는 지정된 코드로 입력해도 된다.   \n",
    "\n",
    "\n",
    "plt.show()\n",
    "\n",
    "#선이 여러개일때 이렇게 할 수 있다. "
   ]
  },
  {
   "cell_type": "code",
   "execution_count": 29,
   "metadata": {},
   "outputs": [
    {
     "data": {
      "image/png": "[encoded data removed]",
      "text/plain": [
       "<Figure size 432x288 with 2 Axes>"
      ]
     },
     "metadata": {
      "needs_background": "light"
     },
     "output_type": "display_data"
    }
   ],
   "source": [
    "\n",
    "plt.subplot(1,2,1) #한 화면에 여러개 서브 플롯을 그리고 싶을때 , #subplot(nrow, ncol,pos)\n",
    "plt.plot([2,3,5,6])\n",
    "plt.plot([2,5,7,4])\n",
    "\n",
    "plt.subplot(1,2,2)\n",
    "plt.plot([2,4,3,5])\n",
    "plt.show()\n",
    "\n",
    "\n"
   ]
  },
  {
   "cell_type": "code",
   "execution_count": 30,
   "metadata": {},
   "outputs": [
    {
     "data": {
      "image/png": "[encoded data removed]",
      "text/plain": [
       "<Figure size 432x288 with 1 Axes>"
      ]
     },
     "metadata": {
      "needs_background": "light"
     },
     "output_type": "display_data"
    }
   ],
   "source": [
    "x = [1,2,3]\n",
    "y = [20,40,60]\n",
    "plt.bar(x,y, color = \"y\") \n",
    "\n",
    "#x값을 바꾸고 싶다면 \n",
    "plt.xticks(x,[\"math\",\"science\",\"english\"])\n",
    "\n",
    "plt.show()"
   ]
  },
  {
   "cell_type": "code",
   "execution_count": 31,
   "metadata": {},
   "outputs": [
    {
     "data": {
      "image/png": "[encoded data removed]",
      "text/plain": [
       "<Figure size 432x288 with 1 Axes>"
      ]
     },
     "metadata": {
      "needs_background": "light"
     },
     "output_type": "display_data"
    }
   ],
   "source": [
    "x = [1,2,3]\n",
    "y = [20,40,60]\n",
    "plt.bar(x,y, color = [\"c\",\"y\",\"b\"], width=0.6) #만약 색상을 두가지만 줬다면 번갈아서 돈다.  #width 는 넓이 \n",
    "\n",
    "#x값을 바꾸고 싶다면 \n",
    "plt.xticks(x,[\"math\",\"science\",\"english\"])\n",
    "\n",
    "plt.show()"
   ]
  },
  {
   "cell_type": "code",
   "execution_count": 32,
   "metadata": {},
   "outputs": [
    {
     "name": "stdout",
     "output_type": "stream",
     "text": [
      "   days  visits corp\n",
      "0   Mon      32    A\n",
      "1   Tue      23    A\n",
      "2   Wed      14    A\n",
      "3   Thu      14    A\n",
      "4   Fri      27    A\n",
      "5   Sat      40    A\n",
      "6   Sun      35    A\n",
      "7   Mon      37    B\n",
      "8   Tue      28    B\n",
      "9   Wed       9    B\n",
      "10  Thu      41    B\n",
      "11  Fri      29    B\n",
      "12  Sat      33    B\n",
      "13  Sun      21    B\n",
      "14  Mon      45    C\n",
      "15  Tue      33    C\n",
      "16  Wed       9    C\n",
      "17  Thu      11    C\n",
      "18  Fri      10    C\n",
      "19  Sat      12    C\n",
      "20  Sun      27    C\n"
     ]
    }
   ],
   "source": [
    "## 데이터\n",
    "\n",
    "#https://infograph.tistory.com/211\n",
    "\n",
    "import pandas as pd\n",
    " \n",
    "df = pd.DataFrame()\n",
    "df['days'] = ['Mon','Tue','Wed','Thu','Fri','Sat','Sun']*3 ## 요일\n",
    "df['visits'] = [32,23,14,14,27,40,35,37,28,9,41,29,33,21,45,33,9,11,10,12,27] ## 방문 고객수\n",
    "df['corp'] = ['A']*7 + ['B']*7 + ['C']*7 ## 회사명\n",
    "\n",
    "print(df)"
   ]
  },
  {
   "cell_type": "code",
   "execution_count": 33,
   "metadata": {},
   "outputs": [
    {
     "name": "stdout",
     "output_type": "stream",
     "text": [
      "  days  visits corp\n",
      "0  Mon      32    A\n",
      "1  Tue      23    A\n",
      "2  Wed      14    A\n",
      "3  Thu      14    A\n",
      "4  Fri      27    A\n",
      "5  Sat      40    A\n",
      "6  Sun      35    A\n",
      "                                                                                                    \n",
      "   days  visits corp\n",
      "7   Mon      37    B\n",
      "8   Tue      28    B\n",
      "9   Wed       9    B\n",
      "10  Thu      41    B\n",
      "11  Fri      29    B\n",
      "12  Sat      33    B\n",
      "13  Sun      21    B\n",
      "                                                                                                    \n",
      "   days  visits corp\n",
      "14  Mon      45    C\n",
      "15  Tue      33    C\n",
      "16  Wed       9    C\n",
      "17  Thu      11    C\n",
      "18  Fri      10    C\n",
      "19  Sat      12    C\n",
      "20  Sun      27    C\n"
     ]
    }
   ],
   "source": [
    "a_df = df.query('corp ==\"A\"') \n",
    "b_df = df.query('corp ==\"B\"') \n",
    "c_df = df.query('corp ==\"C\"') \n",
    "\n",
    "print(a_df)\n",
    "print(\" \"*100)\n",
    "print(b_df)\n",
    "print(\" \"*100)\n",
    "print(c_df)"
   ]
  },
  {
   "cell_type": "code",
   "execution_count": 34,
   "metadata": {},
   "outputs": [
    {
     "name": "stdout",
     "output_type": "stream",
     "text": [
      "0    32\n",
      "1    23\n",
      "2    14\n",
      "3    14\n",
      "4    27\n",
      "5    40\n",
      "6    35\n",
      "Name: visits, dtype: int64\n"
     ]
    }
   ],
   "source": [
    "a_df = df.query('corp ==\"A\"') \n",
    "a_visits = a_df['visits']\n",
    "days = a_df['days']\n",
    "\n",
    "print(a_visits)"
   ]
  },
  {
   "cell_type": "code",
   "execution_count": 35,
   "metadata": {},
   "outputs": [
    {
     "data": {
      "image/png": "[encoded data removed]",
      "text/plain": [
       "<Figure size 576x576 with 1 Axes>"
      ]
     },
     "metadata": {},
     "output_type": "display_data"
    }
   ],
   "source": [
    "\n",
    "## 3개 데이터 분리\n",
    "a_df = df.query('corp ==\"A\"') \n",
    "a_visits = a_df['visits']\n",
    "days = a_df['days']\n",
    " \n",
    "b_df = df.query('corp ==\"B\"')\n",
    "b_visits = b_df['visits']\n",
    " \n",
    "c_df = df.query('corp ==\"C\"')\n",
    "c_visits = c_df['visits']\n",
    " \n",
    "fig = plt.figure(figsize=(8,8)) ## 캔버스 생성\n",
    "fig.set_facecolor('white') ## 캔버스 색상 설정\n",
    "ax = fig.add_subplot() ## 그림 뼈대(프레임) 생성\n",
    " \n",
    "ax.plot(days,a_visits,marker='o',label='A') ## 선그래프 생성\n",
    "ax.plot(days,b_visits,marker='o',label='B') \n",
    "ax.plot(days,c_visits,marker='o',label='C') \n",
    " \n",
    "ax.legend() ## 범례\n",
    " \n",
    "plt.title('Sales for last weekdays',fontsize=20) ## 타이틀 설정\n",
    "plt.show()\n"
   ]
  },
  {
   "cell_type": "code",
   "execution_count": 36,
   "metadata": {},
   "outputs": [
    {
     "data": {
      "image/png": "[encoded data removed]",
      "text/plain": [
       "<Figure size 576x576 with 1 Axes>"
      ]
     },
     "metadata": {},
     "output_type": "display_data"
    }
   ],
   "source": [
    "a_df = df.query('corp ==\"A\"') \n",
    "a_visits = a_df['visits']\n",
    "days = a_df['days']\n",
    " \n",
    "b_df = df.query('corp ==\"B\"')\n",
    "b_visits = b_df['visits']\n",
    " \n",
    "c_df = df.query('corp ==\"C\"')\n",
    "c_visits = c_df['visits']\n",
    " \n",
    "fig = plt.figure(figsize=(8,8)) ## 캔버스 생성\n",
    "fig.set_facecolor('white') ## 캔버스 색상 설정\n",
    "\n",
    " \n",
    "plt.plot(days,a_visits,marker='o',label='A') ## 선그래프 생성\n",
    "plt.plot(days,b_visits,marker='o',label='B') \n",
    "plt.plot(days,c_visits,marker='o',label='C') \n",
    " \n",
    "plt.legend() ## 범례\n",
    " \n",
    "plt.title('Sales for last weekdays',fontsize=20) ## 타이틀 설정\n",
    "plt.show()\n"
   ]
  },
  {
   "cell_type": "code",
   "execution_count": 37,
   "metadata": {},
   "outputs": [
    {
     "name": "stdout",
     "output_type": "stream",
     "text": [
      "[7.16429137e-01 6.53073142e-01 2.27042708e-01 2.41471346e-01\n",
      " 6.72546929e-01 4.67578435e-01 1.38630167e-01 9.46773890e-01\n",
      " 8.45757512e-01 8.49749608e-01 7.75552764e-01 4.00113140e-01\n",
      " 8.01624773e-01 3.25082249e-01 1.70532091e-01 5.86416819e-01\n",
      " 2.45804794e-01 3.38796207e-01 4.21900042e-01 7.92815981e-01\n",
      " 8.61111595e-01 1.69012811e-03 9.01360779e-01 6.30706078e-01\n",
      " 3.39966386e-01 4.88093018e-01 6.84879378e-01 5.21947824e-01\n",
      " 6.17973305e-04 9.44165908e-01 5.03776304e-02 9.11800342e-01\n",
      " 8.52274154e-01 2.21654315e-01 3.28816279e-01 9.73680969e-01\n",
      " 3.27047310e-01 4.86978379e-01 4.73094686e-01 8.09730404e-01\n",
      " 4.44478669e-01 9.59298616e-01 9.21201435e-01 1.13819659e-01\n",
      " 2.42828564e-01 7.90062456e-01 4.42821151e-01 2.31293140e-01\n",
      " 4.50436602e-02 8.49038343e-02] [0.81633594 0.87417304 0.67265118 0.34669044 0.26021131 0.72661438\n",
      " 0.00905766 0.3058564  0.25615581 0.4803198  0.65112559 0.18113773\n",
      " 0.4837789  0.10646399 0.93858807 0.54240171 0.07492723 0.94430558\n",
      " 0.58243341 0.3188209  0.28223272 0.06490303 0.36483365 0.01751749\n",
      " 0.43298499 0.02392452 0.75588551 0.64261192 0.47319884 0.35307646\n",
      " 0.15616459 0.71668504 0.66046667 0.72660932 0.85859537 0.02684879\n",
      " 0.86740925 0.94260701 0.83360217 0.52689546 0.87308954 0.41878973\n",
      " 0.53025243 0.81379626 0.31288292 0.88261622 0.07610701 0.27686756\n",
      " 0.90483628 0.64862912]\n"
     ]
    },
    {
     "data": {
      "image/png": "[encoded data removed]",
      "text/plain": [
       "<Figure size 432x288 with 1 Axes>"
      ]
     },
     "metadata": {
      "needs_background": "light"
     },
     "output_type": "display_data"
    }
   ],
   "source": [
    "#산점도 사용하기 위해서 scatter() 사용 \n",
    "\n",
    "# random 종류가 여러개가 있다.\n",
    "\n",
    "x=np.random.rand(50) \n",
    "#행렬 만드는 라이브러리인 np를 사용해서 랜덤하게 배열을 만들어서 집어넣기 \n",
    "y = np.random.rand(50)\n",
    "print(x,y)\n",
    "\n",
    "plt.scatter(x,y)\n",
    "plt.show()"
   ]
  },
  {
   "cell_type": "code",
   "execution_count": 38,
   "metadata": {},
   "outputs": [
    {
     "data": {
      "image/png": "[encoded data removed]",
      "text/plain": [
       "<Figure size 432x288 with 1 Axes>"
      ]
     },
     "metadata": {
      "needs_background": "light"
     },
     "output_type": "display_data"
    }
   ],
   "source": [
    "x=np.random.rand(50) \n",
    "y = np.random.rand(50)\n",
    "\n",
    "\n",
    "area = (20 * np.random.rand(50))**2 #제곱을 해주는 것은 차이를 크게 주기 위해서다.\n",
    "colors = np.random.rand(50)\n",
    "#20이란 숫자는 넘파이 산점도의 기본 숫자.. 20에 우리가 랜덤으로 하면 1보다 작은 소수점들이 있을텐데. \n",
    "\n",
    "plt.scatter(x,y, s = area, c = colors)\n",
    "plt.show()"
   ]
  },
  {
   "cell_type": "code",
   "execution_count": 39,
   "metadata": {},
   "outputs": [
    {
     "ename": "SyntaxError",
     "evalue": "invalid syntax (1241931054.py, line 1)",
     "output_type": "error",
     "traceback": [
      "\u001b[1;36m  Input \u001b[1;32mIn [39]\u001b[1;36m\u001b[0m\n\u001b[1;33m    for func_\u001b[0m\n\u001b[1;37m             ^\u001b[0m\n\u001b[1;31mSyntaxError\u001b[0m\u001b[1;31m:\u001b[0m invalid syntax\n"
     ]
    }
   ],
   "source": [
    "for func_"
   ]
  },
  {
   "cell_type": "code",
   "execution_count": null,
   "metadata": {},
   "outputs": [
    {
     "name": "stdout",
     "output_type": "stream",
     "text": [
      "11\n"
     ]
    }
   ],
   "source": [
    "def func_4(input_a,input_b):\n",
    "    result = input_a + input_b\n",
    "    return result\n",
    "\n",
    "print(func_4(5,6))"
   ]
  },
  {
   "cell_type": "code",
   "execution_count": null,
   "metadata": {},
   "outputs": [
    {
     "name": "stdout",
     "output_type": "stream",
     "text": [
      "10\n"
     ]
    }
   ],
   "source": [
    "def func_5():\n",
    "    a = 10\n",
    "    def func_6():\n",
    "        print(a)\n",
    "    func_6()\n",
    "func_5()\n",
    "\n",
    "#func_5가 출력될건데 a 는 10을 저장하고 그것을 출력하는 함수 func_6를 실행하는 func_5를 실행한다. "
   ]
  },
  {
   "cell_type": "code",
   "execution_count": null,
   "metadata": {},
   "outputs": [
    {
     "name": "stdout",
     "output_type": "stream",
     "text": [
      "115\n"
     ]
    }
   ],
   "source": [
    "def func_5():\n",
    "    a = 115\n",
    "    def func_6():\n",
    "        print(a)\n",
    "    func_6()\n",
    "func_5()\n"
   ]
  },
  {
   "cell_type": "code",
   "execution_count": null,
   "metadata": {},
   "outputs": [],
   "source": [
    "#함수를 생성하되 -> 매개변수가 3개 def 함수 (a,b,c) 세개의 매개변수 : ->\n",
    "# 함수 안에 함수를 하나 더 생성 -> 함수 1에서는 a+ b 해주고 \n",
    "# 함수 2에서는 a+b를 더해준 값에 C를 뺴주는 함수 만들기 \n",
    "\n",
    "def func_7(a,b,c):\n",
    "    def func_8(a,b):\n",
    "        sum = a+b\n",
    "        print(sum)\n",
    "    def func_9(c):\n",
    "        resualt = sum-c\n",
    "        return resualt\n",
    "\n"
   ]
  },
  {
   "cell_type": "code",
   "execution_count": null,
   "metadata": {},
   "outputs": [
    {
     "name": "stdout",
     "output_type": "stream",
     "text": [
      "0\n"
     ]
    }
   ],
   "source": [
    "#함수를 생성하되 -> 매개변수가 3개 def 함수 (a,b,c) 세개의 매개변수 : ->\n",
    "# 함수 안에 함수를 하나 더 생성 -> 함수 1에서는 a+ b 해주고 \n",
    "# 함수 2에서는 a+b를 더해준 값에 C를 뺴주는 함수 만들기 \n",
    "\n",
    "def func_7(a,b,c):\n",
    "    sum = a+b\n",
    "    #sum은 지역변수지만 이 func_7 안에서는 전역변수와 같이 쓸 수 있음 \n",
    "\n",
    "    def func_8():\n",
    "        result = sum - c\n",
    "        #sum은 func_7동안 쓸 수 있는 지역변수니까 재활용 가능! \n",
    "        return result\n",
    "    \n",
    "    # print(result)#result는 8에 국한된 지역변수므로 나오지 않는다.\n",
    "    \n",
    "    #print(result)가 나게 하기 위한 방법은? \n",
    "    print(func_8())\n",
    "\n",
    "\n",
    "\n",
    "func_7(1,2,3)\n",
    "\n"
   ]
  },
  {
   "cell_type": "code",
   "execution_count": null,
   "metadata": {},
   "outputs": [
    {
     "name": "stdout",
     "output_type": "stream",
     "text": [
      "1\n"
     ]
    }
   ],
   "source": [
    "def func_9(input_a,input_b):\n",
    "    sum = input_a + input_b\n",
    "    return sum \n",
    "\n",
    "def func_10(input_c, input_d, input_e):\n",
    "    #func_9의 sum과는 지역변수로 다르다! \n",
    "    sum = func_9(input_c, input_d)\n",
    "    result = sum - input_e\n",
    "    return result\n",
    "\n",
    "print(func_10(2,3,4))"
   ]
  },
  {
   "cell_type": "code",
   "execution_count": null,
   "metadata": {},
   "outputs": [
    {
     "data": {
      "text/plain": [
       "-1"
      ]
     },
     "execution_count": 58,
     "metadata": {},
     "output_type": "execute_result"
    }
   ],
   "source": [
    "#함수 3개 생성 \n",
    "#함수1 -> 두 수의 합 \n",
    "#함수 2 -> 두 수의 차 \n",
    "#함수 3 -> def 함수3(a,b,c):-> c의 값이 's'면 함수 1(a,b)\n",
    "#c의 값이 'D'이면 함수 2(a,b) -> 호출 --> print(함수 3)\n",
    "\n",
    "def one (a,b):\n",
    "    sum = a+b\n",
    "    return sum \n",
    "\n",
    "def two (a,b):\n",
    "    sum = a - b\n",
    "    return sum\n",
    "\n",
    "def three (a,b,c):\n",
    "    if c == 'S' :\n",
    "        result = one(a,b)\n",
    "        return result\n",
    "\n",
    "    elif c == 'D':\n",
    "        result = two(a,b)\n",
    "        return result\n",
    "\n",
    "    else:\n",
    "        return \"not match\"\n",
    "\n",
    "three(4,5,'D')\n",
    "\n"
   ]
  },
  {
   "cell_type": "code",
   "execution_count": null,
   "metadata": {},
   "outputs": [
    {
     "name": "stdout",
     "output_type": "stream",
     "text": [
      "9\n",
      "9\n"
     ]
    }
   ],
   "source": [
    "def one (a,b):\n",
    "    sum = a+b\n",
    "    return sum \n",
    "\n",
    "def two (a,b):\n",
    "    sum = a - b\n",
    "    return sum\n",
    "\n",
    "def three (a,b,c):\n",
    "    if c == 'S' :\n",
    "        result = one(a,b)\n",
    "        print(result)\n",
    "        return result\n",
    "\n",
    "    elif c == 'D':\n",
    "        result = two(a,b)\n",
    "        print(result)\n",
    "        return result\n",
    "    else:\n",
    "        return \"not match\"\n",
    "\n",
    "print(three(4,5,'S'))\n",
    "#three함수를 불러서 4,5, 's' 인자값을 넣어서 호출했는데, \n",
    "# 이 three 함수값을 확ㅇ니해보면 \n",
    "# 마지막 인풋 g의 매개변수를 s 면 두줄을 실행하는 것이고 \n",
    "# 이미 print에서 출력했기 때문에 return값은 없는 것임 \n",
    "# 펑션을 불렀을때 return값이 존재하지 않으면 호출은 하긴 하는데\n",
    "#  return값이 나오지 않는 것임  \n",
    "\n",
    "#이렇게 print()를 중복으로 주면 ? \n",
    "#fucnc 13에 있는 return을 출력하는 것이기 때문에 0이 나옴 "
   ]
  },
  {
   "cell_type": "code",
   "execution_count": null,
   "metadata": {},
   "outputs": [
    {
     "name": "stdout",
     "output_type": "stream",
     "text": [
      "3\n",
      "5\n"
     ]
    }
   ],
   "source": [
    "#함수 -> 입력 2개 a~b,c = 짝수면 작수만 홀수, c가 홀수면 a~c까지 홀수만 출력해라 \n",
    "#반횐되는 값의 데이터형태는 자유\n",
    "#a와 b값\n",
    "\n",
    "def sniffling (a,b,c):\n",
    "    if c/2 == 0:\n",
    "        for i in (a,b,c):\n",
    "            if i%2 == 0:\n",
    "                print(i)\n",
    "\n",
    "    if c/2 != 0: \n",
    "        for i in (a,b,c):\n",
    "            if i%2 != 0:\n",
    "                print(i)\n",
    "\n",
    "sniffling(3,4,5)\n",
    "\n"
   ]
  },
  {
   "cell_type": "code",
   "execution_count": null,
   "metadata": {},
   "outputs": [
    {
     "name": "stdout",
     "output_type": "stream",
     "text": [
      "2\n",
      "4\n",
      "6\n",
      "8\n",
      "10\n",
      "12\n",
      "14\n",
      "16\n",
      "18\n",
      "20\n",
      "[2, 4, 6, 8, 10, 12, 14, 16, 18, 20]\n"
     ]
    }
   ],
   "source": [
    "#함수 -> 입력 2개 a~b, c = 짝수면 작수만 홀수, c가 홀수면 a~c까지 홀수만 출력해라 \n",
    "#반횐되는 값의 데이터형태는 자유\n",
    "#a와 b값\n",
    "\n",
    "\n",
    "\n",
    "#지역변수 활용\n",
    "#간단하게 출력값만 필요할때 활용 (굳이 전역변수 써서 전역변수를 활용할 필요 없을때) \n",
    "\n",
    "def sniffling (a,b):\n",
    "    _list = [] #지역변수\n",
    "    for i in range(a, b+1, 1):\n",
    "        if i%2 == 0:\n",
    "            print(i)\n",
    "            _list.append(i)\n",
    "    return _list\n",
    "        \n",
    "def sniffling2 (a, b):\n",
    "    _list = []\n",
    "    for i in range(a, b+1, 1):\n",
    "        if i%2 == 1:\n",
    "            print(i)\n",
    "            _list.append(i)\n",
    "    return _list\n",
    "\n",
    "def sniffling3 (a,b,c):\n",
    "    if c == \"짝수\": \n",
    "        return(sniffling(a,b))\n",
    "    elif c == \"홀수\":\n",
    "        return(sniffling2(a,b))\n",
    "\n",
    "#sniffling3(2,20,\"짝수\")\n",
    "print(sniffling3(2,20,\"짝수\"))"
   ]
  },
  {
   "cell_type": "code",
   "execution_count": null,
   "metadata": {},
   "outputs": [
    {
     "name": "stdout",
     "output_type": "stream",
     "text": [
      "[3, 5, 7, 9]\n"
     ]
    }
   ],
   "source": [
    "#지역변수 활용 \n",
    "#코드를 최대한 짧게 짜고 싶을때 \n",
    "\n",
    "_list = []\n",
    "\n",
    "def sniffling (a,b):\n",
    "    for i in range(a, b+1, 1):\n",
    "        if i%2 == 0:\n",
    "            #print(i)\n",
    "            _list.append(i)\n",
    "        \n",
    "def sniffling2 (a, b):\n",
    "    for i in range(a, b+1, 1):\n",
    "        if i%2 == 1:\n",
    "            #print(i)\n",
    "            _list.append(i)\n",
    "\n",
    "def sniffling3 (a,b,c):\n",
    "    if c == \"짝수\": \n",
    "        sniffling(a,b)\n",
    "\n",
    "    elif c == \"홀수\":\n",
    "        sniffling2(a,b)\n",
    "\n",
    "\n",
    "sniffling3(2,10,\"홀수\")\n",
    "print(_list)\n",
    "\n"
   ]
  },
  {
   "cell_type": "code",
   "execution_count": null,
   "metadata": {},
   "outputs": [],
   "source": [
    "dict_list = [{\"name\":\"test1\", \"password\": \"1234\"},\n",
    "                {\"name\":\"test2\", \"password\": \"1234\"},\n",
    "                {\"name\":\"test3\", \"password\": \"1234\"}]"
   ]
  },
  {
   "cell_type": "code",
   "execution_count": null,
   "metadata": {},
   "outputs": [
    {
     "name": "stdout",
     "output_type": "stream",
     "text": [
      "{'name': 'test1', 'password': '1234'}\n",
      "{'name': 'test2', 'password': '1234'}\n",
      "{'name': 'test3', 'password': '1234'}\n"
     ]
    }
   ],
   "source": [
    "for i in range(0,len(dict_list),1):\n",
    "    print(dict_list[i])\n",
    "    "
   ]
  },
  {
   "cell_type": "code",
   "execution_count": null,
   "metadata": {},
   "outputs": [
    {
     "name": "stdout",
     "output_type": "stream",
     "text": [
      "{'name': 'test1', 'password': '1234'}\n",
      "{'name': 'test2', 'password': '1234'}\n",
      "{'name': 'test3', 'password': '1234'}\n"
     ]
    }
   ],
   "source": [
    "for i in range(len(dict_list)):\n",
    "    print(dict_list[i])"
   ]
  },
  {
   "cell_type": "code",
   "execution_count": null,
   "metadata": {},
   "outputs": [
    {
     "name": "stdout",
     "output_type": "stream",
     "text": [
      "test1\n",
      "test2\n",
      "test3\n"
     ]
    }
   ],
   "source": [
    "for i in range(len(dict_list)):\n",
    "    print(dict_list[i][\"name\"])"
   ]
  },
  {
   "cell_type": "code",
   "execution_count": null,
   "metadata": {},
   "outputs": [
    {
     "name": "stdout",
     "output_type": "stream",
     "text": [
      "{'name': 'test1', 'password': '1234'}\n",
      "{'name': 'test2', 'password': '1234'}\n",
      "{'name': 'test3', 'password': '1234'}\n"
     ]
    }
   ],
   "source": [
    "for list in dict_list:\n",
    "    print(list)"
   ]
  },
  {
   "cell_type": "code",
   "execution_count": null,
   "metadata": {},
   "outputs": [
    {
     "name": "stdout",
     "output_type": "stream",
     "text": [
      "test1\n",
      "test2\n",
      "test3\n"
     ]
    }
   ],
   "source": [
    "for list in dict_list:\n",
    "    print(list[\"name\"])"
   ]
  },
  {
   "cell_type": "code",
   "execution_count": null,
   "metadata": {},
   "outputs": [],
   "source": [
    "for list in dict_list:\n",
    "    print(list)"
   ]
  },
  {
   "cell_type": "code",
   "execution_count": null,
   "metadata": {},
   "outputs": [
    {
     "name": "stdout",
     "output_type": "stream",
     "text": [
      "test1\n",
      "test2\n",
      "test3\n"
     ]
    }
   ],
   "source": [
    "def func_2 (List, inpput_key):\n",
    "    num = 0 \n",
    "    while num < len(List): \n",
    "        print(List[num][inpput_key])\n",
    "        num +=1\n",
    "\n",
    "func_2(dict_list,\"name\")\n"
   ]
  },
  {
   "cell_type": "code",
   "execution_count": null,
   "metadata": {},
   "outputs": [
    {
     "name": "stdout",
     "output_type": "stream",
     "text": [
      "test1\n",
      "test2\n",
      "test3\n"
     ]
    }
   ],
   "source": [
    "def func_1(inpput_key):\n",
    "    for list in dict_list:\n",
    "        print(list[inpput_key])\n",
    "\n",
    "func_1(\"name\")"
   ]
  },
  {
   "cell_type": "code",
   "execution_count": null,
   "metadata": {},
   "outputs": [
    {
     "data": {
      "text/html": [
       "<div>\n",
       "<style scoped>\n",
       "    .dataframe tbody tr th:only-of-type {\n",
       "        vertical-align: middle;\n",
       "    }\n",
       "\n",
       "    .dataframe tbody tr th {\n",
       "        vertical-align: top;\n",
       "    }\n",
       "\n",
       "    .dataframe thead th {\n",
       "        text-align: right;\n",
       "    }\n",
       "</style>\n",
       "<table border=\"1\" class=\"dataframe\">\n",
       "  <thead>\n",
       "    <tr style=\"text-align: right;\">\n",
       "      <th></th>\n",
       "      <th>A</th>\n",
       "    </tr>\n",
       "  </thead>\n",
       "  <tbody>\n",
       "    <tr>\n",
       "      <th>1</th>\n",
       "      <td>a</td>\n",
       "    </tr>\n",
       "  </tbody>\n",
       "</table>\n",
       "</div>"
      ],
      "text/plain": [
       "   A\n",
       "1  a"
      ]
     },
     "execution_count": 13,
     "metadata": {},
     "output_type": "execute_result"
    }
   ],
   "source": [
    "import pandas as pd \n",
    "\n",
    "df_1 = pd.DataFrame(['a'], index=[1], columns=['A'])\n",
    "df_1"
   ]
  },
  {
   "cell_type": "code",
   "execution_count": null,
   "metadata": {},
   "outputs": [
    {
     "data": {
      "text/html": [
       "<div>\n",
       "<style scoped>\n",
       "    .dataframe tbody tr th:only-of-type {\n",
       "        vertical-align: middle;\n",
       "    }\n",
       "\n",
       "    .dataframe tbody tr th {\n",
       "        vertical-align: top;\n",
       "    }\n",
       "\n",
       "    .dataframe thead th {\n",
       "        text-align: right;\n",
       "    }\n",
       "</style>\n",
       "<table border=\"1\" class=\"dataframe\">\n",
       "  <thead>\n",
       "    <tr style=\"text-align: right;\">\n",
       "      <th></th>\n",
       "      <th>A</th>\n",
       "    </tr>\n",
       "  </thead>\n",
       "  <tbody>\n",
       "    <tr>\n",
       "      <th>0</th>\n",
       "      <td>a</td>\n",
       "    </tr>\n",
       "    <tr>\n",
       "      <th>1</th>\n",
       "      <td>b</td>\n",
       "    </tr>\n",
       "    <tr>\n",
       "      <th>2</th>\n",
       "      <td>c</td>\n",
       "    </tr>\n",
       "  </tbody>\n",
       "</table>\n",
       "</div>"
      ],
      "text/plain": [
       "   A\n",
       "0  a\n",
       "1  b\n",
       "2  c"
      ]
     },
     "execution_count": 14,
     "metadata": {},
     "output_type": "execute_result"
    }
   ],
   "source": [
    "df_1 = pd.DataFrame(['a','b','c'], columns=['A'])\n",
    "df_1"
   ]
  },
  {
   "cell_type": "code",
   "execution_count": null,
   "metadata": {},
   "outputs": [
    {
     "data": {
      "text/html": [
       "<div>\n",
       "<style scoped>\n",
       "    .dataframe tbody tr th:only-of-type {\n",
       "        vertical-align: middle;\n",
       "    }\n",
       "\n",
       "    .dataframe tbody tr th {\n",
       "        vertical-align: top;\n",
       "    }\n",
       "\n",
       "    .dataframe thead th {\n",
       "        text-align: right;\n",
       "    }\n",
       "</style>\n",
       "<table border=\"1\" class=\"dataframe\">\n",
       "  <thead>\n",
       "    <tr style=\"text-align: right;\">\n",
       "      <th></th>\n",
       "      <th>A</th>\n",
       "      <th>B</th>\n",
       "    </tr>\n",
       "  </thead>\n",
       "  <tbody>\n",
       "    <tr>\n",
       "      <th>0</th>\n",
       "      <td>a</td>\n",
       "      <td>A</td>\n",
       "    </tr>\n",
       "    <tr>\n",
       "      <th>1</th>\n",
       "      <td>b</td>\n",
       "      <td>B</td>\n",
       "    </tr>\n",
       "    <tr>\n",
       "      <th>2</th>\n",
       "      <td>c</td>\n",
       "      <td>C</td>\n",
       "    </tr>\n",
       "  </tbody>\n",
       "</table>\n",
       "</div>"
      ],
      "text/plain": [
       "   A  B\n",
       "0  a  A\n",
       "1  b  B\n",
       "2  c  C"
      ]
     },
     "execution_count": 15,
     "metadata": {},
     "output_type": "execute_result"
    }
   ],
   "source": [
    "df_1['B'] = [\"A\",\"B\",\"C\"]\n",
    "df_1"
   ]
  },
  {
   "cell_type": "code",
   "execution_count": null,
   "metadata": {},
   "outputs": [
    {
     "data": {
      "text/html": [
       "<div>\n",
       "<style scoped>\n",
       "    .dataframe tbody tr th:only-of-type {\n",
       "        vertical-align: middle;\n",
       "    }\n",
       "\n",
       "    .dataframe tbody tr th {\n",
       "        vertical-align: top;\n",
       "    }\n",
       "\n",
       "    .dataframe thead th {\n",
       "        text-align: right;\n",
       "    }\n",
       "</style>\n",
       "<table border=\"1\" class=\"dataframe\">\n",
       "  <thead>\n",
       "    <tr style=\"text-align: right;\">\n",
       "      <th></th>\n",
       "      <th>A</th>\n",
       "      <th>B</th>\n",
       "    </tr>\n",
       "  </thead>\n",
       "  <tbody>\n",
       "    <tr>\n",
       "      <th>0</th>\n",
       "      <td>a</td>\n",
       "      <td>A</td>\n",
       "    </tr>\n",
       "    <tr>\n",
       "      <th>1</th>\n",
       "      <td>b</td>\n",
       "      <td>A</td>\n",
       "    </tr>\n",
       "    <tr>\n",
       "      <th>2</th>\n",
       "      <td>c</td>\n",
       "      <td>A</td>\n",
       "    </tr>\n",
       "  </tbody>\n",
       "</table>\n",
       "</div>"
      ],
      "text/plain": [
       "   A  B\n",
       "0  a  A\n",
       "1  b  A\n",
       "2  c  A"
      ]
     },
     "execution_count": 16,
     "metadata": {},
     "output_type": "execute_result"
    }
   ],
   "source": [
    "df_1['B'] = 'A' \n",
    "df_1"
   ]
  },
  {
   "cell_type": "code",
   "execution_count": null,
   "metadata": {},
   "outputs": [
    {
     "data": {
      "text/plain": [
       "0    a\n",
       "1    b\n",
       "2    c\n",
       "Name: A, dtype: object"
      ]
     },
     "execution_count": 17,
     "metadata": {},
     "output_type": "execute_result"
    }
   ],
   "source": [
    "#불러오는 방법은 두 가지 \n",
    "\n",
    "df_1['A']\n",
    "df_1.A\n"
   ]
  },
  {
   "cell_type": "code",
   "execution_count": null,
   "metadata": {},
   "outputs": [
    {
     "data": {
      "text/html": [
       "<div>\n",
       "<style scoped>\n",
       "    .dataframe tbody tr th:only-of-type {\n",
       "        vertical-align: middle;\n",
       "    }\n",
       "\n",
       "    .dataframe tbody tr th {\n",
       "        vertical-align: top;\n",
       "    }\n",
       "\n",
       "    .dataframe thead th {\n",
       "        text-align: right;\n",
       "    }\n",
       "</style>\n",
       "<table border=\"1\" class=\"dataframe\">\n",
       "  <thead>\n",
       "    <tr style=\"text-align: right;\">\n",
       "      <th></th>\n",
       "      <th>a</th>\n",
       "      <th>b</th>\n",
       "    </tr>\n",
       "  </thead>\n",
       "  <tbody>\n",
       "    <tr>\n",
       "      <th>0</th>\n",
       "      <td>a</td>\n",
       "      <td>A</td>\n",
       "    </tr>\n",
       "    <tr>\n",
       "      <th>1</th>\n",
       "      <td>b</td>\n",
       "      <td>A</td>\n",
       "    </tr>\n",
       "    <tr>\n",
       "      <th>2</th>\n",
       "      <td>c</td>\n",
       "      <td>A</td>\n",
       "    </tr>\n",
       "  </tbody>\n",
       "</table>\n",
       "</div>"
      ],
      "text/plain": [
       "   a  b\n",
       "0  a  A\n",
       "1  b  A\n",
       "2  c  A"
      ]
     },
     "execution_count": 18,
     "metadata": {},
     "output_type": "execute_result"
    }
   ],
   "source": [
    "df_1.columns = [\"a\",\"b\"]\n",
    "df_1\n",
    "\n",
    "#컬럼값을 왜 변경할까 \n",
    "#전처리 하는 과정에서 불편한 컬럼명이면, 내가 불편한 컬럼명이면? -> 효율과 시각화를 위해 입맛대로 바꿔서 작업한 다음에 제출직전만 고치면 된다. \n",
    "# 한글을 최대한 피하지만, 영문으로 되어있는 컬럼명을 한글로 바꿔줄 수도 있을 거고\n"
   ]
  },
  {
   "cell_type": "code",
   "execution_count": null,
   "metadata": {},
   "outputs": [
    {
     "data": {
      "text/html": [
       "<div>\n",
       "<style scoped>\n",
       "    .dataframe tbody tr th:only-of-type {\n",
       "        vertical-align: middle;\n",
       "    }\n",
       "\n",
       "    .dataframe tbody tr th {\n",
       "        vertical-align: top;\n",
       "    }\n",
       "\n",
       "    .dataframe thead th {\n",
       "        text-align: right;\n",
       "    }\n",
       "</style>\n",
       "<table border=\"1\" class=\"dataframe\">\n",
       "  <thead>\n",
       "    <tr style=\"text-align: right;\">\n",
       "      <th></th>\n",
       "      <th>name</th>\n",
       "      <th>pay</th>\n",
       "    </tr>\n",
       "  </thead>\n",
       "  <tbody>\n",
       "    <tr>\n",
       "      <th>0</th>\n",
       "      <td>test1</td>\n",
       "      <td>20000</td>\n",
       "    </tr>\n",
       "    <tr>\n",
       "      <th>1</th>\n",
       "      <td>test2</td>\n",
       "      <td>30000</td>\n",
       "    </tr>\n",
       "    <tr>\n",
       "      <th>2</th>\n",
       "      <td>test3</td>\n",
       "      <td>10000</td>\n",
       "    </tr>\n",
       "  </tbody>\n",
       "</table>\n",
       "</div>"
      ],
      "text/plain": [
       "    name    pay\n",
       "0  test1  20000\n",
       "1  test2  30000\n",
       "2  test3  10000"
      ]
     },
     "execution_count": 20,
     "metadata": {},
     "output_type": "execute_result"
    }
   ],
   "source": [
    "values = [[\"test1\", \"20000\"],[\"test2\", \"30000\"],[\"test3\",\"10000\"]]\n",
    "columns = [\"name\",\"pay\"]\n",
    "\n",
    "df_2 = pd.DataFrame(values, columns=columns)\n",
    "df_2"
   ]
  },
  {
   "cell_type": "code",
   "execution_count": null,
   "metadata": {},
   "outputs": [
    {
     "data": {
      "text/html": [
       "<div>\n",
       "<style scoped>\n",
       "    .dataframe tbody tr th:only-of-type {\n",
       "        vertical-align: middle;\n",
       "    }\n",
       "\n",
       "    .dataframe tbody tr th {\n",
       "        vertical-align: top;\n",
       "    }\n",
       "\n",
       "    .dataframe thead th {\n",
       "        text-align: right;\n",
       "    }\n",
       "</style>\n",
       "<table border=\"1\" class=\"dataframe\">\n",
       "  <thead>\n",
       "    <tr style=\"text-align: right;\">\n",
       "      <th></th>\n",
       "      <th>name</th>\n",
       "      <th>pay</th>\n",
       "    </tr>\n",
       "  </thead>\n",
       "  <tbody>\n",
       "    <tr>\n",
       "      <th>2</th>\n",
       "      <td>test3</td>\n",
       "      <td>10000</td>\n",
       "    </tr>\n",
       "    <tr>\n",
       "      <th>0</th>\n",
       "      <td>test1</td>\n",
       "      <td>20000</td>\n",
       "    </tr>\n",
       "    <tr>\n",
       "      <th>1</th>\n",
       "      <td>test2</td>\n",
       "      <td>30000</td>\n",
       "    </tr>\n",
       "  </tbody>\n",
       "</table>\n",
       "</div>"
      ],
      "text/plain": [
       "    name    pay\n",
       "2  test3  10000\n",
       "0  test1  20000\n",
       "1  test2  30000"
      ]
     },
     "execution_count": 21,
     "metadata": {},
     "output_type": "execute_result"
    }
   ],
   "source": [
    "#pay 의 순서로 정렬해주고 싶다면? \n",
    "df_2.sort_values('pay')"
   ]
  },
  {
   "cell_type": "code",
   "execution_count": null,
   "metadata": {},
   "outputs": [
    {
     "data": {
      "text/html": [
       "<div>\n",
       "<style scoped>\n",
       "    .dataframe tbody tr th:only-of-type {\n",
       "        vertical-align: middle;\n",
       "    }\n",
       "\n",
       "    .dataframe tbody tr th {\n",
       "        vertical-align: top;\n",
       "    }\n",
       "\n",
       "    .dataframe thead th {\n",
       "        text-align: right;\n",
       "    }\n",
       "</style>\n",
       "<table border=\"1\" class=\"dataframe\">\n",
       "  <thead>\n",
       "    <tr style=\"text-align: right;\">\n",
       "      <th></th>\n",
       "      <th>name</th>\n",
       "      <th>pay</th>\n",
       "    </tr>\n",
       "  </thead>\n",
       "  <tbody>\n",
       "    <tr>\n",
       "      <th>1</th>\n",
       "      <td>test2</td>\n",
       "      <td>30000</td>\n",
       "    </tr>\n",
       "    <tr>\n",
       "      <th>0</th>\n",
       "      <td>test1</td>\n",
       "      <td>20000</td>\n",
       "    </tr>\n",
       "    <tr>\n",
       "      <th>2</th>\n",
       "      <td>test3</td>\n",
       "      <td>10000</td>\n",
       "    </tr>\n",
       "  </tbody>\n",
       "</table>\n",
       "</div>"
      ],
      "text/plain": [
       "    name    pay\n",
       "1  test2  30000\n",
       "0  test1  20000\n",
       "2  test3  10000"
      ]
     },
     "execution_count": 22,
     "metadata": {},
     "output_type": "execute_result"
    }
   ],
   "source": [
    "df_2.sort_values('pay',ascending=False)\n",
    "#왜 이렇게 sort를 볼까? \n",
    "#원하는 데이터의 순서를 보기 좋다.시계열 데이터를 통해 예측하는 데이터가 많은데 그때 활용 \n",
    "#가끔 데이터의 시계열이 틀릴때가 있음 그때 확인하려고 쓰기도 함 \n"
   ]
  },
  {
   "cell_type": "code",
   "execution_count": null,
   "metadata": {},
   "outputs": [
    {
     "data": {
      "text/html": [
       "<div>\n",
       "<style scoped>\n",
       "    .dataframe tbody tr th:only-of-type {\n",
       "        vertical-align: middle;\n",
       "    }\n",
       "\n",
       "    .dataframe tbody tr th {\n",
       "        vertical-align: top;\n",
       "    }\n",
       "\n",
       "    .dataframe thead th {\n",
       "        text-align: right;\n",
       "    }\n",
       "</style>\n",
       "<table border=\"1\" class=\"dataframe\">\n",
       "  <thead>\n",
       "    <tr style=\"text-align: right;\">\n",
       "      <th></th>\n",
       "      <th>name</th>\n",
       "      <th>pay</th>\n",
       "    </tr>\n",
       "  </thead>\n",
       "  <tbody>\n",
       "    <tr>\n",
       "      <th>0</th>\n",
       "      <td>test1</td>\n",
       "      <td>20000</td>\n",
       "    </tr>\n",
       "    <tr>\n",
       "      <th>1</th>\n",
       "      <td>test2</td>\n",
       "      <td>30000</td>\n",
       "    </tr>\n",
       "    <tr>\n",
       "      <th>2</th>\n",
       "      <td>test3</td>\n",
       "      <td>10000</td>\n",
       "    </tr>\n",
       "  </tbody>\n",
       "</table>\n",
       "</div>"
      ],
      "text/plain": [
       "    name    pay\n",
       "0  test1  20000\n",
       "1  test2  30000\n",
       "2  test3  10000"
      ]
     },
     "execution_count": 23,
     "metadata": {},
     "output_type": "execute_result"
    }
   ],
   "source": [
    "#데이터 프레임을 하나 만들어 놓고 그것을 복사해놓는 방법 \n",
    "# 왜 복사를 할까? => 원본데이터 보존상태로 수정하기 위해 \n",
    "\n",
    "#수정본의 행과 열을 삭제할때 잘못 삭제하는 경우 원본데이터를 다시 살려와서 수정하면 되는 것. \n",
    "\n",
    "df_3 = df_2.copy()\n",
    "df_3"
   ]
  },
  {
   "cell_type": "code",
   "execution_count": null,
   "metadata": {},
   "outputs": [
    {
     "data": {
      "text/html": [
       "<div>\n",
       "<style scoped>\n",
       "    .dataframe tbody tr th:only-of-type {\n",
       "        vertical-align: middle;\n",
       "    }\n",
       "\n",
       "    .dataframe tbody tr th {\n",
       "        vertical-align: top;\n",
       "    }\n",
       "\n",
       "    .dataframe thead th {\n",
       "        text-align: right;\n",
       "    }\n",
       "</style>\n",
       "<table border=\"1\" class=\"dataframe\">\n",
       "  <thead>\n",
       "    <tr style=\"text-align: right;\">\n",
       "      <th></th>\n",
       "      <th>pay</th>\n",
       "    </tr>\n",
       "  </thead>\n",
       "  <tbody>\n",
       "    <tr>\n",
       "      <th>0</th>\n",
       "      <td>20000</td>\n",
       "    </tr>\n",
       "    <tr>\n",
       "      <th>1</th>\n",
       "      <td>30000</td>\n",
       "    </tr>\n",
       "    <tr>\n",
       "      <th>2</th>\n",
       "      <td>10000</td>\n",
       "    </tr>\n",
       "  </tbody>\n",
       "</table>\n",
       "</div>"
      ],
      "text/plain": [
       "     pay\n",
       "0  20000\n",
       "1  30000\n",
       "2  10000"
      ]
     },
     "execution_count": 25,
     "metadata": {},
     "output_type": "execute_result"
    }
   ],
   "source": [
    "#삭제하기 \n",
    "# 원본하고 합쳐줬으면 하나는 삭제해줘야 혼동을 막을 테니까. \n",
    "df_4 = df_3.drop([\"name\"],axis=1)\n",
    "#sql과 동일하게 drop을 사용하지만, 컬럼과 축을 적어줘야 한다. \n",
    "df_4"
   ]
  },
  {
   "cell_type": "code",
   "execution_count": null,
   "metadata": {},
   "outputs": [
    {
     "data": {
      "text/html": [
       "<div>\n",
       "<style scoped>\n",
       "    .dataframe tbody tr th:only-of-type {\n",
       "        vertical-align: middle;\n",
       "    }\n",
       "\n",
       "    .dataframe tbody tr th {\n",
       "        vertical-align: top;\n",
       "    }\n",
       "\n",
       "    .dataframe thead th {\n",
       "        text-align: right;\n",
       "    }\n",
       "</style>\n",
       "<table border=\"1\" class=\"dataframe\">\n",
       "  <thead>\n",
       "    <tr style=\"text-align: right;\">\n",
       "      <th></th>\n",
       "      <th>name</th>\n",
       "      <th>pay</th>\n",
       "    </tr>\n",
       "  </thead>\n",
       "  <tbody>\n",
       "    <tr>\n",
       "      <th>1</th>\n",
       "      <td>test2</td>\n",
       "      <td>30000</td>\n",
       "    </tr>\n",
       "    <tr>\n",
       "      <th>2</th>\n",
       "      <td>test3</td>\n",
       "      <td>10000</td>\n",
       "    </tr>\n",
       "  </tbody>\n",
       "</table>\n",
       "</div>"
      ],
      "text/plain": [
       "    name    pay\n",
       "1  test2  30000\n",
       "2  test3  10000"
      ]
     },
     "execution_count": 26,
     "metadata": {},
     "output_type": "execute_result"
    }
   ],
   "source": [
    "df_5 = df_3.drop([0],axis=0)\n",
    "df_5"
   ]
  },
  {
   "cell_type": "code",
   "execution_count": null,
   "metadata": {},
   "outputs": [],
   "source": [
    "df_5.to_csv('text.csv',encoding='utf-8')"
   ]
  },
  {
   "cell_type": "code",
   "execution_count": 40,
   "metadata": {},
   "outputs": [
    {
     "ename": "NameError",
     "evalue": "name 'df_5' is not defined",
     "output_type": "error",
     "traceback": [
      "\u001b[1;31m---------------------------------------------------------------------------\u001b[0m",
      "\u001b[1;31mNameError\u001b[0m                                 Traceback (most recent call last)",
      "\u001b[1;32mc:\\ubion\\ubionpython2.ipynb Cell 87'\u001b[0m in \u001b[0;36m<module>\u001b[1;34m\u001b[0m\n\u001b[0;32m      <a href='vscode-notebook-cell:/c%3A/ubion/ubionpython2.ipynb#ch0000086?line=0'>1</a>\u001b[0m \u001b[39m#폴더를 바꿔주고 싶을때 \u001b[39;00m\n\u001b[1;32m----> <a href='vscode-notebook-cell:/c%3A/ubion/ubionpython2.ipynb#ch0000086?line=1'>2</a>\u001b[0m df_5\u001b[39m.\u001b[39mto_csv(\u001b[39m'\u001b[39m\u001b[39m./pandas/text.csv\u001b[39m\u001b[39m'\u001b[39m,encoding\u001b[39m=\u001b[39m\u001b[39m'\u001b[39m\u001b[39mutf-8\u001b[39m\u001b[39m'\u001b[39m)\n",
      "\u001b[1;31mNameError\u001b[0m: name 'df_5' is not defined"
     ]
    }
   ],
   "source": [
    "#폴더를 바꿔주고 싶을때 \n",
    "df_5.to_csv('./pandas/text.csv',encoding='utf-8')"
   ]
  },
  {
   "cell_type": "code",
   "execution_count": 41,
   "metadata": {},
   "outputs": [
    {
     "ename": "NameError",
     "evalue": "name 'df_5' is not defined",
     "output_type": "error",
     "traceback": [
      "\u001b[1;31m---------------------------------------------------------------------------\u001b[0m",
      "\u001b[1;31mNameError\u001b[0m                                 Traceback (most recent call last)",
      "\u001b[1;32mc:\\ubion\\ubionpython2.ipynb Cell 88'\u001b[0m in \u001b[0;36m<module>\u001b[1;34m\u001b[0m\n\u001b[1;32m----> <a href='vscode-notebook-cell:/c%3A/ubion/ubionpython2.ipynb#ch0000087?line=0'>1</a>\u001b[0m df_5\u001b[39m.\u001b[39mto_csv(\u001b[39m'\u001b[39m\u001b[39m../text.csv\u001b[39m\u001b[39m'\u001b[39m,encoding\u001b[39m=\u001b[39m\u001b[39m'\u001b[39m\u001b[39mutf-8\u001b[39m\u001b[39m'\u001b[39m)\n",
      "\u001b[1;31mNameError\u001b[0m: name 'df_5' is not defined"
     ]
    }
   ],
   "source": [
    "df_5.to_csv('../text.csv',encoding='utf-8')"
   ]
  },
  {
   "cell_type": "code",
   "execution_count": 49,
   "metadata": {},
   "outputs": [
    {
     "data": {
      "text/html": [
       "<div>\n",
       "<style scoped>\n",
       "    .dataframe tbody tr th:only-of-type {\n",
       "        vertical-align: middle;\n",
       "    }\n",
       "\n",
       "    .dataframe tbody tr th {\n",
       "        vertical-align: top;\n",
       "    }\n",
       "\n",
       "    .dataframe thead th {\n",
       "        text-align: right;\n",
       "    }\n",
       "</style>\n",
       "<table border=\"1\" class=\"dataframe\">\n",
       "  <thead>\n",
       "    <tr style=\"text-align: right;\">\n",
       "      <th></th>\n",
       "      <th>0</th>\n",
       "    </tr>\n",
       "  </thead>\n",
       "  <tbody>\n",
       "    <tr>\n",
       "      <th>0</th>\n",
       "      <td>1</td>\n",
       "    </tr>\n",
       "    <tr>\n",
       "      <th>1</th>\n",
       "      <td>2</td>\n",
       "    </tr>\n",
       "    <tr>\n",
       "      <th>2</th>\n",
       "      <td>3</td>\n",
       "    </tr>\n",
       "    <tr>\n",
       "      <th>3</th>\n",
       "      <td>4</td>\n",
       "    </tr>\n",
       "    <tr>\n",
       "      <th>4</th>\n",
       "      <td>5</td>\n",
       "    </tr>\n",
       "    <tr>\n",
       "      <th>5</th>\n",
       "      <td>1</td>\n",
       "    </tr>\n",
       "    <tr>\n",
       "      <th>6</th>\n",
       "      <td>2</td>\n",
       "    </tr>\n",
       "    <tr>\n",
       "      <th>7</th>\n",
       "      <td>3</td>\n",
       "    </tr>\n",
       "  </tbody>\n",
       "</table>\n",
       "</div>"
      ],
      "text/plain": [
       "   0\n",
       "0  1\n",
       "1  2\n",
       "2  3\n",
       "3  4\n",
       "4  5\n",
       "5  1\n",
       "6  2\n",
       "7  3"
      ]
     },
     "execution_count": 49,
     "metadata": {},
     "output_type": "execute_result"
    }
   ],
   "source": [
    "values = [1,2,3,4,5,1,2,3]\n",
    "test = pd.DataFrame(values)\n",
    "test"
   ]
  },
  {
   "cell_type": "markdown",
   "metadata": {},
   "source": [
    "APPLY 함수 복습하기 \n",
    "\n",
    "안에 있는 값을 변경해주고 싶은데, \n",
    "1~3까지는 0이라고 출력할거고 \n",
    "3~5까지는 3보다 크면 1을 출력하고 싶다. \n",
    "\n",
    "어떻게 하면 될까? \n",
    "\n",
    "=> for       : \n",
    "        if: \n",
    "\n",
    "이러면 너무 길어진다. \n",
    "\n",
    "그럴때 apply 쓰면 한줄만에 끝난다. "
   ]
  },
  {
   "cell_type": "code",
   "execution_count": 51,
   "metadata": {},
   "outputs": [
    {
     "data": {
      "text/html": [
       "<div>\n",
       "<style scoped>\n",
       "    .dataframe tbody tr th:only-of-type {\n",
       "        vertical-align: middle;\n",
       "    }\n",
       "\n",
       "    .dataframe tbody tr th {\n",
       "        vertical-align: top;\n",
       "    }\n",
       "\n",
       "    .dataframe thead th {\n",
       "        text-align: right;\n",
       "    }\n",
       "</style>\n",
       "<table border=\"1\" class=\"dataframe\">\n",
       "  <thead>\n",
       "    <tr style=\"text-align: right;\">\n",
       "      <th></th>\n",
       "      <th>A</th>\n",
       "    </tr>\n",
       "  </thead>\n",
       "  <tbody>\n",
       "    <tr>\n",
       "      <th>0</th>\n",
       "      <td>1</td>\n",
       "    </tr>\n",
       "    <tr>\n",
       "      <th>1</th>\n",
       "      <td>2</td>\n",
       "    </tr>\n",
       "    <tr>\n",
       "      <th>2</th>\n",
       "      <td>3</td>\n",
       "    </tr>\n",
       "    <tr>\n",
       "      <th>3</th>\n",
       "      <td>4</td>\n",
       "    </tr>\n",
       "    <tr>\n",
       "      <th>4</th>\n",
       "      <td>5</td>\n",
       "    </tr>\n",
       "    <tr>\n",
       "      <th>5</th>\n",
       "      <td>1</td>\n",
       "    </tr>\n",
       "    <tr>\n",
       "      <th>6</th>\n",
       "      <td>2</td>\n",
       "    </tr>\n",
       "    <tr>\n",
       "      <th>7</th>\n",
       "      <td>3</td>\n",
       "    </tr>\n",
       "  </tbody>\n",
       "</table>\n",
       "</div>"
      ],
      "text/plain": [
       "   A\n",
       "0  1\n",
       "1  2\n",
       "2  3\n",
       "3  4\n",
       "4  5\n",
       "5  1\n",
       "6  2\n",
       "7  3"
      ]
     },
     "execution_count": 51,
     "metadata": {},
     "output_type": "execute_result"
    }
   ],
   "source": [
    "test.columns = [\"A\"]\n",
    "test"
   ]
  },
  {
   "cell_type": "code",
   "execution_count": 52,
   "metadata": {},
   "outputs": [
    {
     "data": {
      "text/html": [
       "<div>\n",
       "<style scoped>\n",
       "    .dataframe tbody tr th:only-of-type {\n",
       "        vertical-align: middle;\n",
       "    }\n",
       "\n",
       "    .dataframe tbody tr th {\n",
       "        vertical-align: top;\n",
       "    }\n",
       "\n",
       "    .dataframe thead th {\n",
       "        text-align: right;\n",
       "    }\n",
       "</style>\n",
       "<table border=\"1\" class=\"dataframe\">\n",
       "  <thead>\n",
       "    <tr style=\"text-align: right;\">\n",
       "      <th></th>\n",
       "      <th>A</th>\n",
       "      <th>B</th>\n",
       "    </tr>\n",
       "  </thead>\n",
       "  <tbody>\n",
       "    <tr>\n",
       "      <th>0</th>\n",
       "      <td>1</td>\n",
       "      <td>0</td>\n",
       "    </tr>\n",
       "    <tr>\n",
       "      <th>1</th>\n",
       "      <td>2</td>\n",
       "      <td>0</td>\n",
       "    </tr>\n",
       "    <tr>\n",
       "      <th>2</th>\n",
       "      <td>3</td>\n",
       "      <td>0</td>\n",
       "    </tr>\n",
       "    <tr>\n",
       "      <th>3</th>\n",
       "      <td>4</td>\n",
       "      <td>1</td>\n",
       "    </tr>\n",
       "    <tr>\n",
       "      <th>4</th>\n",
       "      <td>5</td>\n",
       "      <td>1</td>\n",
       "    </tr>\n",
       "    <tr>\n",
       "      <th>5</th>\n",
       "      <td>1</td>\n",
       "      <td>0</td>\n",
       "    </tr>\n",
       "    <tr>\n",
       "      <th>6</th>\n",
       "      <td>2</td>\n",
       "      <td>0</td>\n",
       "    </tr>\n",
       "    <tr>\n",
       "      <th>7</th>\n",
       "      <td>3</td>\n",
       "      <td>0</td>\n",
       "    </tr>\n",
       "  </tbody>\n",
       "</table>\n",
       "</div>"
      ],
      "text/plain": [
       "   A  B\n",
       "0  1  0\n",
       "1  2  0\n",
       "2  3  0\n",
       "3  4  1\n",
       "4  5  1\n",
       "5  1  0\n",
       "6  2  0\n",
       "7  3  0"
      ]
     },
     "execution_count": 52,
     "metadata": {},
     "output_type": "execute_result"
    }
   ],
   "source": [
    "test[\"B\"] = test[\"A\"].apply(lambda x : 0 if ( x <= 3) else 1) \n",
    "                                    #0을 출력하는데, if x가 <=3 일때고 \n",
    "                                    #그렇지 않으면 1을 출력하라. \n",
    "test"
   ]
  },
  {
   "cell_type": "code",
   "execution_count": null,
   "metadata": {},
   "outputs": [],
   "source": [
    "#누적 확진율이 3.5보다 크거나 같으면 high 라는 문자 출력 작으면 low 문자 출력 \n",
    "# 새로 만든 열을 기존 열과 바꿔치기하고 싶으면 axis(축) = 1 을 넣어야 한다.  "
   ]
  },
  {
   "cell_type": "code",
   "execution_count": 53,
   "metadata": {},
   "outputs": [
    {
     "ename": "NameError",
     "evalue": "name 'corona_df' is not defined",
     "output_type": "error",
     "traceback": [
      "\u001b[1;31m---------------------------------------------------------------------------\u001b[0m",
      "\u001b[1;31mNameError\u001b[0m                                 Traceback (most recent call last)",
      "\u001b[1;32mc:\\ubion\\ubionpython2.ipynb Cell 94'\u001b[0m in \u001b[0;36m<module>\u001b[1;34m\u001b[0m\n\u001b[1;32m----> <a href='vscode-notebook-cell:/c%3A/ubion/ubionpython2.ipynb#ch0000095?line=0'>1</a>\u001b[0m corona_df\n",
      "\u001b[1;31mNameError\u001b[0m: name 'corona_df' is not defined"
     ]
    }
   ],
   "source": []
  },
  {
   "cell_type": "markdown",
   "metadata": {},
   "source": []
  }
 ],
 "metadata": {
  "interpreter": {
   "hash": "a06e30aee820ff8fe24fb428cece021c5cdfc4bd84062afc0eba853e87fef366"
  },
  "kernelspec": {
   "display_name": "Python 3.11.0a5 64-bit",
   "language": "python",
   "name": "python3"
  },
  "language_info": {
   "codemirror_mode": {
    "name": "ipython",
    "version": 3
   },
   "file_extension": ".py",
   "mimetype": "text/x-python",
   "name": "python",
   "nbconvert_exporter": "python",
   "pygments_lexer": "ipython3",
   "version": "3.10.2"
  },
  "orig_nbformat": 4
 },
 "nbformat": 4,
 "nbformat_minor": 2
}
