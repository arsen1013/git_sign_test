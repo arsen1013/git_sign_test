{
 "cells": [
  {
   "cell_type": "code",
   "execution_count": 1,
   "metadata": {},
   "outputs": [],
   "source": [
    "import numpy as np\n",
    "import matplotlib.pyplot as plt\n"
   ]
  },
  {
   "cell_type": "code",
   "execution_count": 3,
   "metadata": {},
   "outputs": [
    {
     "data": {
      "text/plain": [
       "array([10, 20, 30, 40, 50, 60, 70, 80, 90])"
      ]
     },
     "execution_count": 3,
     "metadata": {},
     "output_type": "execute_result"
    }
   ],
   "source": [
    "x =np.array([10,20,30,40,50,60,70,80,90])\n",
    "x"
   ]
  },
  {
   "cell_type": "markdown",
   "metadata": {},
   "source": [
    "여기서 짝수만 출력한다면 어떻게 해야할까? \n",
    "for 문을 쓰면 너무 길어진다.\n",
    "\n",
    "0번 말고, 1번부터 8번까지 1개를 건너뛰고 출력하고싶다면 \n",
    "[시작 : 종료값(출력 안되는 마지막) : 증가값]"
   ]
  },
  {
   "cell_type": "code",
   "execution_count": 4,
   "metadata": {},
   "outputs": [
    {
     "data": {
      "text/plain": [
       "array([20, 40, 60, 80])"
      ]
     },
     "execution_count": 4,
     "metadata": {},
     "output_type": "execute_result"
    }
   ],
   "source": [
    "x_ = np.array(x[1:8:2])\n",
    "x_"
   ]
  },
  {
   "cell_type": "code",
   "execution_count": 7,
   "metadata": {},
   "outputs": [
    {
     "data": {
      "text/plain": [
       "array([10, 30, 50, 70, 90])"
      ]
     },
     "execution_count": 7,
     "metadata": {},
     "output_type": "execute_result"
    }
   ],
   "source": [
    "x_ = np.array(x[0:9:2])\n",
    "x_"
   ]
  },
  {
   "cell_type": "markdown",
   "metadata": {},
   "source": [
    "몇부터 시작하고 몇까지 갈때까지 숫자를 만들어주되, 원하는 수만큼 등분해주는 코드"
   ]
  },
  {
   "cell_type": "code",
   "execution_count": 17,
   "metadata": {},
   "outputs": [
    {
     "data": {
      "image/png": "[encoded data removed]",
      "text/plain": [
       "<Figure size 432x288 with 1 Axes>"
      ]
     },
     "metadata": {
      "needs_background": "light"
     },
     "output_type": "display_data"
    }
   ],
   "source": [
    "x = np.linspace(0,10,3)\n",
    "plt.plot(x)\n",
    "plt.show()"
   ]
  },
  {
   "cell_type": "code",
   "execution_count": 9,
   "metadata": {},
   "outputs": [
    {
     "data": {
      "text/plain": [
       "array([ 0.        ,  3.33333333,  6.66666667, 10.        ])"
      ]
     },
     "execution_count": 9,
     "metadata": {},
     "output_type": "execute_result"
    }
   ],
   "source": [
    "np.linspace(0,10,4)"
   ]
  },
  {
   "cell_type": "code",
   "execution_count": 10,
   "metadata": {},
   "outputs": [
    {
     "data": {
      "text/plain": [
       "array([ 0. ,  2.5,  5. ,  7.5, 10. ])"
      ]
     },
     "execution_count": 10,
     "metadata": {},
     "output_type": "execute_result"
    }
   ],
   "source": [
    "np.linspace(0,10,5)"
   ]
  },
  {
   "cell_type": "markdown",
   "metadata": {},
   "source": [
    "로그스케일\n",
    " 로그 스케일(Log scale)이란 매우 광범위한 범위의 수치 데이터를 로그를 이용하여 간결하게 표시하는 눈금의 일종이다."
   ]
  },
  {
   "cell_type": "code",
   "execution_count": 12,
   "metadata": {},
   "outputs": [
    {
     "data": {
      "text/plain": [
       "array([   100.        ,   3162.27766017, 100000.        ])"
      ]
     },
     "execution_count": 12,
     "metadata": {},
     "output_type": "execute_result"
    }
   ],
   "source": [
    "np.logspace(2, 5, 3)\n",
    "# 로그 값을 안다고 치면 2부터 5까지 3개로 쪼개본다. \n",
    "# 2는 100이고, 5는 10만이고, 그 안에 중간값까지 3등분으로 나오게 된다. "
   ]
  },
  {
   "cell_type": "code",
   "execution_count": 16,
   "metadata": {},
   "outputs": [
    {
     "data": {
      "image/png": "[encoded data removed]",
      "text/plain": [
       "<Figure size 432x288 with 1 Axes>"
      ]
     },
     "metadata": {
      "needs_background": "light"
     },
     "output_type": "display_data"
    }
   ],
   "source": [
    "x = np.logspace(2, 10, 30)\n",
    "plt.plot(x)\n",
    "plt.show()"
   ]
  },
  {
   "cell_type": "markdown",
   "metadata": {},
   "source": [
    "로그스페이스를 멧플롯 립에서 이 그래프를 그리면 차츰차츰 올라가는 곡선 그래프가 생성된다. \n",
    "\n",
    "라인스페이스는 직선으로 나타난다. 일정하게 증가하는 직선 그래프가 나오는 것이다. \n",
    "\n",
    "예측기법에 사용하려면 둘 다 사용한다. "
   ]
  },
  {
   "cell_type": "markdown",
   "metadata": {},
   "source": [
    "seed는 랜덤한 패턴을 저장한다고 생각하면 된다. "
   ]
  },
  {
   "cell_type": "code",
   "execution_count": 19,
   "metadata": {},
   "outputs": [
    {
     "data": {
      "text/plain": [
       "(array([47, 22, 82, 19, 85, 15, 89, 74, 26, 11]),\n",
       " array([47, 22, 82, 19, 85, 15, 89, 74, 26, 11]),\n",
       " array([50, 25, 82, 32, 53, 92, 85, 17, 44, 59]))"
      ]
     },
     "execution_count": 19,
     "metadata": {},
     "output_type": "execute_result"
    }
   ],
   "source": [
    "np.random.seed(1)\n",
    "result =np.random.randint(10,100,10)\n",
    "\n",
    "np.random.seed(1)\n",
    "result_1 = np.random.randint(10,100,10)\n",
    "\n",
    "np.random.seed(2)\n",
    "result_2 = np.random.randint(10,100,10)\n",
    "\n",
    "result, result_1, result_2"
   ]
  },
  {
   "cell_type": "markdown",
   "metadata": {},
   "source": [
    "randint 10보다 크고 100보다 작은 10개의 난수, \n",
    "\n",
    "seed를 주면 랜덤값이 고정된다. \n",
    "1이라는 공통된 값을 주면 랜덤값이 변경되고, 2라는 다른 값을 주니 다른 값이 나온다. \n",
    "\n",
    "\n",
    "\n",
    "모델링을 할때 랜덤 함수값을 써서 그에 맞춰 분석했는데, 다시 한번 돌리니 값이 변경되버리면 데이터 값이 변경된 것이므로 문제가 생기게 된다. 그럴때 고정하기 위해 쓴다. "
   ]
  },
  {
   "cell_type": "code",
   "execution_count": 20,
   "metadata": {},
   "outputs": [
    {
     "data": {
      "text/plain": [
       "array([0.20464863, 0.61927097, 0.29965467, 0.26682728, 0.62113383,\n",
       "       0.52914209, 0.13457995, 0.51357812, 0.18443987, 0.78533515])"
      ]
     },
     "execution_count": 20,
     "metadata": {},
     "output_type": "execute_result"
    }
   ],
   "source": [
    "np.random.rand(10)"
   ]
  },
  {
   "cell_type": "markdown",
   "metadata": {},
   "source": [
    "rand는 0과 1 사이에 실수로 만들어진 값을 출력해준다. 10이라는 인자를 받으면 10개의 숫자가 출력된다. 모든 숫자는 균일한 확률로 랜덤하게 출력된다.  \n",
    "\n",
    "0 미만의 값을 출력하는 랜덤값은 보통 분석하는 사람들이 쓴다. 이 외에는 보통 그냥 random을 쓴다.  \n",
    "\n",
    "randn를 사용하면 표준편차가 1인 가우시안 표준 정규분포에 따른 난수를 만든다. 얘를 더 많이 쓸지도 모른다. "
   ]
  },
  {
   "cell_type": "code",
   "execution_count": 21,
   "metadata": {},
   "outputs": [
    {
     "data": {
      "text/plain": [
       "array([-0.0191305 ,  1.17500122, -0.74787095,  0.00902525, -0.87810789,\n",
       "       -0.15643417,  0.25657045, -0.98877905, -0.33882197, -0.23618403])"
      ]
     },
     "execution_count": 21,
     "metadata": {},
     "output_type": "execute_result"
    }
   ],
   "source": [
    "np.random.randn(10)"
   ]
  },
  {
   "cell_type": "code",
   "execution_count": 27,
   "metadata": {},
   "outputs": [
    {
     "data": {
      "text/plain": [
       "array([[ 1.46767801, -0.33567734,  0.61134078,  0.04797059, -0.82913529],\n",
       "       [ 0.08771022,  1.00036589, -0.38109252, -0.37566942, -0.07447076]])"
      ]
     },
     "execution_count": 27,
     "metadata": {},
     "output_type": "execute_result"
    }
   ],
   "source": [
    "np.random.randn(2,5) #2차원을 만들고 싶다면 이렇게 작성한다."
   ]
  },
  {
   "cell_type": "code",
   "execution_count": 22,
   "metadata": {},
   "outputs": [
    {
     "data": {
      "text/plain": [
       "array([80, 50, 40, 47,  9, 51, 16,  9, 18, 23])"
      ]
     },
     "execution_count": 22,
     "metadata": {},
     "output_type": "execute_result"
    }
   ],
   "source": [
    "np.random.randint(1, 100, 10)\n",
    "# 1부터 100까지의 10개의 숫자를 랜덤하게 출력, 100은 미포함이다. "
   ]
  },
  {
   "cell_type": "markdown",
   "metadata": {},
   "source": [
    "위의 숫자를 2차원으로 바꾸고 싶다면? "
   ]
  },
  {
   "cell_type": "code",
   "execution_count": 28,
   "metadata": {},
   "outputs": [
    {
     "data": {
      "text/plain": [
       "array([[98, 19, 85, 91],\n",
       "       [88, 23, 44, 53],\n",
       "       [75, 73, 91, 92]])"
      ]
     },
     "execution_count": 28,
     "metadata": {},
     "output_type": "execute_result"
    }
   ],
   "source": [
    "r = np.random.randint(1, 100, (3,4))\n",
    "r"
   ]
  },
  {
   "cell_type": "code",
   "execution_count": null,
   "metadata": {},
   "outputs": [],
   "source": []
  },
  {
   "cell_type": "markdown",
   "metadata": {},
   "source": [
    "위의 행이 3개인데, 이 순서를 바꾸고 싶다면 어떻게 해야할까? \n",
    "셔플이다. "
   ]
  },
  {
   "cell_type": "code",
   "execution_count": 149,
   "metadata": {},
   "outputs": [
    {
     "name": "stdout",
     "output_type": "stream",
     "text": [
      "셔플 전\n",
      " [[96 27 75 79]\n",
      " [15 70 17 92]\n",
      " [ 6 97 74  9]]\n",
      "셔플 후\n",
      " [[15 70 17 92]\n",
      " [96 27 75 79]\n",
      " [ 6 97 74  9]]\n"
     ]
    }
   ],
   "source": [
    "r = np.random.randint(1, 100, (3,4))\n",
    "print(\"셔플 전\\n\",r)\n",
    "np.random.shuffle(r)\n",
    "print(\"셔플 후\\n\",r)"
   ]
  },
  {
   "cell_type": "markdown",
   "metadata": {},
   "source": [
    "열 데이터는 그대로인데, 각 행의 순서만 바꿨다. \n",
    "카드도 카드를 섞으면 내용물은 안바뀌고 카드만 바뀐다고 생각하면 이해하기 쉽다.\n",
    "\n",
    "이런 셔플기능도 많이 쓴다. "
   ]
  },
  {
   "cell_type": "markdown",
   "metadata": {},
   "source": [
    "### 제곱근"
   ]
  },
  {
   "cell_type": "code",
   "execution_count": 38,
   "metadata": {},
   "outputs": [
    {
     "data": {
      "text/plain": [
       "array([1., 3., 5., 7.])"
      ]
     },
     "execution_count": 38,
     "metadata": {},
     "output_type": "execute_result"
    }
   ],
   "source": [
    "a = [1, 9, 25, 49]\n",
    "a_sqrt = np.sqrt(a)\n",
    "a_sqrt"
   ]
  },
  {
   "cell_type": "markdown",
   "metadata": {},
   "source": [
    "1, 9, 25, 49를 제곱근 하면 나오는 수가 나온다. \n",
    "양의 제곱근만 계산한다. 음수는 안나온다. \n",
    "넘파이는 데이터 분석을 위한 연산기법이 잘 나온다. "
   ]
  },
  {
   "cell_type": "markdown",
   "metadata": {},
   "source": [
    "### 제곱"
   ]
  },
  {
   "cell_type": "code",
   "execution_count": 40,
   "metadata": {},
   "outputs": [
    {
     "name": "stdout",
     "output_type": "stream",
     "text": [
      "1\n",
      "9\n",
      "25\n",
      "49\n"
     ]
    }
   ],
   "source": [
    "a = [1,3,5,7]\n",
    "for i in a:\n",
    "    print(i**2)"
   ]
  },
  {
   "cell_type": "markdown",
   "metadata": {},
   "source": [
    "하지만 이렇게 하기 싫은 것이다.\n",
    "개발자는 라이브러리를 만들었을 것이다. "
   ]
  },
  {
   "cell_type": "code",
   "execution_count": 42,
   "metadata": {},
   "outputs": [
    {
     "data": {
      "text/plain": [
       "array([ 1,  9, 25, 49])"
      ]
     },
     "execution_count": 42,
     "metadata": {},
     "output_type": "execute_result"
    }
   ],
   "source": [
    "a = [1,3,5,7]\n",
    "s_sq = np.square(a)\n",
    "s_sq"
   ]
  },
  {
   "cell_type": "markdown",
   "metadata": {},
   "source": [
    "### 자연상수\n",
    "\n",
    "자연상수 e를 수식에서 쓰면, 제곱하거나 세제곱해서 사용한다. \n",
    "np.exp(0) 의 0은 제곱을 말한다. \n",
    "np.exp(4) 는 자연상수의 4제곱을 말한다. "
   ]
  },
  {
   "cell_type": "code",
   "execution_count": 43,
   "metadata": {},
   "outputs": [
    {
     "data": {
      "text/plain": [
       "1.0"
      ]
     },
     "execution_count": 43,
     "metadata": {},
     "output_type": "execute_result"
    }
   ],
   "source": [
    "np.exp(0)"
   ]
  },
  {
   "cell_type": "code",
   "execution_count": 44,
   "metadata": {},
   "outputs": [
    {
     "data": {
      "text/plain": [
       "54.598150033144236"
      ]
     },
     "execution_count": 44,
     "metadata": {},
     "output_type": "execute_result"
    }
   ],
   "source": [
    "np.exp(4)"
   ]
  },
  {
   "cell_type": "markdown",
   "metadata": {},
   "source": [
    "### 정규분포 만들기"
   ]
  },
  {
   "cell_type": "code",
   "execution_count": 45,
   "metadata": {},
   "outputs": [
    {
     "data": {
      "text/plain": [
       "array([-5. , -4.9, -4.8, -4.7, -4.6, -4.5, -4.4, -4.3, -4.2, -4.1, -4. ,\n",
       "       -3.9, -3.8, -3.7, -3.6, -3.5, -3.4, -3.3, -3.2, -3.1, -3. , -2.9,\n",
       "       -2.8, -2.7, -2.6, -2.5, -2.4, -2.3, -2.2, -2.1, -2. , -1.9, -1.8,\n",
       "       -1.7, -1.6, -1.5, -1.4, -1.3, -1.2, -1.1, -1. , -0.9, -0.8, -0.7,\n",
       "       -0.6, -0.5, -0.4, -0.3, -0.2, -0.1,  0. ,  0.1,  0.2,  0.3,  0.4,\n",
       "        0.5,  0.6,  0.7,  0.8,  0.9,  1. ,  1.1,  1.2,  1.3,  1.4,  1.5,\n",
       "        1.6,  1.7,  1.8,  1.9,  2. ,  2.1,  2.2,  2.3,  2.4,  2.5,  2.6,\n",
       "        2.7,  2.8,  2.9,  3. ,  3.1,  3.2,  3.3,  3.4,  3.5,  3.6,  3.7,\n",
       "        3.8,  3.9,  4. ,  4.1,  4.2,  4.3,  4.4,  4.5,  4.6,  4.7,  4.8,\n",
       "        4.9,  5. ])"
      ]
     },
     "execution_count": 45,
     "metadata": {},
     "output_type": "execute_result"
    }
   ],
   "source": [
    "x = np.linspace(-5,5,101)\n",
    "#101을 쓴 이유는 자르는 갯수를 0.1씩 증가하게 하려고다. \n",
    "x"
   ]
  },
  {
   "cell_type": "markdown",
   "metadata": {},
   "source": [
    "정규분포 수식\n",
    "확률밀도 함수 수식을 이용한 것이다. \n",
    "\n",
    "https://suhak.tistory.com/87\n"
   ]
  },
  {
   "cell_type": "code",
   "execution_count": 46,
   "metadata": {},
   "outputs": [
    {
     "data": {
      "text/plain": [
       "array([1.48671951e-06, 2.43896075e-06, 3.96129909e-06, 6.36982518e-06,\n",
       "       1.01408521e-05, 1.59837411e-05, 2.49424713e-05, 3.85351967e-05,\n",
       "       5.89430678e-05, 8.92616572e-05, 1.33830226e-04, 1.98655471e-04,\n",
       "       2.91946926e-04, 4.24780271e-04, 6.11901930e-04, 8.72682695e-04,\n",
       "       1.23221917e-03, 1.72256894e-03, 2.38408820e-03, 3.26681906e-03,\n",
       "       4.43184841e-03, 5.95253242e-03, 7.91545158e-03, 1.04209348e-02,\n",
       "       1.35829692e-02, 1.75283005e-02, 2.23945303e-02, 2.83270377e-02,\n",
       "       3.54745928e-02, 4.39835960e-02, 5.39909665e-02, 6.56158148e-02,\n",
       "       7.89501583e-02, 9.40490774e-02, 1.10920835e-01, 1.29517596e-01,\n",
       "       1.49727466e-01, 1.71368592e-01, 1.94186055e-01, 2.17852177e-01,\n",
       "       2.41970725e-01, 2.66085250e-01, 2.89691553e-01, 3.12253933e-01,\n",
       "       3.33224603e-01, 3.52065327e-01, 3.68270140e-01, 3.81387815e-01,\n",
       "       3.91042694e-01, 3.96952547e-01, 3.98942280e-01, 3.96952547e-01,\n",
       "       3.91042694e-01, 3.81387815e-01, 3.68270140e-01, 3.52065327e-01,\n",
       "       3.33224603e-01, 3.12253933e-01, 2.89691553e-01, 2.66085250e-01,\n",
       "       2.41970725e-01, 2.17852177e-01, 1.94186055e-01, 1.71368592e-01,\n",
       "       1.49727466e-01, 1.29517596e-01, 1.10920835e-01, 9.40490774e-02,\n",
       "       7.89501583e-02, 6.56158148e-02, 5.39909665e-02, 4.39835960e-02,\n",
       "       3.54745928e-02, 2.83270377e-02, 2.23945303e-02, 1.75283005e-02,\n",
       "       1.35829692e-02, 1.04209348e-02, 7.91545158e-03, 5.95253242e-03,\n",
       "       4.43184841e-03, 3.26681906e-03, 2.38408820e-03, 1.72256894e-03,\n",
       "       1.23221917e-03, 8.72682695e-04, 6.11901930e-04, 4.24780271e-04,\n",
       "       2.91946926e-04, 1.98655471e-04, 1.33830226e-04, 8.92616572e-05,\n",
       "       5.89430678e-05, 3.85351967e-05, 2.49424713e-05, 1.59837411e-05,\n",
       "       1.01408521e-05, 6.36982518e-06, 3.96129909e-06, 2.43896075e-06,\n",
       "       1.48671951e-06])"
      ]
     },
     "execution_count": 46,
     "metadata": {},
     "output_type": "execute_result"
    }
   ],
   "source": [
    "y = (1 / np.sqrt(2 * np.pi)) * np.exp(-x**2/2)\n",
    "y\n",
    "#이 안에 들어간 x라는 값에 따라 y가 변화하는 수식이다. \n"
   ]
  },
  {
   "cell_type": "code",
   "execution_count": 48,
   "metadata": {},
   "outputs": [
    {
     "data": {
      "image/png": "[encoded data removed]",
      "text/plain": [
       "<Figure size 432x288 with 1 Axes>"
      ]
     },
     "metadata": {
      "needs_background": "light"
     },
     "output_type": "display_data"
    }
   ],
   "source": [
    "plt.plot(x,y)\n",
    "plt.xlabel(\"x\")\n",
    "plt.ylabel(\"y\")\n",
    "plt.show()"
   ]
  },
  {
   "cell_type": "markdown",
   "metadata": {},
   "source": [
    "위의 정규분포 식을 쉽게 바꿔주는 것"
   ]
  },
  {
   "cell_type": "code",
   "execution_count": 51,
   "metadata": {},
   "outputs": [],
   "source": [
    "import scipy.stats as stats"
   ]
  },
  {
   "cell_type": "markdown",
   "metadata": {},
   "source": [
    "우리가 원하는 x값이 무엇인지 범위 먼저 정해야한다. \n",
    "y 값 먼저 구하려고 하는데, 위 라이브러리를 사용해서 구한다. "
   ]
  },
  {
   "cell_type": "code",
   "execution_count": 54,
   "metadata": {},
   "outputs": [
    {
     "data": {
      "text/plain": [
       "array([1.48671951e-06, 2.43896075e-06, 3.96129909e-06, 6.36982518e-06,\n",
       "       1.01408521e-05, 1.59837411e-05, 2.49424713e-05, 3.85351967e-05,\n",
       "       5.89430678e-05, 8.92616572e-05, 1.33830226e-04, 1.98655471e-04,\n",
       "       2.91946926e-04, 4.24780271e-04, 6.11901930e-04, 8.72682695e-04,\n",
       "       1.23221917e-03, 1.72256894e-03, 2.38408820e-03, 3.26681906e-03,\n",
       "       4.43184841e-03, 5.95253242e-03, 7.91545158e-03, 1.04209348e-02,\n",
       "       1.35829692e-02, 1.75283005e-02, 2.23945303e-02, 2.83270377e-02,\n",
       "       3.54745928e-02, 4.39835960e-02, 5.39909665e-02, 6.56158148e-02,\n",
       "       7.89501583e-02, 9.40490774e-02, 1.10920835e-01, 1.29517596e-01,\n",
       "       1.49727466e-01, 1.71368592e-01, 1.94186055e-01, 2.17852177e-01,\n",
       "       2.41970725e-01, 2.66085250e-01, 2.89691553e-01, 3.12253933e-01,\n",
       "       3.33224603e-01, 3.52065327e-01, 3.68270140e-01, 3.81387815e-01,\n",
       "       3.91042694e-01, 3.96952547e-01, 3.98942280e-01, 3.96952547e-01,\n",
       "       3.91042694e-01, 3.81387815e-01, 3.68270140e-01, 3.52065327e-01,\n",
       "       3.33224603e-01, 3.12253933e-01, 2.89691553e-01, 2.66085250e-01,\n",
       "       2.41970725e-01, 2.17852177e-01, 1.94186055e-01, 1.71368592e-01,\n",
       "       1.49727466e-01, 1.29517596e-01, 1.10920835e-01, 9.40490774e-02,\n",
       "       7.89501583e-02, 6.56158148e-02, 5.39909665e-02, 4.39835960e-02,\n",
       "       3.54745928e-02, 2.83270377e-02, 2.23945303e-02, 1.75283005e-02,\n",
       "       1.35829692e-02, 1.04209348e-02, 7.91545158e-03, 5.95253242e-03,\n",
       "       4.43184841e-03, 3.26681906e-03, 2.38408820e-03, 1.72256894e-03,\n",
       "       1.23221917e-03, 8.72682695e-04, 6.11901930e-04, 4.24780271e-04,\n",
       "       2.91946926e-04, 1.98655471e-04, 1.33830226e-04, 8.92616572e-05,\n",
       "       5.89430678e-05, 3.85351967e-05, 2.49424713e-05, 1.59837411e-05,\n",
       "       1.01408521e-05, 6.36982518e-06, 3.96129909e-06, 2.43896075e-06,\n",
       "       1.48671951e-06])"
      ]
     },
     "execution_count": 54,
     "metadata": {},
     "output_type": "execute_result"
    }
   ],
   "source": [
    "y_ = stats.norm(0,1).pdf(x)\n",
    "#기댓값(평균)이 0이고 표준 편차가 1인 정규 분포\n",
    "y_ \n"
   ]
  },
  {
   "cell_type": "markdown",
   "metadata": {},
   "source": [
    "0,1 로 주면 위 값과 차이가 없다. \n"
   ]
  },
  {
   "cell_type": "code",
   "execution_count": 53,
   "metadata": {},
   "outputs": [
    {
     "data": {
      "image/png": "[encoded data removed]",
      "text/plain": [
       "<Figure size 432x288 with 1 Axes>"
      ]
     },
     "metadata": {
      "needs_background": "light"
     },
     "output_type": "display_data"
    }
   ],
   "source": [
    "plt.plot(x,y_)\n",
    "plt.xlabel(\"x\")\n",
    "plt.ylabel(\"y\")\n",
    "plt.show()"
   ]
  },
  {
   "cell_type": "markdown",
   "metadata": {},
   "source": [
    "위와 똑같은 그래프가 생성된다. "
   ]
  },
  {
   "cell_type": "markdown",
   "metadata": {},
   "source": [
    "정규분포의 표준편차 값을 바꿔서 집어넣어본다. "
   ]
  },
  {
   "cell_type": "code",
   "execution_count": 56,
   "metadata": {},
   "outputs": [
    {
     "data": {
      "text/plain": [
       "array([-20. , -19.6, -19.2, -18.8, -18.4, -18. , -17.6, -17.2, -16.8,\n",
       "       -16.4, -16. , -15.6, -15.2, -14.8, -14.4, -14. , -13.6, -13.2,\n",
       "       -12.8, -12.4, -12. , -11.6, -11.2, -10.8, -10.4, -10. ,  -9.6,\n",
       "        -9.2,  -8.8,  -8.4,  -8. ,  -7.6,  -7.2,  -6.8,  -6.4,  -6. ,\n",
       "        -5.6,  -5.2,  -4.8,  -4.4,  -4. ,  -3.6,  -3.2,  -2.8,  -2.4,\n",
       "        -2. ,  -1.6,  -1.2,  -0.8,  -0.4,   0. ,   0.4,   0.8,   1.2,\n",
       "         1.6,   2. ,   2.4,   2.8,   3.2,   3.6,   4. ,   4.4,   4.8,\n",
       "         5.2,   5.6,   6. ,   6.4,   6.8,   7.2,   7.6,   8. ,   8.4,\n",
       "         8.8,   9.2,   9.6,  10. ,  10.4,  10.8,  11.2,  11.6,  12. ,\n",
       "        12.4,  12.8,  13.2,  13.6,  14. ,  14.4,  14.8,  15.2,  15.6,\n",
       "        16. ,  16.4,  16.8,  17.2,  17.6,  18. ,  18.4,  18.8,  19.2,\n",
       "        19.6,  20. ])"
      ]
     },
     "execution_count": 56,
     "metadata": {},
     "output_type": "execute_result"
    }
   ],
   "source": [
    "def norm(_a,_b,_x): \n",
    "    return stats.norm(_a,_b).pdf(_x)\n",
    "\n",
    "    #표준편차와 평균값이 다른 값을 매번 쳐보고 싶을 수 있다. 다중 그래프를 그리고 싶을때나. \n",
    "\n",
    "#범위는? -20~20까지 101개 \n",
    "x = np.linspace(-20,20,101)\n",
    "#보통 예제가 평균과 표준편차만 바꾸지 x값의 볌위를 바꾸지 않는다 왜냐면 어차피 차트는 종모양이 나올 것이기 때문이다. \n",
    "x\n"
   ]
  },
  {
   "cell_type": "code",
   "execution_count": 70,
   "metadata": {},
   "outputs": [
    {
     "data": {
      "image/png": "[encoded data removed]",
      "text/plain": [
       "<Figure size 432x288 with 1 Axes>"
      ]
     },
     "metadata": {
      "needs_background": "light"
     },
     "output_type": "display_data"
    }
   ],
   "source": [
    "for i in range(1, 11, 1):\n",
    "    #한 화면에 그래프를 여러개 그리고 싶다, 지금은 10개가 그려질 것이다.\n",
    "    # \n",
    "    # 정규분포 그래프를 그릴 것인데, 정규분포 그래프를 한 화면에 차트 여러개 겹쳐서 보여줄 것이다. y값은? \n",
    "    _y = norm(0, i, x)\n",
    "    #a는 0이고, 편차는 i인 값들의 정규분포 생성, i는 for문에 의해 1부터 11까지 돌아간다.   \n",
    "    plt.plot(x,_y)\n",
    "\n",
    "\n",
    "plt.show()"
   ]
  },
  {
   "cell_type": "markdown",
   "metadata": {},
   "source": [
    "이렇게 하면 여러개의 정규분포가 나타난다. x의 범위를 늘려봤자, 0에 가까이 갔을때만 극으로 올라가기 때문에. "
   ]
  },
  {
   "cell_type": "markdown",
   "metadata": {},
   "source": [
    "## 히스토그램"
   ]
  },
  {
   "cell_type": "code",
   "execution_count": 100,
   "metadata": {},
   "outputs": [
    {
     "data": {
      "text/plain": [
       "array([57, 86, 71, 33, 29, 41, 91, 99, 83, 69, 10, 18, 20, 18, 56, 45, 88,\n",
       "       89, 64, 59, 16, 59, 39, 44, 64, 69, 23, 22, 57, 93, 68, 54, 76, 41,\n",
       "       45, 60, 20, 52, 53, 45, 52, 13, 74, 15, 20, 21, 91, 92, 75, 96])"
      ]
     },
     "execution_count": 100,
     "metadata": {},
     "output_type": "execute_result"
    }
   ],
   "source": [
    "x  = np.random.randint(10, 100, 50)\n",
    "x"
   ]
  },
  {
   "cell_type": "code",
   "execution_count": 101,
   "metadata": {},
   "outputs": [
    {
     "data": {
      "text/plain": [
       "(array([6., 6., 2., 7., 4., 6., 6., 3., 4., 6.]),\n",
       " array([10. , 18.9, 27.8, 36.7, 45.6, 54.5, 63.4, 72.3, 81.2, 90.1, 99. ]),\n",
       " <BarContainer object of 10 artists>)"
      ]
     },
     "execution_count": 101,
     "metadata": {},
     "output_type": "execute_result"
    },
    {
     "data": {
      "image/png": "[encoded data removed]",
      "text/plain": [
       "<Figure size 432x288 with 1 Axes>"
      ]
     },
     "metadata": {
      "needs_background": "light"
     },
     "output_type": "display_data"
    }
   ],
   "source": [
    "plt.hist(x)"
   ]
  },
  {
   "cell_type": "markdown",
   "metadata": {},
   "source": [
    "기본적으로 10개다. hist는 기본은 10개의 범위(구간)로 잘라서 표현한다. 갯수가 만약에 많아지면 많아질수록 촘촘해진다. \n",
    "\n",
    "이것을 계급과 도수라고 한다. \n",
    "x 는 계급이고 , y는 도수다. \n",
    "계급은 무엇이고 \n",
    "도수는 무엇인가?\n",
    "\n",
    "range에 횟수라고 많이들 표현을 하는데... "
   ]
  },
  {
   "cell_type": "code",
   "execution_count": 84,
   "metadata": {},
   "outputs": [
    {
     "data": {
      "text/plain": [
       "(array([1., 0., 0., 1., 2., 0., 0., 0., 0., 0., 1., 1., 1., 0., 1., 0., 0.,\n",
       "        0., 0., 0., 0., 0., 0., 0., 0., 1., 0., 0., 0., 1.]),\n",
       " array([19.        , 21.46666667, 23.93333333, 26.4       , 28.86666667,\n",
       "        31.33333333, 33.8       , 36.26666667, 38.73333333, 41.2       ,\n",
       "        43.66666667, 46.13333333, 48.6       , 51.06666667, 53.53333333,\n",
       "        56.        , 58.46666667, 60.93333333, 63.4       , 65.86666667,\n",
       "        68.33333333, 70.8       , 73.26666667, 75.73333333, 78.2       ,\n",
       "        80.66666667, 83.13333333, 85.6       , 88.06666667, 90.53333333,\n",
       "        93.        ]),\n",
       " <BarContainer object of 30 artists>)"
      ]
     },
     "execution_count": 84,
     "metadata": {},
     "output_type": "execute_result"
    },
    {
     "data": {
      "image/png": "[encoded data removed]",
      "text/plain": [
       "<Figure size 432x288 with 1 Axes>"
      ]
     },
     "metadata": {
      "needs_background": "light"
     },
     "output_type": "display_data"
    }
   ],
   "source": [
    "plt.hist(x, bins = 30)"
   ]
  },
  {
   "cell_type": "markdown",
   "metadata": {},
   "source": [
    "겹쳐서 표현도 가능하다 "
   ]
  },
  {
   "cell_type": "code",
   "execution_count": 79,
   "metadata": {},
   "outputs": [
    {
     "data": {
      "text/plain": [
       "(array([2., 0., 3., 1., 0., 2., 2., 1., 0., 0., 2., 1., 3., 2., 3., 1., 5.,\n",
       "        1., 0., 3., 2., 3., 0., 1., 2., 1., 3., 3., 1., 2.]),\n",
       " array([11. , 13.9, 16.8, 19.7, 22.6, 25.5, 28.4, 31.3, 34.2, 37.1, 40. ,\n",
       "        42.9, 45.8, 48.7, 51.6, 54.5, 57.4, 60.3, 63.2, 66.1, 69. , 71.9,\n",
       "        74.8, 77.7, 80.6, 83.5, 86.4, 89.3, 92.2, 95.1, 98. ]),\n",
       " <BarContainer object of 30 artists>)"
      ]
     },
     "execution_count": 79,
     "metadata": {},
     "output_type": "execute_result"
    },
    {
     "data": {
      "image/png": "[encoded data removed]",
      "text/plain": [
       "<Figure size 432x288 with 1 Axes>"
      ]
     },
     "metadata": {
      "needs_background": "light"
     },
     "output_type": "display_data"
    }
   ],
   "source": [
    "plt.hist(x)\n",
    "plt.hist(x, bins = 30)"
   ]
  },
  {
   "cell_type": "markdown",
   "metadata": {},
   "source": [
    "누적으로도 나오게 할 수 있다. cumulative Ture , \n",
    "False는 기본값으로 나오게 된다. "
   ]
  },
  {
   "cell_type": "code",
   "execution_count": 80,
   "metadata": {},
   "outputs": [
    {
     "data": {
      "text/plain": [
       "(array([ 5.,  8., 11., 14., 22., 29., 34., 38., 44., 50.]),\n",
       " array([11. , 19.7, 28.4, 37.1, 45.8, 54.5, 63.2, 71.9, 80.6, 89.3, 98. ]),\n",
       " <BarContainer object of 10 artists>)"
      ]
     },
     "execution_count": 80,
     "metadata": {},
     "output_type": "execute_result"
    },
    {
     "data": {
      "image/png": "[encoded data removed]",
      "text/plain": [
       "<Figure size 432x288 with 1 Axes>"
      ]
     },
     "metadata": {
      "needs_background": "light"
     },
     "output_type": "display_data"
    }
   ],
   "source": [
    "plt.hist(x, cumulative=True)"
   ]
  },
  {
   "cell_type": "markdown",
   "metadata": {},
   "source": [
    "히스토그램은 어디서 주로 쓸까? \n",
    "소득분위별 인구.. \n",
    "소득분위로 써도 되고 소득범주를 쓰면 분에 맞춰서 얘를 나누면 딱 맞게 나올 것이다. "
   ]
  },
  {
   "cell_type": "code",
   "execution_count": 98,
   "metadata": {},
   "outputs": [
    {
     "data": {
      "text/plain": [
       "array([1, 6, 4, 6, 3, 9, 8, 4, 1, 5])"
      ]
     },
     "execution_count": 98,
     "metadata": {},
     "output_type": "execute_result"
    }
   ],
   "source": [
    "x  = np.random.randint(1, 10, 10)\n",
    "x"
   ]
  },
  {
   "cell_type": "markdown",
   "metadata": {},
   "source": [
    "0부터 9까지 나오는 숫자를 10개로 나누면 한개당 한 구간당 숫자 하나씩 들어간다\n",
    "그 것을 한칸이 의미하는게 1이다.  한칸이 1이고, 높이는 40%쫌 안된다. \n",
    "0.4라고 치고. \n",
    "0.4 * 1 이라고 치면 넓이가 된다. \n",
    "\n",
    "아까 100으로 나눴기 때문에 뒤에  00 이라고 나온다. \n"
   ]
  },
  {
   "cell_type": "code",
   "execution_count": 99,
   "metadata": {},
   "outputs": [
    {
     "data": {
      "text/plain": [
       "(array([0.25 , 0.   , 0.125, 0.25 , 0.   , 0.125, 0.25 , 0.   , 0.125,\n",
       "        0.125]),\n",
       " array([1. , 1.8, 2.6, 3.4, 4.2, 5. , 5.8, 6.6, 7.4, 8.2, 9. ]),\n",
       " <BarContainer object of 10 artists>)"
      ]
     },
     "execution_count": 99,
     "metadata": {},
     "output_type": "execute_result"
    },
    {
     "data": {
      "image/png": "[encoded data removed]",
      "text/plain": [
       "<Figure size 432x288 with 1 Axes>"
      ]
     },
     "metadata": {
      "needs_background": "light"
     },
     "output_type": "display_data"
    }
   ],
   "source": [
    "plt.hist(x, density = True) \n",
    "#디폴트로 10개로 자른다. \n",
    "\n",
    "\n",
    "# 그래프 자체의 형태는 똑같은데, 옆에 나온 수치를 보면 \n",
    "# x를 50개를 만들었으니 0.2로 내려가야 한다. \n",
    "#y는 확률이다. 1000분의 1의 확률??? \n",
    "# 전체면적은 하나가 1이다. \n",
    "\n",
    "# 여기서 나오는 면적을 합치면 1이 나온다.  \n",
    "# 여기서 밑의 y값이 0.8이다. 0.8씩으로 잡혀있으므로 이 높이값과 y값을 곱하면 1이 나온다. "
   ]
  },
  {
   "cell_type": "markdown",
   "metadata": {},
   "source": [
    "1부터 10까지 경우의 수는 10개다. 그걸 10으로 나눴다. \n",
    "이 한칸 한칸이 의미하는게 10%다. \n",
    "\n",
    "1이 나올 확률이 10%이고 \n",
    "10이 나올 확률이 10%이다. \n",
    "\n",
    "\n",
    "만약 100으로 한다면 하나의 숫자 1이 나올 확률은 1%다.\n",
    "\n",
    " \n",
    "0부터 8까지를 10으로 나눴으니 한 칸당 0.8이 된다. 한칸한칸이 0.8이 밑이 되니 높이를 곱해서 전부 더하면 1이 된다. \n"
   ]
  },
  {
   "cell_type": "code",
   "execution_count": null,
   "metadata": {},
   "outputs": [],
   "source": []
  },
  {
   "cell_type": "markdown",
   "metadata": {},
   "source": []
  },
  {
   "cell_type": "code",
   "execution_count": 106,
   "metadata": {},
   "outputs": [
    {
     "data": {
      "image/png": "[encoded data removed]",
      "text/plain": [
       "<Figure size 432x288 with 1 Axes>"
      ]
     },
     "metadata": {},
     "output_type": "display_data"
    }
   ],
   "source": [
    "x = np.random.randint(10,100,5)\n",
    "plt.pie(x,autopct = \"%.1f%%\") #.1f는 소수점 첫째 자리까지 퍼센트 표현하겠다는 의미, .2f 하면 소숫점 둘째자리 \n",
    "plt.show()"
   ]
  },
  {
   "cell_type": "code",
   "execution_count": 117,
   "metadata": {},
   "outputs": [
    {
     "data": {
      "image/png": "[encoded data removed]",
      "text/plain": [
       "<Figure size 432x288 with 1 Axes>"
      ]
     },
     "metadata": {},
     "output_type": "display_data"
    }
   ],
   "source": [
    "x = np.random.randint(10,100,5)\n",
    "labels = [\"A\",\"B\",\"C\", \"D\", \"E\"]\n",
    "plt.pie(x,autopct = \"%.1f%%\", labels=labels)\n",
    "plt.show()"
   ]
  },
  {
   "cell_type": "markdown",
   "metadata": {},
   "source": [
    "counterclock = True 은 시계방향으로 돌려준다. "
   ]
  },
  {
   "cell_type": "code",
   "execution_count": 118,
   "metadata": {},
   "outputs": [
    {
     "data": {
      "image/png": "[encoded data removed]",
      "text/plain": [
       "<Figure size 432x288 with 1 Axes>"
      ]
     },
     "metadata": {},
     "output_type": "display_data"
    }
   ],
   "source": [
    "x = np.random.randint(10,100,5)\n",
    "labels = [\"B\",\"A\",\"C\", \"D\", \"E\"]\n",
    "plt.pie(x,autopct = \"%.1f%%\", labels=labels,counterclock = True)\n",
    "\n",
    "plt.show()"
   ]
  },
  {
   "cell_type": "markdown",
   "metadata": {},
   "source": [
    "startangle 은 시작값을 정해주는 옵션이다. "
   ]
  },
  {
   "cell_type": "code",
   "execution_count": 119,
   "metadata": {},
   "outputs": [
    {
     "data": {
      "image/png": "[encoded data removed]",
      "text/plain": [
       "<Figure size 432x288 with 1 Axes>"
      ]
     },
     "metadata": {},
     "output_type": "display_data"
    }
   ],
   "source": [
    "plt.pie(x,autopct = \"%.1f%%\", labels=labels , startangle= 180 )\n",
    "plt.show()"
   ]
  },
  {
   "cell_type": "markdown",
   "metadata": {},
   "source": [
    "explods 는 거리를 벌려준다. \n"
   ]
  },
  {
   "cell_type": "code",
   "execution_count": 127,
   "metadata": {},
   "outputs": [
    {
     "data": {
      "image/png": "[encoded data removed]",
      "text/plain": [
       "<Figure size 432x288 with 1 Axes>"
      ]
     },
     "metadata": {},
     "output_type": "display_data"
    }
   ],
   "source": [
    "explodes = (0, 0.10, 0.20, 0, 0) \n",
    "plt.pie(x,autopct = \"%.1f%%\", labels=labels , startangle= 180,explode= explodes )\n",
    "plt.show()"
   ]
  },
  {
   "cell_type": "markdown",
   "metadata": {},
   "source": [
    "### 랜덤 값 설정 후 플롯 만들고 축 틱 조절하기 "
   ]
  },
  {
   "cell_type": "code",
   "execution_count": 130,
   "metadata": {},
   "outputs": [
    {
     "name": "stdout",
     "output_type": "stream",
     "text": [
      "[ 1.  2.  3.  4.  5.  6.  7.  8.  9. 10.]\n",
      "[0.51440206 0.60893015 0.83321249 0.32375058 0.98886209 0.99495026\n",
      " 0.82615082 0.69415255 0.7336698  0.87526881]\n"
     ]
    }
   ],
   "source": [
    "x = np.linspace(1, 10, 10)\n",
    "print(x)\n",
    "\n",
    "y=np.random.rand(10)\n",
    "print(y)"
   ]
  },
  {
   "cell_type": "code",
   "execution_count": 131,
   "metadata": {},
   "outputs": [
    {
     "data": {
      "text/plain": [
       "[<matplotlib.lines.Line2D at 0x21da00ece80>]"
      ]
     },
     "execution_count": 131,
     "metadata": {},
     "output_type": "execute_result"
    },
    {
     "data": {
      "image/png": "[encoded data removed]",
      "text/plain": [
       "<Figure size 432x288 with 1 Axes>"
      ]
     },
     "metadata": {
      "needs_background": "light"
     },
     "output_type": "display_data"
    }
   ],
   "source": [
    "plt.plot(x,y)"
   ]
  },
  {
   "cell_type": "markdown",
   "metadata": {},
   "source": [
    "잘 나오긴 하는데 x 값을 지정해주고 싶다면? \n"
   ]
  },
  {
   "cell_type": "code",
   "execution_count": 132,
   "metadata": {},
   "outputs": [
    {
     "data": {
      "image/png": "[encoded data removed]",
      "text/plain": [
       "<Figure size 432x288 with 1 Axes>"
      ]
     },
     "metadata": {
      "needs_background": "light"
     },
     "output_type": "display_data"
    }
   ],
   "source": [
    "plt. plot(x,y)\n",
    "plt.xticks([0,10,1,0])\n",
    "plt.show()"
   ]
  },
  {
   "cell_type": "markdown",
   "metadata": {},
   "source": [
    "깔금한 x축을 원한다면 arnge를 쓰자 "
   ]
  },
  {
   "cell_type": "code",
   "execution_count": 134,
   "metadata": {},
   "outputs": [
    {
     "data": {
      "image/png": "[encoded data removed]",
      "text/plain": [
       "<Figure size 432x288 with 1 Axes>"
      ]
     },
     "metadata": {
      "needs_background": "light"
     },
     "output_type": "display_data"
    }
   ],
   "source": [
    "plt. plot(x,y)\n",
    "plt.xticks(np.arange(0, 10, 1.0))\n",
    "plt.show()"
   ]
  },
  {
   "cell_type": "code",
   "execution_count": 147,
   "metadata": {},
   "outputs": [
    {
     "data": {
      "image/png": "[encoded data removed]",
      "text/plain": [
       "<Figure size 432x288 with 1 Axes>"
      ]
     },
     "metadata": {
      "needs_background": "light"
     },
     "output_type": "display_data"
    }
   ],
   "source": [
    "plt. plot(x,y)\n",
    "plt.xticks(np.arange(min(x),max(x)+1, 1.0))\n",
    "plt.yticks(np.arange(min(y),max(y)+0.1,0.1)) \n",
    "plt.xlabel(\"X\")\n",
    "plt.ylabel(\"Y\")\n",
    "plt.legend(\"X\")\n",
    "plt.grid() #격자무늬 생성\n",
    "\n",
    "plt.show()"
   ]
  },
  {
   "cell_type": "markdown",
   "metadata": {},
   "source": [
    "랜덤값이어서 그래프의 분포(밀집)에 따라 소수점 자리수는 바뀌는 듯 하다. "
   ]
  },
  {
   "cell_type": "markdown",
   "metadata": {},
   "source": [
    "## 수평형 그래프 \n",
    "x와 y 값을 반대로 줘야 한다. \n",
    "y값이 기준이고 x값이 세로축이 될 것이다. "
   ]
  },
  {
   "cell_type": "code",
   "execution_count": 150,
   "metadata": {},
   "outputs": [
    {
     "data": {
      "text/plain": [
       "(array([0.37289288, 0.09587331, 0.19696432, 0.94242061, 0.37127117,\n",
       "        0.7290008 , 0.12616011, 0.25128292, 0.8812353 , 0.90329615]),\n",
       " array([ 1.,  2.,  3.,  4.,  5.,  6.,  7.,  8.,  9., 10.]))"
      ]
     },
     "execution_count": 150,
     "metadata": {},
     "output_type": "execute_result"
    }
   ],
   "source": [
    "y = np.linspace(1,10,10)\n",
    "x = np.random.rand(10)\n",
    "x,y"
   ]
  },
  {
   "cell_type": "code",
   "execution_count": 151,
   "metadata": {},
   "outputs": [
    {
     "data": {
      "text/plain": [
       "<BarContainer object of 10 artists>"
      ]
     },
     "execution_count": 151,
     "metadata": {},
     "output_type": "execute_result"
    },
    {
     "data": {
      "image/png": "[encoded data removed]",
      "text/plain": [
       "<Figure size 432x288 with 1 Axes>"
      ]
     },
     "metadata": {
      "needs_background": "light"
     },
     "output_type": "display_data"
    }
   ],
   "source": [
    "plt.barh(y,x)"
   ]
  },
  {
   "cell_type": "markdown",
   "metadata": {},
   "source": [
    "그림을 저장하고 싶다면 \n",
    "plt.barh(y,x)\n",
    "plt.savefig('test.png', dpi=200 ) \n",
    "이렇게 적으면 된다. dpi 기본값은 100이므로, 좋은 화질을 얻고 싶다면 200~300정도 준다. 300이면 책 표지로 인쇄할 수 있는 수준 정도. \n",
    " 비트맵으로 저장하고 싶으면 비트맵으로 하면된다. "
   ]
  },
  {
   "cell_type": "code",
   "execution_count": null,
   "metadata": {},
   "outputs": [],
   "source": []
  }
 ],
 "metadata": {
  "interpreter": {
   "hash": "6d9aeff0c4cb62f006bcee5d924029c89375552da6e18543b57335e832e7bb6d"
  },
  "kernelspec": {
   "display_name": "Python 3.10.2 64-bit",
   "language": "python",
   "name": "python3"
  },
  "language_info": {
   "codemirror_mode": {
    "name": "ipython",
    "version": 3
   },
   "file_extension": ".py",
   "mimetype": "text/x-python",
   "name": "python",
   "nbconvert_exporter": "python",
   "pygments_lexer": "ipython3",
   "version": "3.10.2"
  },
  "orig_nbformat": 4
 },
 "nbformat": 4,
 "nbformat_minor": 2
}
