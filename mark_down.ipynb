{
 "cells": [
  {
   "cell_type": "code",
   "execution_count": null,
   "metadata": {},
   "outputs": [],
   "source": []
  },
  {
   "cell_type": "markdown",
   "metadata": {},
   "source": [
    "제목 \n",
    "=\n",
    "\n",
    "\n",
    "\n",
    "부제목 \n",
    "-\n",
    "\n",
    "\n",
    "# 목차 1\n",
    "## 목차 2\n",
    "### 목차 3\n",
    "#### 목차 4\n",
    "##### 목차 5\n",
    "###### 목차 6 \n",
    "\n",
    "\n",
    "> 인용문 \n",
    ">   > 인용문 2 \n",
    ">   >   > 인용문 3\n"
   ]
  },
  {
   "cell_type": "markdown",
   "metadata": {},
   "source": [
    "# list \n",
    "\n",
    "1. 리스트 1\n",
    "2. 리스트 2\n",
    "3. 리스트 3\n",
    "\n",
    "-  리스트 1\n",
    "    -  리스트 2\n",
    "        -  리스트 3\n",
    "\n",
    "* 리스트 1 \n",
    "+ 리스트 1\n",
    "\n",
    "\n",
    "``` 코드 ``` "
   ]
  },
  {
   "cell_type": "markdown",
   "metadata": {},
   "source": [
    "# code \n",
    "\n",
    "        i = 0\n",
    "        #들여쓰기 두 번 하고 코드 입력\n",
    "\n",
    "\n",
    "``` i = 0 ```\n",
    "\n",
    "\n",
    "``` python\n",
    "i = 0\n",
    "i + 1\n",
    "print(i)\n",
    "```\n",
    "\n",
    "\n",
    "\n",
    "``` python  <- 파이썬으로 코드를 치겠다는 것, 인식이 이렇게 된다.  \n",
    "\n",
    "#누가 어떻게 여느냐에 따라 보여지는 것이 다르다. "
   ]
  },
  {
   "cell_type": "markdown",
   "metadata": {},
   "source": [
    "## 수평선 \n",
    "-------\n",
    "\n",
    "\n",
    "***********\n"
   ]
  },
  {
   "cell_type": "code",
   "execution_count": null,
   "metadata": {},
   "outputs": [],
   "source": []
  },
  {
   "cell_type": "markdown",
   "metadata": {},
   "source": [
    "## 링크 \n",
    "\n",
    "[google][https://www.google.co.kr]\n",
    "\n",
    "\n",
    "[googlelink] : https://www.google.com\n",
    "\n",
    "\n",
    "![Alt text](https://t1.daumcdn.net/cfile/tistory/24283C3858F778CA2E) \n",
    "#이 경우 사이즈 조절이 어렵다. \n",
    "\n",
    "<img src = \"https://t1.daumcdn.net/cfile/tistory/24283C3858F778CA2E\" width = 40% >\n",
    "\n"
   ]
  },
  {
   "cell_type": "markdown",
   "metadata": {},
   "source": []
  }
 ],
 "metadata": {
  "interpreter": {
   "hash": "6d9aeff0c4cb62f006bcee5d924029c89375552da6e18543b57335e832e7bb6d"
  },
  "kernelspec": {
   "display_name": "Python 3.10.2 64-bit",
   "language": "python",
   "name": "python3"
  },
  "language_info": {
   "name": "python",
   "version": "3.10.2"
  },
  "orig_nbformat": 4
 },
 "nbformat": 4,
 "nbformat_minor": 2
}
